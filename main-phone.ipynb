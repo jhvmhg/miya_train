{
 "cells": [
  {
   "cell_type": "code",
   "execution_count": 1,
   "metadata": {},
   "outputs": [],
   "source": [
    "import os\n",
    "import random\n",
    "from io import open\n",
    "import unicodedata\n",
    "import string\n",
    "import re\n",
    "\n",
    "import torch\n",
    "import torchaudio\n",
    "import numpy as np\n",
    "import matplotlib.pyplot as plt\n",
    "from torch.utils.data import Dataset, DataLoader\n",
    "from torch import nn\n",
    "from torch import optim\n",
    "import torch.nn.functional as F\n",
    "from torch.nn.utils.rnn import pack_padded_sequence, pad_packed_sequence\n",
    "from pathlib import Path\n",
    "import kaldi_io\n",
    "import math\n",
    "import torch.utils.data as Data\n",
    "\n",
    "from lib.Data_show import Data_show\n",
    "from lib.Phone_cla_Dataset import Phone_cla_Dataset\n",
    "from lib.Decoder import Decoder\n",
    "from collections import Counter\n",
    "\n",
    "%matplotlib inline\n"
   ]
  },
  {
   "cell_type": "code",
   "execution_count": 2,
   "metadata": {},
   "outputs": [],
   "source": [
    "os.environ[\"CUDA_VISIBLE_DEVICES\"]=\"3\"\n",
    "device = torch.device(\"cuda:0\" if torch.cuda.is_available() else \"cpu\")"
   ]
  },
  {
   "cell_type": "markdown",
   "metadata": {},
   "source": [
    "## 加载数据SLR85训练集"
   ]
  },
  {
   "cell_type": "code",
   "execution_count": 4,
   "metadata": {},
   "outputs": [],
   "source": [
    "SLR_feats = { u:d for u,d in kaldi_io.read_mat_scp(\"/home1/meichaoyang/Dataset/feats/SLR85/hifi_16k/train/feats.scp\") }\n",
    "SLR_feats_dev = { u:d for u,d in kaldi_io.read_mat_scp(\"/home1/meichaoyang/Dataset/feats/SLR85/hifi_16k/dev/feats.scp\") }"
   ]
  },
  {
   "cell_type": "code",
   "execution_count": 5,
   "metadata": {},
   "outputs": [],
   "source": [
    "phone_label = { u:d for u,d in kaldi_io.read_vec_int_ark(\"feats/ali.1.ph\") }"
   ]
  },
  {
   "cell_type": "code",
   "execution_count": null,
   "metadata": {},
   "outputs": [],
   "source": [
    "feats_head_300k = { u:d for u,d in kaldi_io.read_mat_scp(\"../../wake_up_align_44_1k/train_fbank/feats_head_300000.scp\") }\n",
    "feats_mid_300k = { u:d for u,d in kaldi_io.read_mat_scp(\"../../wake_up_align_44_1k/train_fbank/feats_mid_300000.scp\") }\n",
    "feats_tail_300k = { u:d for u,d in kaldi_io.read_mat_scp(\"../../wake_up_align_44_1k/train_fbank/feats_tail_300000.scp\") }"
   ]
  },
  {
   "cell_type": "code",
   "execution_count": 7,
   "metadata": {},
   "outputs": [],
   "source": [
    "feats = { u:d for u,d in kaldi_io.read_mat_scp(\"../../git/phone_align_more_44k/train_fbank/feats.scp\") }"
   ]
  },
  {
   "cell_type": "code",
   "execution_count": 41,
   "metadata": {},
   "outputs": [],
   "source": [
    "feats_new={}\n",
    "for key,values in feats.items():\n",
    "    if \"SV\" not in key:\n",
    "        if random.random() < 0.3:\n",
    "            feats_new[key] = values\n",
    "feat_train = {**feats_new, **SLR_feats}"
   ]
  },
  {
   "cell_type": "code",
   "execution_count": 42,
   "metadata": {},
   "outputs": [
    {
     "data": {
      "text/plain": [
       "46921"
      ]
     },
     "execution_count": 42,
     "metadata": {},
     "output_type": "execute_result"
    }
   ],
   "source": [
    "len(feat_train)"
   ]
  },
  {
   "cell_type": "code",
   "execution_count": 43,
   "metadata": {},
   "outputs": [
    {
     "data": {
      "text/plain": [
       "26654"
      ]
     },
     "execution_count": 43,
     "metadata": {},
     "output_type": "execute_result"
    }
   ],
   "source": [
    "len(feats_new)"
   ]
  },
  {
   "cell_type": "code",
   "execution_count": 44,
   "metadata": {},
   "outputs": [
    {
     "data": {
      "text/plain": [
       "array([  1,   1, 128, 128, 128,  62,  62,  62,  60,  60,  60,  60,  60,\n",
       "        26,  26,  26,  26,  26,  26,  26,  26,  26,  26,   1,   1,   1,\n",
       "         1, 127, 127, 127,  63,  63,  63,  63,  91,  91,  68,  68,  68,\n",
       "        68,  68,  68,   1,   1,   1,   1])"
      ]
     },
     "execution_count": 44,
     "metadata": {},
     "output_type": "execute_result"
    }
   ],
   "source": [
    "phone_label[\"SV0255_7_01_S3881\"]"
   ]
  },
  {
   "cell_type": "code",
   "execution_count": 13,
   "metadata": {},
   "outputs": [
    {
     "data": {
      "text/plain": [
       "<lib.Data_show.Data_show at 0x7f0965029b38>"
      ]
     },
     "execution_count": 13,
     "metadata": {},
     "output_type": "execute_result"
    }
   ],
   "source": [
    "Data_show({1:0, 128:1, 62:2, 60:3, 26:4, 127:5, 63:6, 91:7, 68:8})"
   ]
  },
  {
   "cell_type": "code",
   "execution_count": 45,
   "metadata": {},
   "outputs": [],
   "source": [
    "train_dataset = Phone_cla_Dataset(phone_label, feat_train)"
   ]
  },
  {
   "cell_type": "code",
   "execution_count": 46,
   "metadata": {},
   "outputs": [],
   "source": [
    "dev_dataset = Phone_cla_Dataset(phone_label, SLR_feats_dev)"
   ]
  },
  {
   "cell_type": "code",
   "execution_count": 47,
   "metadata": {},
   "outputs": [
    {
     "data": {
      "text/plain": [
       "3360"
      ]
     },
     "execution_count": 47,
     "metadata": {},
     "output_type": "execute_result"
    }
   ],
   "source": [
    "len(dev_dataset)"
   ]
  },
  {
   "cell_type": "code",
   "execution_count": 48,
   "metadata": {},
   "outputs": [
    {
     "name": "stdout",
     "output_type": "stream",
     "text": [
      "(12391008,)\n",
      "(12391008, 40)\n"
     ]
    }
   ],
   "source": [
    "print(train_dataset.phone_label_nd.shape)\n",
    "print(train_dataset.feats_nd.shape)"
   ]
  },
  {
   "cell_type": "code",
   "execution_count": 49,
   "metadata": {},
   "outputs": [],
   "source": [
    "train_data = torch.Tensor(train_dataset.feats_nd).to(device)\n",
    "train_label = torch.LongTensor(train_dataset.phone_label_nd).to(device)\n",
    "dev_data = torch.Tensor(dev_dataset.feats_nd).to(device)\n",
    "dev_label = torch.LongTensor(dev_dataset.phone_label_nd).to(device)"
   ]
  },
  {
   "cell_type": "code",
   "execution_count": 50,
   "metadata": {},
   "outputs": [
    {
     "name": "stdout",
     "output_type": "stream",
     "text": [
      "Counter(data)\n",
      " Counter({9: 6749608, 0: 2871882, 8: 644661, 4: 422730, 1: 375609, 3: 359376, 6: 345714, 7: 261774, 5: 224106, 2: 135548})\n"
     ]
    }
   ],
   "source": [
    "print('Counter(data)\\n',Counter(train_dataset.phone_label_nd))"
   ]
  },
  {
   "cell_type": "markdown",
   "metadata": {},
   "source": [
    "# 模型搭建"
   ]
  },
  {
   "cell_type": "code",
   "execution_count": 51,
   "metadata": {},
   "outputs": [],
   "source": [
    "class DNN(nn.Module):\n",
    "    def __init__(self, input_size, num_classes):\n",
    "        super().__init__()\n",
    "        self.fc1 = nn.Linear(input_size, 128)\n",
    "        self.fc2 = nn.Linear(128, 128)\n",
    "        self.fc3 = nn.Linear(128, 128)\n",
    "        self.fc4 = nn.Linear(128, 128)\n",
    "        self.fc5 = nn.Linear(128, num_classes)\n",
    "\n",
    "\n",
    "    def forward(self, input):\n",
    "        x = torch.sigmoid(self.fc1(input))\n",
    "        x = torch.sigmoid(self.fc2(x))\n",
    "        x = torch.sigmoid(self.fc3(x))\n",
    "        x = torch.sigmoid(self.fc4(x))\n",
    "        x = self.fc5(x)\n",
    "        \n",
    "        return x"
   ]
  },
  {
   "cell_type": "markdown",
   "metadata": {},
   "source": [
    "## 训练迭代"
   ]
  },
  {
   "cell_type": "code",
   "execution_count": 78,
   "metadata": {},
   "outputs": [],
   "source": [
    "LEARNING_RATE = 0.001  #0.001\n",
    "EPOCH = 10      #400 best\n",
    "BATCH_SIZE = 150\n",
    "input_size=40\n",
    "num_classes=10"
   ]
  },
  {
   "cell_type": "code",
   "execution_count": 79,
   "metadata": {},
   "outputs": [
    {
     "name": "stdout",
     "output_type": "stream",
     "text": [
      "torch.Size([12391008, 40])\n",
      "torch.Size([12391008])\n"
     ]
    }
   ],
   "source": [
    "print(train_data.shape)\n",
    "print(train_label.shape)"
   ]
  },
  {
   "cell_type": "code",
   "execution_count": null,
   "metadata": {},
   "outputs": [
    {
     "name": "stdout",
     "output_type": "stream",
     "text": [
      "total_loss: 1.088012345403433 \tloss: 0.9030971527099609\n",
      "total_loss: 0.8672060132324696 \tloss: 0.9089928269386292\n",
      "total_loss: 0.829487093180418 \tloss: 0.7300177812576294\n",
      "total_loss: 0.7817974606305361 \tloss: 0.9302864670753479\n",
      "total_loss: 0.7577167164832354 \tloss: 0.7709261775016785\n",
      "total_loss: 0.7375916499942541 \tloss: 0.7058442831039429\n",
      "total_loss: 0.719573468491435 \tloss: 0.5505875945091248\n",
      "total_loss: 0.6957471581846476 \tloss: 0.6818448901176453\n",
      "total_loss: 0.6876599763631821 \tloss: 0.5248100757598877\n",
      "total_loss: 0.677106169745326 \tloss: 0.641268253326416\n",
      "total_loss: 0.6681067259162664 \tloss: 0.6495600342750549\n",
      "total_loss: 0.663715070053935 \tloss: 0.7020452618598938\n",
      "total_loss: 0.656351369008422 \tloss: 0.7155068516731262\n",
      "total_loss: 0.6569087934941054 \tloss: 0.7084497809410095\n",
      "total_loss: 0.6544713697433472 \tloss: 0.579433023929596\n",
      "total_loss: 0.6557699773907661 \tloss: 0.6422834396362305\n",
      "total_loss: 0.6490264546722174 \tloss: 0.5124652981758118\n",
      "total_loss: 0.6481849453598261 \tloss: 0.8163573145866394\n",
      "total_loss: 0.6535356382280588 \tloss: 0.5696594715118408\n",
      "total_loss: 0.6424534453898668 \tloss: 0.5840649604797363\n",
      "total_loss: 0.6446445288211107 \tloss: 0.6284101009368896\n",
      "total_loss: 0.6446439282596111 \tloss: 0.5096343755722046\n",
      "total_loss: 0.6441890100836754 \tloss: 0.5125617980957031\n",
      "total_loss: 0.634623983412981 \tloss: 0.678885281085968\n",
      "total_loss: 0.6409475993514061 \tloss: 0.8031785488128662\n",
      "total_loss: 0.6347423568814993 \tloss: 0.5572034120559692\n",
      "total_loss: 0.635409181252122 \tloss: 0.5857265591621399\n",
      "total_loss: 0.6362997723817825 \tloss: 0.5330806374549866\n",
      "total_loss: 0.6318579799532891 \tloss: 0.7432379126548767\n",
      "total_loss: 0.6291259977221489 \tloss: 0.5733176469802856\n",
      "total_loss: 0.625506530314684 \tloss: 0.6032661199569702\n",
      "total_loss: 0.6280567429512739 \tloss: 0.634586751461029\n",
      "total_loss: 0.6256110861301422 \tloss: 0.6989235877990723\n",
      "total_loss: 0.6275465647727251 \tloss: 0.6564714312553406\n",
      "total_loss: 0.6244057966172695 \tloss: 0.5557859539985657\n",
      "total_loss: 0.6254415866285562 \tloss: 0.529735267162323\n",
      "total_loss: 0.6277267134785652 \tloss: 0.4741203784942627\n",
      "total_loss: 0.625043974801898 \tloss: 0.6027208566665649\n",
      "total_loss: 0.6227600466310977 \tloss: 0.5496024489402771\n",
      "total_loss: 0.6235900391936302 \tloss: 0.6067444682121277\n",
      "total_loss: 0.6232531098127365 \tloss: 0.6580268144607544\n",
      "Epoch   0 Accuracy on training data: 80% (9984768/12391008)\n",
      "          Accuracy on testing data: 38% (167895/441690)\n"
     ]
    }
   ],
   "source": [
    "training_set = Data.TensorDataset(train_data,\n",
    "                                  train_label)\n",
    "training_loader = Data.DataLoader(dataset=training_set,\n",
    "                                      batch_size=BATCH_SIZE,\n",
    "                                      shuffle=True)\n",
    "testing_set = Data.TensorDataset(dev_data,\n",
    "                                 dev_label)\n",
    "testing_loader = Data.DataLoader(dataset=testing_set,\n",
    "                                     batch_size=BATCH_SIZE,\n",
    "                                     shuffle=False)\n",
    "model = DNN(input_size, num_classes).to(device)\n",
    "criterion = nn.CrossEntropyLoss(weight=torch.tensor([3.5,3.0,3.0,2.5,2.5,5,2.0,2.5,1.5,1.0]).to(device))\n",
    "\n",
    "optim = torch.optim.Adam(model.parameters(), lr=LEARNING_RATE)\n",
    "for epoch in range(EPOCH):\n",
    "    correct_train = 0\n",
    "    total_train = 0\n",
    "    \n",
    "    total_loss = 0\n",
    "    ite = 0\n",
    "    print_every = 2000\n",
    "    for (data, label) in training_loader:\n",
    "        ite +=1\n",
    "        data = data\n",
    "        label = label\n",
    "        pred_label = model(data)\n",
    "        loss = criterion(pred_label, label)\n",
    "        optim.zero_grad()\n",
    "        loss.backward()\n",
    "        total_loss += loss.item()\n",
    "        optim.step()\n",
    "        _, answer = torch.max(pred_label.data, 1)\n",
    "        total_train += label.size(0)\n",
    "        correct_train += (answer == label).sum()\n",
    "        if ite % print_every == 0:\n",
    "            print(\"total_loss:\",total_loss/print_every, \"\\tloss:\",loss.item())\n",
    "            total_loss=0\n",
    "    print('Epoch {:3d} Accuracy on training data: {}% ({}/{})'\n",
    "          .format(epoch, (100 * correct_train / total_train), correct_train, total_train))\n",
    "    # pytorch 0.4 feature, not calculate grad on test set\n",
    "    with torch.no_grad():\n",
    "        correct_test = 0\n",
    "        total_test = 0\n",
    "        for (data, label) in testing_loader:\n",
    "            pred_label = model(data)\n",
    "            _, answer = torch.max(pred_label.data, 1)\n",
    "            total_test += label.size(0)\n",
    "            correct_test += (answer == label).sum()\n",
    "        print('          Accuracy on testing data: {}% ({}/{})'\n",
    "              .format((100 * correct_test / total_test), correct_test, total_test))\n",
    "\n"
   ]
  },
  {
   "cell_type": "markdown",
   "metadata": {},
   "source": [
    "### 预测"
   ]
  },
  {
   "cell_type": "code",
   "execution_count": null,
   "metadata": {},
   "outputs": [],
   "source": [
    "# model = torch.load('model.pkl')\n",
    "# model.to(device)"
   ]
  },
  {
   "cell_type": "code",
   "execution_count": 59,
   "metadata": {},
   "outputs": [
    {
     "data": {
      "text/plain": [
       "dict_keys(['miya_mcy', 'miya_mcy1', 'miya_mingzhang', 'miya_mingzhang1'])"
      ]
     },
     "execution_count": 59,
     "metadata": {},
     "output_type": "execute_result"
    }
   ],
   "source": [
    "test_feats = { u:d for u,d in kaldi_io.read_mat_scp(\"/home1/meichaoyang/workspace/align_44_1k/test_feat/feats.scp\")}\n",
    "test_feats.keys()"
   ]
  },
  {
   "cell_type": "code",
   "execution_count": 60,
   "metadata": {},
   "outputs": [],
   "source": [
    "feat = test_feats[\"miya_mcy1\"]\n",
    "feats_list = []\n",
    "for i in range(20,feat.shape[0]-9):\n",
    "    input_data=feat[i-20:i+10].reshape(1,-1)\n",
    "    feats_list.append(input_data)\n",
    "feats_nd = np.concatenate(tuple(feats_list))"
   ]
  },
  {
   "cell_type": "code",
   "execution_count": 61,
   "metadata": {},
   "outputs": [],
   "source": [
    "i=30\n",
    "input_feat = feat[i-20:i+10].reshape(1,-1)"
   ]
  },
  {
   "cell_type": "code",
   "execution_count": 63,
   "metadata": {},
   "outputs": [],
   "source": [
    "# test_feats = { u:d for u,d in kaldi_io.read_mat_scp(\"/home1/meichaoyang/workspace/align_44_1k/test_feat/feats.scp\")}\n",
    "\n",
    "pred_label = model(torch.Tensor(test_feats[\"miya_mingzhang1\"]).to(device))\n",
    "_, answer = torch.max(pred_label.data, 1)\n",
    "answer_list=list(answer.to(\"cpu\", torch.int).numpy())"
   ]
  },
  {
   "cell_type": "code",
   "execution_count": 448,
   "metadata": {},
   "outputs": [
    {
     "ename": "KeyError",
     "evalue": "'SV0252_7_01_S3887'",
     "output_type": "error",
     "traceback": [
      "\u001b[0;31m---------------------------------------------------------------------------\u001b[0m",
      "\u001b[0;31mKeyError\u001b[0m                                  Traceback (most recent call last)",
      "\u001b[0;32m<ipython-input-448-9b0322d89869>\u001b[0m in \u001b[0;36m<module>\u001b[0;34m\u001b[0m\n\u001b[1;32m      4\u001b[0m \u001b[0;34m\u001b[0m\u001b[0m\n\u001b[1;32m      5\u001b[0m \u001b[0;31m# label_list = list(phone_label_dev[utt])\u001b[0m\u001b[0;34m\u001b[0m\u001b[0;34m\u001b[0m\u001b[0;34m\u001b[0m\u001b[0m\n\u001b[0;32m----> 6\u001b[0;31m \u001b[0mpred_label\u001b[0m \u001b[0;34m=\u001b[0m \u001b[0mmodel\u001b[0m\u001b[0;34m(\u001b[0m\u001b[0mtorch\u001b[0m\u001b[0;34m.\u001b[0m\u001b[0mTensor\u001b[0m\u001b[0;34m(\u001b[0m\u001b[0mSLR_feats_dev\u001b[0m\u001b[0;34m[\u001b[0m\u001b[0mutt\u001b[0m\u001b[0;34m]\u001b[0m\u001b[0;34m)\u001b[0m\u001b[0;34m)\u001b[0m \u001b[0;31m#.to(device)\u001b[0m\u001b[0;34m\u001b[0m\u001b[0;34m\u001b[0m\u001b[0m\n\u001b[0m\u001b[1;32m      7\u001b[0m \u001b[0m_\u001b[0m\u001b[0;34m,\u001b[0m \u001b[0manswer\u001b[0m \u001b[0;34m=\u001b[0m \u001b[0mtorch\u001b[0m\u001b[0;34m.\u001b[0m\u001b[0mmax\u001b[0m\u001b[0;34m(\u001b[0m\u001b[0mpred_label\u001b[0m\u001b[0;34m.\u001b[0m\u001b[0mdata\u001b[0m\u001b[0;34m,\u001b[0m \u001b[0;36m1\u001b[0m\u001b[0;34m)\u001b[0m\u001b[0;34m\u001b[0m\u001b[0;34m\u001b[0m\u001b[0m\n\u001b[1;32m      8\u001b[0m \u001b[0manswer_list\u001b[0m\u001b[0;34m=\u001b[0m\u001b[0mlist\u001b[0m\u001b[0;34m(\u001b[0m\u001b[0manswer\u001b[0m\u001b[0;34m.\u001b[0m\u001b[0mto\u001b[0m\u001b[0;34m(\u001b[0m\u001b[0;34m\"cpu\"\u001b[0m\u001b[0;34m,\u001b[0m \u001b[0mtorch\u001b[0m\u001b[0;34m.\u001b[0m\u001b[0mint\u001b[0m\u001b[0;34m)\u001b[0m\u001b[0;34m.\u001b[0m\u001b[0mnumpy\u001b[0m\u001b[0;34m(\u001b[0m\u001b[0;34m)\u001b[0m\u001b[0;34m)\u001b[0m\u001b[0;34m\u001b[0m\u001b[0;34m\u001b[0m\u001b[0m\n",
      "\u001b[0;31mKeyError\u001b[0m: 'SV0252_7_01_S3887'"
     ]
    }
   ],
   "source": [
    "utt='SV0252_7_01_S3887'\n",
    "# utt=\"SV0255_7_01_S3881\"\n",
    "# utt=list(phone_label.keys())[110]\n",
    "\n",
    "# label_list = list(phone_label_dev[utt])\n",
    "pred_label = model(torch.Tensor(SLR_feats_dev[utt])) #.to(device)\n",
    "_, answer = torch.max(pred_label.data, 1)\n",
    "answer_list=list(answer.to(\"cpu\", torch.int).numpy())"
   ]
  },
  {
   "cell_type": "code",
   "execution_count": 438,
   "metadata": {},
   "outputs": [],
   "source": [
    "utt=list(feats_aishell.keys())[110]\n",
    "\n",
    "label_list = list(feats_aishell[utt])\n",
    "pred_label = model(torch.Tensor(feats_aishell[utt]))#.to(device)\n",
    "_, answer = torch.max(pred_label.data, 1)\n",
    "answer_list=list(answer.to(\"cpu\", torch.int).numpy())"
   ]
  },
  {
   "cell_type": "markdown",
   "metadata": {},
   "source": [
    "## 将预测结果映射"
   ]
  },
  {
   "cell_type": "code",
   "execution_count": 65,
   "metadata": {},
   "outputs": [
    {
     "name": "stderr",
     "output_type": "stream",
     "text": [
      "/home1/meichaoyang/anaconda3/lib/python3.7/site-packages/ipykernel_launcher.py:1: UserWarning: Implicit dimension choice for softmax has been deprecated. Change the call to include dim=X as an argument.\n",
      "  \"\"\"Entry point for launching an IPython kernel.\n"
     ]
    }
   ],
   "source": [
    "title, content = Data_show().show_softmax(torch.nn.Softmax()(pred_label))"
   ]
  },
  {
   "cell_type": "code",
   "execution_count": 66,
   "metadata": {},
   "outputs": [
    {
     "name": "stdout",
     "output_type": "stream",
     "text": [
      "\tsil\tnsn\tn\ti2\th\tao3\tm\ti3\tii\tia3\tother\n",
      " \n",
      " 0:\t0.92\t0.07\t0.00\t0.00\t0.00\t0.01\t0.00\t0.00\t0.00\t0.00\t\n",
      "1:\t0.92\t0.07\t0.00\t0.00\t0.00\t0.01\t0.00\t0.00\t0.00\t0.00\t\n",
      "2:\t0.92\t0.06\t0.00\t0.00\t0.00\t0.01\t0.00\t0.00\t0.00\t0.02\t\n",
      "3:\t0.92\t0.06\t0.00\t0.00\t0.00\t0.01\t0.00\t0.00\t0.01\t0.01\t\n",
      "4:\t0.91\t0.06\t0.00\t0.00\t0.00\t0.01\t0.00\t0.00\t0.01\t0.00\t\n",
      "5:\t0.86\t0.04\t0.00\t0.00\t0.01\t0.01\t0.00\t0.00\t0.00\t0.08\t\n",
      "6:\t0.84\t0.01\t0.00\t0.00\t0.00\t0.01\t0.00\t0.00\t0.00\t0.15\t\n",
      "7:\t0.84\t0.05\t0.00\t0.00\t0.00\t0.01\t0.00\t0.00\t0.05\t0.04\t\n",
      "8:\t0.93\t0.05\t0.00\t0.00\t0.00\t0.01\t0.00\t0.00\t0.01\t0.00\t\n",
      "9:\t0.90\t0.05\t0.00\t0.00\t0.00\t0.01\t0.00\t0.00\t0.02\t0.02\t\n",
      "10:\t0.92\t0.05\t0.00\t0.00\t0.00\t0.01\t0.00\t0.00\t0.02\t0.00\t\n",
      "11:\t0.91\t0.07\t0.00\t0.00\t0.00\t0.01\t0.00\t0.00\t0.00\t0.01\t\n",
      "12:\t0.90\t0.03\t0.00\t0.00\t0.00\t0.01\t0.00\t0.00\t0.00\t0.05\t\n",
      "13:\t0.91\t0.08\t0.00\t0.00\t0.00\t0.01\t0.00\t0.00\t0.00\t0.00\t\n",
      "14:\t0.92\t0.04\t0.00\t0.00\t0.01\t0.01\t0.00\t0.00\t0.00\t0.02\t\n",
      "15:\t0.89\t0.01\t0.00\t0.00\t0.00\t0.01\t0.00\t0.00\t0.00\t0.08\t\n",
      "16:\t0.91\t0.06\t0.00\t0.00\t0.00\t0.01\t0.00\t0.00\t0.00\t0.02\t\n",
      "17:\t0.91\t0.02\t0.00\t0.00\t0.00\t0.01\t0.00\t0.00\t0.00\t0.05\t\n",
      "18:\t0.90\t0.04\t0.00\t0.00\t0.00\t0.01\t0.00\t0.00\t0.00\t0.05\t\n",
      "19:\t0.91\t0.04\t0.00\t0.00\t0.00\t0.01\t0.00\t0.00\t0.00\t0.04\t\n",
      "20:\t0.92\t0.07\t0.00\t0.00\t0.00\t0.01\t0.00\t0.00\t0.00\t0.00\t\n",
      "21:\t0.91\t0.06\t0.00\t0.00\t0.00\t0.01\t0.00\t0.00\t0.00\t0.02\t\n",
      "22:\t0.92\t0.05\t0.00\t0.00\t0.00\t0.01\t0.00\t0.00\t0.01\t0.01\t\n",
      "23:\t0.90\t0.03\t0.00\t0.01\t0.01\t0.00\t0.00\t0.00\t0.00\t0.05\t\n",
      "24:\t0.89\t0.04\t0.00\t0.00\t0.00\t0.01\t0.00\t0.00\t0.01\t0.05\t\n",
      "25:\t0.73\t0.01\t0.00\t0.01\t0.02\t0.01\t0.00\t0.00\t0.00\t0.22\t\n",
      "26:\t0.87\t0.04\t0.00\t0.00\t0.03\t0.01\t0.00\t0.00\t0.03\t0.02\t\n",
      "27:\t0.86\t0.04\t0.00\t0.00\t0.02\t0.01\t0.00\t0.00\t0.04\t0.03\t\n",
      "28:\t0.92\t0.05\t0.00\t0.00\t0.00\t0.01\t0.00\t0.00\t0.01\t0.02\t\n",
      "29:\t0.75\t0.03\t0.00\t0.01\t0.01\t0.01\t0.00\t0.00\t0.01\t0.20\t\n",
      "30:\t0.82\t0.03\t0.00\t0.00\t0.00\t0.01\t0.00\t0.00\t0.01\t0.12\t\n",
      "31:\t0.84\t0.03\t0.00\t0.00\t0.02\t0.01\t0.00\t0.00\t0.01\t0.10\t\n",
      "32:\t0.77\t0.02\t0.00\t0.00\t0.02\t0.01\t0.00\t0.00\t0.01\t0.16\t\n",
      "33:\t0.89\t0.04\t0.00\t0.00\t0.03\t0.01\t0.00\t0.00\t0.02\t0.01\t\n",
      "34:\t0.86\t0.05\t0.00\t0.00\t0.02\t0.01\t0.00\t0.00\t0.04\t0.01\t\n",
      "35:\t0.72\t0.01\t0.00\t0.01\t0.02\t0.01\t0.00\t0.00\t0.00\t0.23\t\n",
      "36:\t0.76\t0.02\t0.00\t0.01\t0.02\t0.01\t0.00\t0.00\t0.00\t0.18\t\n",
      "37:\t0.93\t0.04\t0.00\t0.00\t0.00\t0.01\t0.00\t0.00\t0.01\t0.01\t\n",
      "38:\t0.84\t0.04\t0.00\t0.00\t0.00\t0.01\t0.00\t0.00\t0.08\t0.03\t\n",
      "39:\t0.80\t0.05\t0.00\t0.00\t0.00\t0.01\t0.00\t0.00\t0.13\t0.01\t\n",
      "40:\t0.71\t0.04\t0.00\t0.00\t0.01\t0.01\t0.00\t0.00\t0.19\t0.04\t\n",
      "41:\t0.77\t0.02\t0.00\t0.00\t0.00\t0.01\t0.00\t0.00\t0.02\t0.18\t\n",
      "42:\t0.78\t0.04\t0.00\t0.00\t0.00\t0.01\t0.00\t0.00\t0.08\t0.09\t\n",
      "43:\t0.79\t0.04\t0.00\t0.00\t0.01\t0.01\t0.00\t0.00\t0.12\t0.03\t\n",
      "44:\t0.82\t0.04\t0.00\t0.00\t0.00\t0.01\t0.00\t0.00\t0.11\t0.01\t\n",
      "45:\t0.82\t0.06\t0.00\t0.00\t0.00\t0.01\t0.00\t0.00\t0.11\t0.00\t\n",
      "46:\t0.74\t0.05\t0.00\t0.00\t0.01\t0.02\t0.00\t0.00\t0.13\t0.05\t\n",
      "47:\t0.87\t0.03\t0.00\t0.01\t0.03\t0.01\t0.00\t0.00\t0.02\t0.03\t\n",
      "48:\t0.89\t0.04\t0.00\t0.00\t0.00\t0.01\t0.00\t0.00\t0.04\t0.02\t\n",
      "49:\t0.85\t0.05\t0.00\t0.00\t0.00\t0.01\t0.00\t0.00\t0.07\t0.01\t\n",
      "50:\t0.78\t0.03\t0.00\t0.01\t0.06\t0.01\t0.00\t0.00\t0.04\t0.07\t\n",
      "51:\t0.83\t0.02\t0.00\t0.01\t0.01\t0.01\t0.00\t0.00\t0.01\t0.11\t\n",
      "52:\t0.86\t0.03\t0.00\t0.01\t0.02\t0.01\t0.00\t0.00\t0.02\t0.05\t\n",
      "53:\t0.94\t0.03\t0.00\t0.00\t0.00\t0.00\t0.00\t0.00\t0.01\t0.02\t\n",
      "54:\t0.74\t0.02\t0.00\t0.00\t0.00\t0.01\t0.00\t0.00\t0.00\t0.22\t\n",
      "55:\t0.85\t0.05\t0.00\t0.00\t0.01\t0.01\t0.00\t0.00\t0.07\t0.01\t\n",
      "56:\t0.84\t0.04\t0.00\t0.00\t0.00\t0.01\t0.00\t0.00\t0.07\t0.04\t\n",
      "57:\t0.79\t0.05\t0.00\t0.00\t0.01\t0.02\t0.00\t0.00\t0.09\t0.04\t\n",
      "58:\t0.76\t0.03\t0.00\t0.00\t0.06\t0.01\t0.00\t0.00\t0.03\t0.10\t\n",
      "59:\t0.91\t0.04\t0.00\t0.00\t0.00\t0.01\t0.00\t0.00\t0.02\t0.02\t\n",
      "60:\t0.80\t0.01\t0.00\t0.01\t0.01\t0.00\t0.00\t0.00\t0.00\t0.17\t\n",
      "61:\t0.85\t0.02\t0.00\t0.02\t0.02\t0.00\t0.00\t0.00\t0.00\t0.09\t\n",
      "62:\t0.78\t0.05\t0.00\t0.00\t0.02\t0.01\t0.00\t0.00\t0.10\t0.05\t\n",
      "63:\t0.68\t0.02\t0.00\t0.00\t0.00\t0.01\t0.00\t0.00\t0.01\t0.28\t\n",
      "64:\t0.88\t0.03\t0.00\t0.00\t0.00\t0.01\t0.00\t0.00\t0.01\t0.07\t\n",
      "65:\t0.87\t0.04\t0.00\t0.00\t0.01\t0.01\t0.00\t0.00\t0.03\t0.03\t\n",
      "66:\t0.85\t0.03\t0.00\t0.01\t0.03\t0.01\t0.00\t0.00\t0.03\t0.05\t\n",
      "67:\t0.81\t0.03\t0.00\t0.01\t0.02\t0.01\t0.00\t0.00\t0.02\t0.11\t\n",
      "68:\t0.90\t0.05\t0.00\t0.00\t0.00\t0.01\t0.00\t0.00\t0.03\t0.01\t\n",
      "69:\t0.93\t0.06\t0.00\t0.00\t0.00\t0.01\t0.00\t0.00\t0.00\t0.01\t\n",
      "70:\t0.92\t0.03\t0.00\t0.00\t0.00\t0.01\t0.00\t0.00\t0.00\t0.04\t\n",
      "71:\t0.93\t0.04\t0.00\t0.00\t0.00\t0.01\t0.00\t0.00\t0.00\t0.02\t\n",
      "72:\t0.92\t0.05\t0.00\t0.00\t0.00\t0.01\t0.00\t0.00\t0.00\t0.02\t\n",
      "73:\t0.83\t0.02\t0.00\t0.01\t0.01\t0.01\t0.00\t0.00\t0.00\t0.12\t\n",
      "74:\t0.87\t0.04\t0.00\t0.00\t0.01\t0.01\t0.00\t0.00\t0.03\t0.04\t\n",
      "75:\t0.75\t0.03\t0.00\t0.01\t0.03\t0.01\t0.00\t0.00\t0.06\t0.11\t\n",
      "76:\t0.82\t0.06\t0.00\t0.00\t0.00\t0.01\t0.00\t0.00\t0.09\t0.01\t\n",
      "77:\t0.84\t0.04\t0.00\t0.00\t0.00\t0.01\t0.00\t0.00\t0.08\t0.04\t\n",
      "78:\t0.81\t0.04\t0.00\t0.00\t0.00\t0.01\t0.00\t0.00\t0.13\t0.01\t\n",
      "79:\t0.93\t0.03\t0.00\t0.00\t0.00\t0.00\t0.00\t0.00\t0.00\t0.03\t\n",
      "80:\t0.91\t0.04\t0.00\t0.00\t0.01\t0.01\t0.00\t0.00\t0.01\t0.03\t\n",
      "81:\t0.89\t0.04\t0.00\t0.00\t0.01\t0.01\t0.00\t0.00\t0.02\t0.03\t\n",
      "82:\t0.70\t0.02\t0.00\t0.00\t0.03\t0.01\t0.00\t0.00\t0.01\t0.23\t\n",
      "83:\t0.86\t0.04\t0.00\t0.00\t0.00\t0.01\t0.00\t0.00\t0.02\t0.08\t\n",
      "84:\t0.91\t0.04\t0.00\t0.00\t0.01\t0.01\t0.00\t0.00\t0.01\t0.02\t\n",
      "85:\t0.93\t0.02\t0.00\t0.00\t0.00\t0.00\t0.00\t0.00\t0.00\t0.03\t\n",
      "86:\t0.80\t0.04\t0.00\t0.00\t0.01\t0.01\t0.00\t0.00\t0.05\t0.08\t\n",
      "87:\t0.93\t0.04\t0.00\t0.00\t0.00\t0.01\t0.00\t0.00\t0.01\t0.01\t\n",
      "88:\t0.88\t0.05\t0.00\t0.00\t0.01\t0.01\t0.00\t0.00\t0.03\t0.02\t\n",
      "89:\t0.91\t0.04\t0.00\t0.00\t0.01\t0.01\t0.00\t0.00\t0.01\t0.03\t\n",
      "90:\t0.89\t0.03\t0.00\t0.01\t0.00\t0.01\t0.00\t0.00\t0.00\t0.06\t\n",
      "91:\t0.81\t0.03\t0.00\t0.01\t0.02\t0.01\t0.00\t0.00\t0.03\t0.10\t\n",
      "92:\t0.86\t0.03\t0.00\t0.01\t0.01\t0.00\t0.00\t0.00\t0.02\t0.07\t\n",
      "93:\t0.89\t0.05\t0.00\t0.00\t0.01\t0.01\t0.00\t0.00\t0.01\t0.04\t\n",
      "94:\t0.67\t0.06\t0.00\t0.00\t0.03\t0.03\t0.00\t0.00\t0.02\t0.19\t\n",
      "95:\t0.08\t0.44\t0.00\t0.00\t0.00\t0.41\t0.00\t0.00\t0.00\t0.07\t\n",
      "96:\t0.02\t0.34\t0.00\t0.00\t0.00\t0.50\t0.00\t0.00\t0.00\t0.14\t\n",
      "97:\t0.01\t0.29\t0.00\t0.00\t0.00\t0.63\t0.00\t0.00\t0.00\t0.07\t\n",
      "98:\t0.00\t0.52\t0.01\t0.00\t0.00\t0.34\t0.12\t0.00\t0.00\t0.01\t\n",
      "99:\t0.00\t0.48\t0.13\t0.00\t0.00\t0.18\t0.18\t0.03\t0.00\t0.01\t\n",
      "100:\t0.00\t0.37\t0.16\t0.00\t0.00\t0.16\t0.16\t0.09\t0.00\t0.05\t\n",
      "101:\t0.01\t0.08\t0.12\t0.00\t0.00\t0.09\t0.07\t0.20\t0.00\t0.42\t\n",
      "102:\t0.00\t0.15\t0.44\t0.00\t0.00\t0.05\t0.05\t0.19\t0.02\t0.09\t\n",
      "103:\t0.00\t0.06\t0.37\t0.03\t0.00\t0.02\t0.03\t0.31\t0.18\t0.00\t\n",
      "104:\t0.00\t0.02\t0.26\t0.05\t0.00\t0.03\t0.01\t0.21\t0.43\t0.00\t\n",
      "105:\t0.00\t0.00\t0.17\t0.08\t0.00\t0.00\t0.00\t0.08\t0.66\t0.00\t\n",
      "106:\t0.01\t0.00\t0.03\t0.77\t0.00\t0.00\t0.00\t0.00\t0.20\t0.00\t\n",
      "107:\t0.06\t0.00\t0.02\t0.12\t0.02\t0.01\t0.00\t0.01\t0.76\t0.00\t\n",
      "108:\t0.08\t0.00\t0.00\t0.06\t0.08\t0.00\t0.00\t0.00\t0.78\t0.00\t\n",
      "109:\t0.11\t0.00\t0.00\t0.05\t0.32\t0.00\t0.00\t0.00\t0.50\t0.00\t\n",
      "110:\t0.05\t0.00\t0.00\t0.03\t0.38\t0.00\t0.00\t0.00\t0.54\t0.00\t\n",
      "111:\t0.09\t0.00\t0.00\t0.03\t0.61\t0.00\t0.00\t0.00\t0.27\t0.00\t\n",
      "112:\t0.07\t0.00\t0.00\t0.02\t0.70\t0.00\t0.00\t0.00\t0.21\t0.00\t\n",
      "113:\t0.04\t0.00\t0.00\t0.02\t0.83\t0.00\t0.00\t0.00\t0.10\t0.00\t\n",
      "114:\t0.05\t0.00\t0.00\t0.03\t0.89\t0.00\t0.00\t0.00\t0.03\t0.00\t\n",
      "115:\t0.05\t0.00\t0.00\t0.03\t0.88\t0.00\t0.00\t0.00\t0.04\t0.00\t\n",
      "116:\t0.08\t0.00\t0.00\t0.02\t0.85\t0.00\t0.00\t0.00\t0.05\t0.00\t\n",
      "117:\t0.06\t0.00\t0.00\t0.02\t0.90\t0.00\t0.00\t0.00\t0.02\t0.00\t\n",
      "118:\t0.09\t0.00\t0.00\t0.02\t0.87\t0.00\t0.00\t0.00\t0.02\t0.00\t\n",
      "119:\t0.10\t0.00\t0.00\t0.01\t0.86\t0.01\t0.00\t0.00\t0.01\t0.02\t\n",
      "120:\t0.15\t0.00\t0.00\t0.02\t0.81\t0.01\t0.00\t0.00\t0.01\t0.01\t\n",
      "121:\t0.23\t0.00\t0.00\t0.02\t0.69\t0.01\t0.00\t0.00\t0.03\t0.02\t\n",
      "122:\t0.17\t0.00\t0.00\t0.02\t0.75\t0.01\t0.00\t0.00\t0.04\t0.01\t\n",
      "123:\t0.10\t0.00\t0.00\t0.02\t0.83\t0.01\t0.00\t0.00\t0.03\t0.02\t\n",
      "124:\t0.10\t0.00\t0.00\t0.03\t0.75\t0.01\t0.00\t0.00\t0.10\t0.02\t\n",
      "125:\t0.16\t0.00\t0.00\t0.03\t0.47\t0.02\t0.00\t0.00\t0.25\t0.07\t\n",
      "126:\t0.27\t0.00\t0.00\t0.02\t0.13\t0.08\t0.00\t0.01\t0.13\t0.34\t\n",
      "127:\t0.28\t0.01\t0.00\t0.02\t0.11\t0.17\t0.00\t0.01\t0.02\t0.40\t\n",
      "128:\t0.03\t0.03\t0.00\t0.00\t0.00\t0.81\t0.01\t0.01\t0.00\t0.10\t\n",
      "129:\t0.02\t0.07\t0.00\t0.00\t0.00\t0.84\t0.01\t0.00\t0.00\t0.06\t\n",
      "130:\t0.02\t0.09\t0.00\t0.00\t0.00\t0.79\t0.01\t0.00\t0.00\t0.09\t\n",
      "131:\t0.03\t0.06\t0.00\t0.00\t0.00\t0.82\t0.00\t0.00\t0.00\t0.08\t\n",
      "132:\t0.02\t0.07\t0.00\t0.00\t0.00\t0.84\t0.01\t0.00\t0.00\t0.06\t\n",
      "133:\t0.02\t0.06\t0.00\t0.00\t0.00\t0.83\t0.01\t0.00\t0.00\t0.07\t\n",
      "134:\t0.03\t0.03\t0.00\t0.00\t0.00\t0.92\t0.00\t0.00\t0.00\t0.01\t\n",
      "135:\t0.00\t0.07\t0.02\t0.00\t0.00\t0.80\t0.07\t0.02\t0.00\t0.00\t\n",
      "136:\t0.00\t0.13\t0.03\t0.00\t0.00\t0.50\t0.26\t0.08\t0.00\t0.00\t\n",
      "137:\t0.00\t0.16\t0.05\t0.00\t0.00\t0.32\t0.35\t0.11\t0.00\t0.00\t\n",
      "138:\t0.00\t0.26\t0.10\t0.00\t0.00\t0.19\t0.33\t0.12\t0.00\t0.00\t\n",
      "139:\t0.00\t0.16\t0.13\t0.00\t0.00\t0.14\t0.23\t0.32\t0.01\t0.00\t\n",
      "140:\t0.00\t0.09\t0.17\t0.00\t0.00\t0.07\t0.13\t0.48\t0.04\t0.00\t\n",
      "141:\t0.00\t0.04\t0.20\t0.00\t0.00\t0.01\t0.02\t0.52\t0.20\t0.00\t\n",
      "142:\t0.00\t0.01\t0.13\t0.01\t0.00\t0.01\t0.00\t0.43\t0.40\t0.01\t\n",
      "143:\t0.00\t0.00\t0.05\t0.01\t0.00\t0.00\t0.00\t0.27\t0.66\t0.00\t\n",
      "144:\t0.00\t0.00\t0.04\t0.00\t0.00\t0.00\t0.00\t0.26\t0.68\t0.01\t\n",
      "145:\t0.00\t0.00\t0.01\t0.00\t0.00\t0.01\t0.00\t0.10\t0.82\t0.05\t\n",
      "146:\t0.00\t0.00\t0.01\t0.00\t0.00\t0.00\t0.00\t0.05\t0.83\t0.10\t\n",
      "147:\t0.01\t0.00\t0.00\t0.00\t0.00\t0.01\t0.00\t0.01\t0.62\t0.35\t\n",
      "148:\t0.01\t0.00\t0.00\t0.00\t0.00\t0.00\t0.00\t0.00\t0.81\t0.17\t\n",
      "149:\t0.01\t0.00\t0.00\t0.00\t0.00\t0.00\t0.00\t0.00\t0.81\t0.16\t\n",
      "150:\t0.01\t0.00\t0.00\t0.00\t0.01\t0.01\t0.00\t0.00\t0.73\t0.23\t\n",
      "151:\t0.01\t0.00\t0.00\t0.00\t0.01\t0.00\t0.00\t0.00\t0.86\t0.11\t\n",
      "152:\t0.01\t0.00\t0.00\t0.00\t0.01\t0.01\t0.00\t0.00\t0.73\t0.24\t\n",
      "153:\t0.01\t0.00\t0.00\t0.00\t0.01\t0.01\t0.00\t0.00\t0.45\t0.51\t\n",
      "154:\t0.01\t0.00\t0.00\t0.00\t0.01\t0.00\t0.00\t0.00\t0.80\t0.18\t\n",
      "155:\t0.01\t0.00\t0.00\t0.00\t0.00\t0.01\t0.00\t0.00\t0.58\t0.39\t\n",
      "156:\t0.01\t0.00\t0.00\t0.00\t0.00\t0.00\t0.00\t0.00\t0.59\t0.39\t\n",
      "157:\t0.01\t0.00\t0.00\t0.00\t0.01\t0.00\t0.00\t0.00\t0.92\t0.06\t\n",
      "158:\t0.01\t0.00\t0.00\t0.00\t0.01\t0.00\t0.00\t0.00\t0.81\t0.17\t\n",
      "159:\t0.01\t0.00\t0.00\t0.00\t0.01\t0.00\t0.00\t0.00\t0.82\t0.16\t\n",
      "160:\t0.03\t0.00\t0.00\t0.00\t0.01\t0.01\t0.00\t0.00\t0.75\t0.20\t\n",
      "161:\t0.02\t0.00\t0.00\t0.01\t0.01\t0.01\t0.00\t0.00\t0.67\t0.28\t\n",
      "162:\t0.02\t0.00\t0.00\t0.00\t0.01\t0.01\t0.00\t0.00\t0.74\t0.21\t\n",
      "163:\t0.03\t0.00\t0.00\t0.01\t0.01\t0.01\t0.00\t0.00\t0.74\t0.21\t\n",
      "164:\t0.03\t0.00\t0.00\t0.01\t0.04\t0.00\t0.00\t0.00\t0.92\t0.01\t\n",
      "165:\t0.03\t0.00\t0.00\t0.01\t0.01\t0.00\t0.00\t0.00\t0.94\t0.01\t\n",
      "166:\t0.06\t0.00\t0.00\t0.01\t0.01\t0.01\t0.00\t0.00\t0.87\t0.04\t\n",
      "167:\t0.12\t0.00\t0.00\t0.01\t0.01\t0.02\t0.00\t0.00\t0.76\t0.08\t\n",
      "168:\t0.08\t0.00\t0.00\t0.01\t0.00\t0.01\t0.00\t0.00\t0.68\t0.21\t\n",
      "169:\t0.06\t0.01\t0.00\t0.02\t0.00\t0.01\t0.00\t0.00\t0.28\t0.61\t\n",
      "170:\t0.02\t0.00\t0.00\t0.02\t0.00\t0.02\t0.00\t0.00\t0.04\t0.89\t\n",
      "171:\t0.26\t0.01\t0.00\t0.01\t0.01\t0.00\t0.00\t0.00\t0.67\t0.04\t\n",
      "172:\t0.42\t0.01\t0.00\t0.00\t0.01\t0.00\t0.00\t0.00\t0.53\t0.02\t\n",
      "173:\t0.22\t0.01\t0.00\t0.00\t0.01\t0.01\t0.00\t0.00\t0.70\t0.06\t\n",
      "174:\t0.39\t0.01\t0.00\t0.01\t0.01\t0.01\t0.00\t0.00\t0.55\t0.03\t\n",
      "175:\t0.67\t0.02\t0.00\t0.00\t0.01\t0.01\t0.00\t0.00\t0.29\t0.01\t\n",
      "176:\t0.78\t0.03\t0.00\t0.00\t0.00\t0.01\t0.00\t0.00\t0.18\t0.01\t\n",
      "177:\t0.77\t0.03\t0.00\t0.00\t0.01\t0.01\t0.00\t0.00\t0.18\t0.00\t\n",
      "178:\t0.63\t0.02\t0.00\t0.00\t0.01\t0.01\t0.00\t0.00\t0.33\t0.01\t\n",
      "179:\t0.25\t0.01\t0.00\t0.00\t0.01\t0.01\t0.00\t0.00\t0.57\t0.15\t\n",
      "180:\t0.69\t0.03\t0.00\t0.00\t0.03\t0.01\t0.00\t0.00\t0.23\t0.01\t\n",
      "181:\t0.61\t0.03\t0.00\t0.00\t0.02\t0.01\t0.00\t0.00\t0.33\t0.01\t\n",
      "182:\t0.18\t0.01\t0.00\t0.01\t0.01\t0.01\t0.00\t0.00\t0.05\t0.73\t\n",
      "183:\t0.29\t0.01\t0.00\t0.03\t0.02\t0.01\t0.00\t0.00\t0.03\t0.62\t\n",
      "184:\t0.29\t0.01\t0.00\t0.01\t0.02\t0.01\t0.00\t0.00\t0.11\t0.56\t\n",
      "185:\t0.59\t0.03\t0.00\t0.00\t0.04\t0.01\t0.00\t0.00\t0.30\t0.02\t\n",
      "186:\t0.65\t0.03\t0.00\t0.00\t0.02\t0.01\t0.00\t0.00\t0.29\t0.01\t\n",
      "187:\t0.58\t0.02\t0.00\t0.00\t0.01\t0.01\t0.00\t0.00\t0.37\t0.01\t\n",
      "188:\t0.77\t0.04\t0.00\t0.00\t0.01\t0.01\t0.00\t0.00\t0.18\t0.00\t\n",
      "189:\t0.66\t0.03\t0.00\t0.00\t0.01\t0.01\t0.00\t0.00\t0.28\t0.01\t\n",
      "190:\t0.49\t0.02\t0.00\t0.00\t0.01\t0.01\t0.00\t0.00\t0.46\t0.01\t\n",
      "191:\t0.77\t0.04\t0.00\t0.00\t0.00\t0.01\t0.00\t0.00\t0.18\t0.00\t\n",
      "192:\t0.66\t0.03\t0.00\t0.00\t0.02\t0.01\t0.00\t0.00\t0.27\t0.01\t\n",
      "193:\t0.74\t0.03\t0.00\t0.00\t0.00\t0.01\t0.00\t0.00\t0.19\t0.02\t\n",
      "194:\t0.54\t0.03\t0.00\t0.00\t0.00\t0.01\t0.00\t0.00\t0.23\t0.19\t\n",
      "195:\t0.87\t0.04\t0.00\t0.01\t0.01\t0.01\t0.00\t0.00\t0.03\t0.04\t\n",
      "196:\t0.74\t0.04\t0.00\t0.00\t0.01\t0.01\t0.00\t0.00\t0.19\t0.02\t\n",
      "197:\t0.77\t0.04\t0.00\t0.00\t0.01\t0.01\t0.00\t0.00\t0.17\t0.01\t\n",
      "198:\t0.66\t0.03\t0.00\t0.00\t0.04\t0.01\t0.00\t0.00\t0.17\t0.08\t\n",
      "199:\t0.67\t0.03\t0.00\t0.00\t0.01\t0.01\t0.00\t0.00\t0.22\t0.05\t\n",
      "200:\t0.75\t0.04\t0.00\t0.00\t0.03\t0.02\t0.00\t0.00\t0.14\t0.02\t\n",
      "201:\t0.88\t0.04\t0.00\t0.00\t0.00\t0.01\t0.00\t0.00\t0.06\t0.01\t\n",
      "202:\t0.80\t0.04\t0.00\t0.00\t0.01\t0.01\t0.00\t0.00\t0.13\t0.01\t\n",
      "203:\t0.71\t0.03\t0.00\t0.01\t0.01\t0.01\t0.00\t0.00\t0.03\t0.21\t\n",
      "204:\t0.72\t0.03\t0.00\t0.00\t0.03\t0.01\t0.00\t0.00\t0.18\t0.02\t\n",
      "205:\t0.73\t0.04\t0.00\t0.00\t0.02\t0.01\t0.00\t0.00\t0.19\t0.01\t\n",
      "206:\t0.82\t0.04\t0.00\t0.00\t0.06\t0.01\t0.00\t0.00\t0.07\t0.01\t\n",
      "207:\t0.86\t0.05\t0.00\t0.00\t0.00\t0.01\t0.00\t0.00\t0.06\t0.01\t\n",
      "208:\t0.84\t0.05\t0.00\t0.00\t0.00\t0.01\t0.00\t0.00\t0.09\t0.01\t\n",
      "209:\t0.86\t0.04\t0.00\t0.00\t0.01\t0.01\t0.00\t0.00\t0.07\t0.01\t\n",
      "210:\t0.80\t0.03\t0.00\t0.01\t0.01\t0.01\t0.00\t0.00\t0.02\t0.12\t\n",
      "211:\t0.76\t0.03\t0.00\t0.01\t0.04\t0.01\t0.00\t0.00\t0.04\t0.11\t\n",
      "212:\t0.83\t0.04\t0.00\t0.00\t0.02\t0.01\t0.00\t0.00\t0.07\t0.02\t\n",
      "213:\t0.77\t0.04\t0.00\t0.00\t0.00\t0.01\t0.00\t0.00\t0.17\t0.00\t\n",
      "214:\t0.75\t0.04\t0.00\t0.00\t0.00\t0.01\t0.00\t0.00\t0.19\t0.01\t\n",
      "215:\t0.86\t0.05\t0.00\t0.00\t0.00\t0.01\t0.00\t0.00\t0.08\t0.01\t\n",
      "216:\t0.80\t0.04\t0.00\t0.00\t0.01\t0.01\t0.00\t0.00\t0.12\t0.02\t\n",
      "217:\t0.75\t0.04\t0.00\t0.00\t0.00\t0.01\t0.00\t0.00\t0.17\t0.02\t\n",
      "218:\t0.78\t0.04\t0.00\t0.00\t0.03\t0.02\t0.00\t0.00\t0.12\t0.01\t\n",
      "219:\t0.76\t0.04\t0.00\t0.00\t0.05\t0.01\t0.00\t0.00\t0.12\t0.02\t\n",
      "220:\t0.87\t0.05\t0.00\t0.00\t0.01\t0.01\t0.00\t0.00\t0.05\t0.01\t\n",
      "221:\t0.86\t0.05\t0.00\t0.00\t0.00\t0.01\t0.00\t0.00\t0.07\t0.01\t\n",
      "222:\t0.79\t0.05\t0.00\t0.00\t0.02\t0.02\t0.00\t0.00\t0.11\t0.02\t\n",
      "223:\t0.45\t0.01\t0.00\t0.02\t0.04\t0.01\t0.00\t0.00\t0.01\t0.46\t\n",
      "224:\t0.84\t0.05\t0.00\t0.00\t0.01\t0.01\t0.00\t0.00\t0.07\t0.02\t\n",
      "225:\t0.86\t0.05\t0.00\t0.00\t0.00\t0.01\t0.00\t0.00\t0.06\t0.02\t\n",
      "226:\t0.84\t0.05\t0.00\t0.00\t0.00\t0.01\t0.00\t0.00\t0.09\t0.01\t\n",
      "227:\t0.87\t0.04\t0.00\t0.00\t0.03\t0.01\t0.00\t0.00\t0.04\t0.01\t\n",
      "228:\t0.85\t0.05\t0.00\t0.00\t0.02\t0.01\t0.00\t0.00\t0.07\t0.01\t\n",
      "229:\t0.80\t0.04\t0.00\t0.00\t0.04\t0.02\t0.00\t0.00\t0.09\t0.02\t\n",
      "230:\t0.70\t0.04\t0.00\t0.00\t0.01\t0.01\t0.00\t0.00\t0.23\t0.02\t\n",
      "231:\t0.76\t0.06\t0.00\t0.00\t0.01\t0.01\t0.00\t0.00\t0.06\t0.10\t\n",
      "232:\t0.85\t0.04\t0.00\t0.00\t0.02\t0.01\t0.00\t0.00\t0.02\t0.05\t\n",
      "233:\t0.84\t0.05\t0.00\t0.00\t0.01\t0.01\t0.00\t0.00\t0.07\t0.02\t\n",
      "234:\t0.84\t0.06\t0.00\t0.00\t0.00\t0.01\t0.00\t0.00\t0.07\t0.02\t\n",
      "235:\t0.89\t0.05\t0.00\t0.00\t0.02\t0.01\t0.00\t0.00\t0.02\t0.02\t\n",
      "236:\t0.85\t0.05\t0.00\t0.00\t0.01\t0.01\t0.00\t0.00\t0.07\t0.01\t\n",
      "237:\t0.80\t0.04\t0.00\t0.00\t0.00\t0.01\t0.00\t0.00\t0.02\t0.12\t\n",
      "238:\t0.78\t0.03\t0.00\t0.01\t0.06\t0.01\t0.00\t0.00\t0.02\t0.09\t\n",
      "239:\t0.91\t0.06\t0.00\t0.00\t0.00\t0.01\t0.00\t0.00\t0.01\t0.01\t\n",
      "240:\t0.89\t0.06\t0.00\t0.00\t0.00\t0.01\t0.00\t0.00\t0.01\t0.02\t\n",
      "\n"
     ]
    }
   ],
   "source": [
    "print(title,\"\\n\",content)"
   ]
  },
  {
   "cell_type": "code",
   "execution_count": 441,
   "metadata": {},
   "outputs": [
    {
     "ename": "KeyError",
     "evalue": "'IC0500W0447'",
     "output_type": "error",
     "traceback": [
      "\u001b[0;31m---------------------------------------------------------------------------\u001b[0m",
      "\u001b[0;31mKeyError\u001b[0m                                  Traceback (most recent call last)",
      "\u001b[0;32m<ipython-input-441-6ccf6cff4ff8>\u001b[0m in \u001b[0;36m<module>\u001b[0;34m\u001b[0m\n\u001b[0;32m----> 1\u001b[0;31m \u001b[0mword_label_new\u001b[0m\u001b[0;34m[\u001b[0m\u001b[0mutt\u001b[0m\u001b[0;34m]\u001b[0m\u001b[0;34m\u001b[0m\u001b[0;34m\u001b[0m\u001b[0m\n\u001b[0m",
      "\u001b[0;31mKeyError\u001b[0m: 'IC0500W0447'"
     ]
    }
   ],
   "source": [
    "word_label_new[utt]"
   ]
  },
  {
   "cell_type": "markdown",
   "metadata": {},
   "source": [
    "### “你好米雅”测试"
   ]
  },
  {
   "cell_type": "code",
   "execution_count": null,
   "metadata": {},
   "outputs": [],
   "source": [
    "feats_miya_test = { u:d for u,d in kaldi_io.read_mat_scp(\"/home1/meichaoyang/Dataset/feats/SLR85/far_field/train/feats.scp\") }"
   ]
  },
  {
   "cell_type": "code",
   "execution_count": null,
   "metadata": {},
   "outputs": [],
   "source": [
    "utt_miya_test=list(feats_miya_test.keys())[420]\n",
    "# utt_aishell=\"IC0001W0406\"\n",
    "\n",
    "pred_label_miya_test = model(torch.Tensor(feats_miya_test[utt_miya_test]).to(device))\n",
    "_, answer_miya_test = torch.max(pred_label_miya_test.data, 1)\n",
    "answer_miya_test_list=list(answer_miya_test.to(\"cpu\", torch.int).numpy())"
   ]
  },
  {
   "cell_type": "code",
   "execution_count": null,
   "metadata": {},
   "outputs": [],
   "source": [
    "title, content = Data_show().show_softmax(torch.nn.Softmax()(pred_label_miya_test))"
   ]
  },
  {
   "cell_type": "code",
   "execution_count": null,
   "metadata": {},
   "outputs": [],
   "source": [
    "print(title)\n",
    "print(content)"
   ]
  },
  {
   "cell_type": "code",
   "execution_count": null,
   "metadata": {},
   "outputs": [],
   "source": [
    "feats[utt_miya_test]"
   ]
  },
  {
   "cell_type": "markdown",
   "metadata": {},
   "source": [
    "## 非“你好米雅”测试"
   ]
  },
  {
   "cell_type": "code",
   "execution_count": 72,
   "metadata": {},
   "outputs": [],
   "source": [
    "feats_aishell = { u:d for u,d in kaldi_io.read_mat_scp(\"../../wake_dnn_miya_only/feats_aishell2_test/feats.scp\") }"
   ]
  },
  {
   "cell_type": "code",
   "execution_count": 73,
   "metadata": {},
   "outputs": [],
   "source": [
    "utt_aishell=list(feats_aishell.keys())[420]\n",
    "utt_aishell=\"IC0001W0406\"\n",
    "\n",
    "pred_label_aishell = model(torch.Tensor(feats_aishell[utt_aishell]).to(device))\n",
    "_, answer_aishell = torch.max(pred_label_aishell.data, 1)\n",
    "answer_aishell_list=list(answer_aishell.to(\"cpu\", torch.int).numpy())"
   ]
  },
  {
   "cell_type": "code",
   "execution_count": 74,
   "metadata": {},
   "outputs": [
    {
     "ename": "NameError",
     "evalue": "name 'decoder' is not defined",
     "output_type": "error",
     "traceback": [
      "\u001b[0;31m---------------------------------------------------------------------------\u001b[0m",
      "\u001b[0;31mNameError\u001b[0m                                 Traceback (most recent call last)",
      "\u001b[0;32m<ipython-input-74-dec434707fe9>\u001b[0m in \u001b[0;36m<module>\u001b[0;34m\u001b[0m\n\u001b[0;32m----> 1\u001b[0;31m \u001b[0mdecoder\u001b[0m\u001b[0;34m.\u001b[0m\u001b[0mshow_result\u001b[0m\u001b[0;34m(\u001b[0m\u001b[0mdecoder\u001b[0m\u001b[0;34m.\u001b[0m\u001b[0mdecode\u001b[0m\u001b[0;34m(\u001b[0m\u001b[0mtorch\u001b[0m\u001b[0;34m.\u001b[0m\u001b[0mnn\u001b[0m\u001b[0;34m.\u001b[0m\u001b[0mSoftmax\u001b[0m\u001b[0;34m(\u001b[0m\u001b[0;34m)\u001b[0m\u001b[0;34m(\u001b[0m\u001b[0mpred_label_aishell\u001b[0m\u001b[0;34m)\u001b[0m\u001b[0;34m)\u001b[0m\u001b[0;34m)\u001b[0m\u001b[0;34m\u001b[0m\u001b[0;34m\u001b[0m\u001b[0m\n\u001b[0m",
      "\u001b[0;31mNameError\u001b[0m: name 'decoder' is not defined"
     ]
    }
   ],
   "source": [
    "decoder.show_result(decoder.decode(torch.nn.Softmax()(pred_label_aishell)))"
   ]
  },
  {
   "cell_type": "code",
   "execution_count": 76,
   "metadata": {},
   "outputs": [
    {
     "name": "stderr",
     "output_type": "stream",
     "text": [
      "/home1/meichaoyang/anaconda3/lib/python3.7/site-packages/ipykernel_launcher.py:1: UserWarning: Implicit dimension choice for softmax has been deprecated. Change the call to include dim=X as an argument.\n",
      "  \"\"\"Entry point for launching an IPython kernel.\n"
     ]
    }
   ],
   "source": [
    "title1, content1 = Data_show().show_softmax(torch.nn.Softmax()(pred_label_aishell))"
   ]
  },
  {
   "cell_type": "code",
   "execution_count": 77,
   "metadata": {},
   "outputs": [
    {
     "name": "stdout",
     "output_type": "stream",
     "text": [
      "0:\t0.97\t0.00\t0.00\t0.00\t0.00\t0.00\t0.00\t0.00\t0.00\t0.02\t\n",
      "1:\t0.97\t0.00\t0.00\t0.00\t0.00\t0.00\t0.00\t0.00\t0.00\t0.02\t\n",
      "2:\t0.97\t0.00\t0.00\t0.00\t0.00\t0.00\t0.00\t0.00\t0.00\t0.02\t\n",
      "3:\t0.96\t0.00\t0.00\t0.00\t0.00\t0.00\t0.00\t0.01\t0.00\t0.02\t\n",
      "4:\t0.94\t0.00\t0.00\t0.00\t0.00\t0.00\t0.00\t0.02\t0.00\t0.03\t\n",
      "5:\t0.97\t0.00\t0.00\t0.00\t0.00\t0.00\t0.00\t0.01\t0.00\t0.02\t\n",
      "6:\t0.97\t0.00\t0.00\t0.00\t0.00\t0.00\t0.00\t0.00\t0.00\t0.02\t\n",
      "7:\t0.97\t0.00\t0.00\t0.00\t0.00\t0.00\t0.00\t0.01\t0.00\t0.02\t\n",
      "8:\t0.97\t0.00\t0.00\t0.00\t0.00\t0.00\t0.00\t0.00\t0.00\t0.02\t\n",
      "9:\t0.97\t0.00\t0.00\t0.00\t0.00\t0.00\t0.00\t0.00\t0.00\t0.02\t\n",
      "10:\t0.97\t0.00\t0.00\t0.00\t0.00\t0.00\t0.00\t0.00\t0.00\t0.02\t\n",
      "11:\t0.97\t0.00\t0.00\t0.00\t0.00\t0.00\t0.00\t0.00\t0.00\t0.02\t\n",
      "12:\t0.97\t0.00\t0.00\t0.00\t0.00\t0.00\t0.00\t0.00\t0.00\t0.02\t\n",
      "13:\t0.50\t0.00\t0.00\t0.00\t0.00\t0.00\t0.00\t0.01\t0.00\t0.48\t\n",
      "14:\t0.74\t0.00\t0.00\t0.00\t0.00\t0.00\t0.00\t0.05\t0.00\t0.20\t\n",
      "15:\t0.94\t0.00\t0.00\t0.00\t0.00\t0.00\t0.00\t0.02\t0.00\t0.04\t\n",
      "16:\t0.97\t0.00\t0.00\t0.00\t0.00\t0.00\t0.00\t0.01\t0.00\t0.02\t\n",
      "17:\t0.97\t0.00\t0.00\t0.00\t0.00\t0.00\t0.00\t0.01\t0.00\t0.02\t\n",
      "18:\t0.96\t0.00\t0.00\t0.00\t0.00\t0.00\t0.00\t0.01\t0.00\t0.02\t\n",
      "19:\t0.97\t0.00\t0.00\t0.00\t0.00\t0.00\t0.00\t0.00\t0.00\t0.02\t\n",
      "20:\t0.97\t0.00\t0.00\t0.00\t0.00\t0.00\t0.00\t0.00\t0.00\t0.02\t\n",
      "21:\t0.97\t0.00\t0.00\t0.00\t0.00\t0.00\t0.00\t0.00\t0.00\t0.02\t\n",
      "22:\t0.96\t0.00\t0.00\t0.00\t0.00\t0.00\t0.00\t0.01\t0.00\t0.02\t\n",
      "23:\t0.96\t0.00\t0.00\t0.00\t0.00\t0.00\t0.00\t0.01\t0.00\t0.02\t\n",
      "24:\t0.95\t0.00\t0.00\t0.00\t0.00\t0.00\t0.00\t0.01\t0.00\t0.03\t\n",
      "25:\t0.91\t0.00\t0.00\t0.01\t0.00\t0.00\t0.00\t0.04\t0.00\t0.04\t\n",
      "26:\t0.22\t0.00\t0.00\t0.02\t0.00\t0.00\t0.00\t0.00\t0.00\t0.76\t\n",
      "27:\t0.53\t0.00\t0.00\t0.04\t0.00\t0.00\t0.00\t0.01\t0.00\t0.42\t\n",
      "28:\t0.94\t0.00\t0.00\t0.00\t0.00\t0.00\t0.00\t0.01\t0.00\t0.04\t\n",
      "29:\t0.42\t0.00\t0.00\t0.01\t0.00\t0.00\t0.00\t0.01\t0.00\t0.56\t\n",
      "30:\t0.20\t0.00\t0.00\t0.00\t0.00\t0.00\t0.00\t0.00\t0.00\t0.80\t\n",
      "31:\t0.97\t0.00\t0.00\t0.00\t0.00\t0.00\t0.00\t0.00\t0.00\t0.02\t\n",
      "32:\t0.97\t0.00\t0.00\t0.00\t0.00\t0.00\t0.00\t0.00\t0.00\t0.02\t\n",
      "33:\t0.97\t0.00\t0.00\t0.00\t0.00\t0.00\t0.00\t0.00\t0.00\t0.02\t\n",
      "34:\t0.97\t0.00\t0.00\t0.00\t0.00\t0.00\t0.00\t0.00\t0.00\t0.02\t\n",
      "35:\t0.97\t0.00\t0.00\t0.00\t0.00\t0.00\t0.00\t0.00\t0.00\t0.02\t\n",
      "36:\t0.97\t0.00\t0.00\t0.00\t0.00\t0.00\t0.00\t0.00\t0.00\t0.02\t\n",
      "37:\t0.97\t0.00\t0.00\t0.00\t0.00\t0.00\t0.00\t0.00\t0.00\t0.02\t\n",
      "38:\t0.97\t0.00\t0.00\t0.00\t0.00\t0.00\t0.00\t0.00\t0.00\t0.02\t\n",
      "39:\t0.97\t0.00\t0.00\t0.00\t0.00\t0.00\t0.00\t0.00\t0.00\t0.02\t\n",
      "40:\t0.97\t0.00\t0.00\t0.00\t0.00\t0.00\t0.00\t0.00\t0.00\t0.02\t\n",
      "41:\t0.97\t0.00\t0.00\t0.00\t0.00\t0.00\t0.00\t0.00\t0.00\t0.02\t\n",
      "42:\t0.97\t0.00\t0.00\t0.00\t0.00\t0.00\t0.00\t0.00\t0.00\t0.02\t\n",
      "43:\t0.97\t0.00\t0.00\t0.00\t0.00\t0.00\t0.00\t0.00\t0.00\t0.02\t\n",
      "44:\t0.97\t0.00\t0.00\t0.00\t0.00\t0.00\t0.00\t0.00\t0.00\t0.02\t\n",
      "45:\t0.97\t0.00\t0.00\t0.00\t0.00\t0.00\t0.00\t0.00\t0.00\t0.02\t\n",
      "46:\t0.96\t0.00\t0.00\t0.00\t0.00\t0.00\t0.00\t0.00\t0.00\t0.03\t\n",
      "47:\t0.85\t0.00\t0.00\t0.02\t0.00\t0.00\t0.00\t0.03\t0.00\t0.10\t\n",
      "48:\t0.96\t0.00\t0.00\t0.00\t0.00\t0.00\t0.00\t0.00\t0.00\t0.03\t\n",
      "49:\t0.97\t0.00\t0.00\t0.00\t0.00\t0.00\t0.00\t0.00\t0.00\t0.02\t\n",
      "50:\t0.96\t0.00\t0.00\t0.00\t0.00\t0.00\t0.00\t0.01\t0.00\t0.02\t\n",
      "51:\t0.97\t0.00\t0.00\t0.00\t0.00\t0.00\t0.00\t0.01\t0.00\t0.02\t\n",
      "52:\t0.97\t0.00\t0.00\t0.00\t0.00\t0.00\t0.00\t0.00\t0.00\t0.02\t\n",
      "53:\t0.35\t0.00\t0.00\t0.05\t0.00\t0.00\t0.00\t0.00\t0.00\t0.60\t\n",
      "54:\t0.05\t0.00\t0.00\t0.01\t0.00\t0.00\t0.00\t0.00\t0.00\t0.95\t\n",
      "55:\t0.04\t0.00\t0.00\t0.00\t0.00\t0.00\t0.00\t0.00\t0.00\t0.96\t\n",
      "56:\t0.06\t0.00\t0.00\t0.00\t0.00\t0.00\t0.00\t0.00\t0.00\t0.94\t\n",
      "57:\t0.01\t0.00\t0.00\t0.02\t0.00\t0.00\t0.00\t0.02\t0.00\t0.93\t\n",
      "58:\t0.01\t0.00\t0.00\t0.01\t0.00\t0.00\t0.00\t0.02\t0.00\t0.95\t\n",
      "59:\t0.01\t0.00\t0.00\t0.02\t0.01\t0.01\t0.00\t0.01\t0.00\t0.93\t\n",
      "60:\t0.01\t0.00\t0.00\t0.05\t0.02\t0.01\t0.00\t0.01\t0.00\t0.91\t\n",
      "61:\t0.01\t0.00\t0.00\t0.05\t0.03\t0.01\t0.00\t0.00\t0.00\t0.89\t\n",
      "62:\t0.01\t0.00\t0.00\t0.06\t0.02\t0.02\t0.00\t0.01\t0.00\t0.88\t\n",
      "63:\t0.02\t0.00\t0.00\t0.06\t0.02\t0.03\t0.00\t0.00\t0.00\t0.87\t\n",
      "64:\t0.02\t0.01\t0.00\t0.07\t0.01\t0.04\t0.00\t0.00\t0.00\t0.85\t\n",
      "65:\t0.02\t0.01\t0.00\t0.09\t0.01\t0.04\t0.00\t0.00\t0.00\t0.84\t\n",
      "66:\t0.03\t0.01\t0.00\t0.05\t0.01\t0.09\t0.00\t0.01\t0.00\t0.81\t\n",
      "67:\t0.05\t0.01\t0.00\t0.04\t0.02\t0.05\t0.00\t0.00\t0.00\t0.82\t\n",
      "68:\t0.04\t0.01\t0.00\t0.08\t0.01\t0.03\t0.00\t0.00\t0.00\t0.83\t\n",
      "69:\t0.03\t0.01\t0.00\t0.16\t0.01\t0.03\t0.00\t0.00\t0.00\t0.75\t\n",
      "70:\t0.01\t0.00\t0.00\t0.23\t0.01\t0.01\t0.00\t0.00\t0.00\t0.72\t\n",
      "71:\t0.01\t0.00\t0.00\t0.10\t0.02\t0.01\t0.00\t0.01\t0.00\t0.85\t\n",
      "72:\t0.01\t0.00\t0.00\t0.14\t0.01\t0.01\t0.00\t0.02\t0.00\t0.81\t\n",
      "73:\t0.02\t0.00\t0.00\t0.15\t0.00\t0.00\t0.00\t0.02\t0.00\t0.79\t\n",
      "74:\t0.02\t0.00\t0.00\t0.06\t0.00\t0.01\t0.00\t0.03\t0.00\t0.88\t\n",
      "75:\t0.01\t0.01\t0.01\t0.01\t0.00\t0.02\t0.01\t0.08\t0.00\t0.86\t\n",
      "76:\t0.02\t0.02\t0.00\t0.03\t0.00\t0.09\t0.00\t0.02\t0.00\t0.81\t\n",
      "77:\t0.02\t0.02\t0.00\t0.04\t0.00\t0.11\t0.00\t0.02\t0.00\t0.78\t\n",
      "78:\t0.03\t0.02\t0.01\t0.02\t0.00\t0.20\t0.00\t0.02\t0.00\t0.71\t\n",
      "79:\t0.03\t0.03\t0.00\t0.01\t0.00\t0.17\t0.00\t0.01\t0.00\t0.74\t\n",
      "80:\t0.07\t0.01\t0.00\t0.02\t0.00\t0.08\t0.00\t0.01\t0.00\t0.81\t\n",
      "81:\t0.08\t0.00\t0.00\t0.02\t0.01\t0.05\t0.00\t0.00\t0.00\t0.83\t\n",
      "82:\t0.02\t0.00\t0.06\t0.01\t0.00\t0.00\t0.03\t0.11\t0.00\t0.78\t\n",
      "83:\t0.01\t0.00\t0.13\t0.00\t0.00\t0.00\t0.07\t0.26\t0.00\t0.52\t\n",
      "84:\t0.01\t0.01\t0.12\t0.00\t0.00\t0.00\t0.07\t0.32\t0.00\t0.47\t\n",
      "85:\t0.01\t0.00\t0.10\t0.00\t0.00\t0.00\t0.05\t0.24\t0.00\t0.59\t\n",
      "86:\t0.01\t0.00\t0.05\t0.00\t0.00\t0.00\t0.03\t0.13\t0.00\t0.77\t\n",
      "87:\t0.01\t0.00\t0.02\t0.00\t0.00\t0.00\t0.01\t0.08\t0.00\t0.88\t\n",
      "88:\t0.01\t0.00\t0.01\t0.00\t0.00\t0.00\t0.01\t0.08\t0.00\t0.89\t\n",
      "89:\t0.01\t0.00\t0.01\t0.00\t0.00\t0.00\t0.00\t0.08\t0.00\t0.89\t\n",
      "90:\t0.01\t0.00\t0.00\t0.00\t0.00\t0.00\t0.00\t0.04\t0.00\t0.94\t\n",
      "91:\t0.01\t0.00\t0.00\t0.00\t0.00\t0.00\t0.00\t0.11\t0.00\t0.87\t\n",
      "92:\t0.01\t0.00\t0.00\t0.00\t0.00\t0.00\t0.00\t0.09\t0.00\t0.89\t\n",
      "93:\t0.01\t0.00\t0.00\t0.00\t0.00\t0.00\t0.00\t0.06\t0.00\t0.92\t\n",
      "94:\t0.01\t0.00\t0.00\t0.00\t0.00\t0.00\t0.00\t0.08\t0.00\t0.90\t\n",
      "95:\t0.01\t0.00\t0.00\t0.00\t0.00\t0.00\t0.00\t0.10\t0.00\t0.88\t\n",
      "96:\t0.01\t0.00\t0.01\t0.00\t0.00\t0.00\t0.00\t0.15\t0.00\t0.81\t\n",
      "97:\t0.01\t0.01\t0.03\t0.00\t0.00\t0.01\t0.01\t0.32\t0.00\t0.61\t\n",
      "98:\t0.01\t0.01\t0.05\t0.00\t0.00\t0.01\t0.02\t0.33\t0.00\t0.58\t\n",
      "99:\t0.01\t0.01\t0.05\t0.00\t0.00\t0.00\t0.02\t0.26\t0.00\t0.66\t\n",
      "100:\t0.01\t0.01\t0.06\t0.00\t0.00\t0.00\t0.02\t0.30\t0.00\t0.60\t\n",
      "101:\t0.01\t0.01\t0.05\t0.00\t0.00\t0.00\t0.02\t0.29\t0.00\t0.61\t\n",
      "102:\t0.01\t0.01\t0.05\t0.00\t0.00\t0.00\t0.02\t0.28\t0.00\t0.63\t\n",
      "103:\t0.01\t0.01\t0.09\t0.00\t0.00\t0.00\t0.06\t0.50\t0.00\t0.32\t\n",
      "104:\t0.01\t0.01\t0.06\t0.00\t0.00\t0.00\t0.04\t0.40\t0.00\t0.48\t\n",
      "105:\t0.01\t0.01\t0.07\t0.00\t0.00\t0.00\t0.04\t0.42\t0.00\t0.46\t\n",
      "106:\t0.01\t0.01\t0.06\t0.00\t0.00\t0.00\t0.02\t0.22\t0.00\t0.68\t\n",
      "107:\t0.01\t0.01\t0.08\t0.00\t0.00\t0.01\t0.04\t0.29\t0.00\t0.55\t\n",
      "108:\t0.01\t0.00\t0.04\t0.00\t0.00\t0.00\t0.02\t0.09\t0.00\t0.84\t\n",
      "109:\t0.01\t0.00\t0.01\t0.00\t0.00\t0.00\t0.01\t0.03\t0.00\t0.93\t\n",
      "110:\t0.01\t0.00\t0.02\t0.00\t0.00\t0.00\t0.01\t0.09\t0.00\t0.87\t\n",
      "111:\t0.01\t0.01\t0.01\t0.00\t0.00\t0.01\t0.01\t0.06\t0.00\t0.90\t\n",
      "112:\t0.01\t0.01\t0.01\t0.03\t0.00\t0.01\t0.00\t0.06\t0.00\t0.87\t\n",
      "113:\t0.01\t0.01\t0.00\t0.08\t0.00\t0.02\t0.00\t0.03\t0.00\t0.84\t\n",
      "114:\t0.01\t0.00\t0.00\t0.17\t0.01\t0.01\t0.00\t0.01\t0.00\t0.80\t\n",
      "115:\t0.01\t0.00\t0.00\t0.10\t0.02\t0.02\t0.00\t0.00\t0.00\t0.84\t\n",
      "116:\t0.01\t0.00\t0.00\t0.08\t0.03\t0.02\t0.00\t0.00\t0.00\t0.86\t\n",
      "117:\t0.01\t0.00\t0.00\t0.08\t0.02\t0.01\t0.00\t0.00\t0.00\t0.88\t\n",
      "118:\t0.01\t0.00\t0.00\t0.09\t0.00\t0.02\t0.00\t0.00\t0.00\t0.86\t\n",
      "119:\t0.03\t0.01\t0.00\t0.05\t0.00\t0.02\t0.00\t0.00\t0.00\t0.88\t\n",
      "120:\t0.02\t0.01\t0.00\t0.07\t0.00\t0.05\t0.00\t0.01\t0.00\t0.83\t\n",
      "121:\t0.02\t0.00\t0.00\t0.19\t0.01\t0.01\t0.00\t0.00\t0.00\t0.76\t\n",
      "122:\t0.02\t0.00\t0.00\t0.21\t0.01\t0.01\t0.00\t0.00\t0.00\t0.75\t\n",
      "123:\t0.01\t0.00\t0.00\t0.32\t0.01\t0.01\t0.00\t0.00\t0.00\t0.64\t\n",
      "124:\t0.03\t0.00\t0.00\t0.45\t0.02\t0.00\t0.00\t0.00\t0.00\t0.49\t\n",
      "125:\t0.02\t0.00\t0.00\t0.50\t0.01\t0.00\t0.00\t0.00\t0.00\t0.46\t\n",
      "126:\t0.04\t0.00\t0.00\t0.38\t0.02\t0.00\t0.00\t0.00\t0.00\t0.54\t\n",
      "127:\t0.06\t0.00\t0.00\t0.27\t0.02\t0.00\t0.00\t0.00\t0.00\t0.65\t\n",
      "128:\t0.10\t0.00\t0.00\t0.28\t0.02\t0.00\t0.00\t0.00\t0.00\t0.60\t\n",
      "129:\t0.06\t0.00\t0.00\t0.37\t0.01\t0.00\t0.00\t0.00\t0.00\t0.55\t\n",
      "130:\t0.03\t0.00\t0.00\t0.55\t0.02\t0.00\t0.00\t0.00\t0.00\t0.40\t\n",
      "131:\t0.01\t0.00\t0.00\t0.04\t0.04\t0.00\t0.00\t0.00\t0.00\t0.90\t\n",
      "132:\t0.01\t0.00\t0.00\t0.04\t0.04\t0.01\t0.00\t0.00\t0.00\t0.90\t\n",
      "133:\t0.01\t0.00\t0.00\t0.05\t0.12\t0.01\t0.00\t0.00\t0.00\t0.81\t\n",
      "134:\t0.01\t0.00\t0.00\t0.06\t0.12\t0.01\t0.00\t0.00\t0.00\t0.81\t\n",
      "135:\t0.01\t0.00\t0.00\t0.05\t0.04\t0.00\t0.00\t0.00\t0.00\t0.89\t\n",
      "136:\t0.01\t0.00\t0.00\t0.02\t0.02\t0.00\t0.00\t0.00\t0.00\t0.94\t\n",
      "137:\t0.01\t0.00\t0.00\t0.02\t0.02\t0.00\t0.00\t0.00\t0.00\t0.94\t\n",
      "138:\t0.01\t0.00\t0.00\t0.02\t0.01\t0.00\t0.00\t0.00\t0.00\t0.95\t\n",
      "139:\t0.01\t0.00\t0.00\t0.02\t0.00\t0.00\t0.00\t0.01\t0.00\t0.95\t\n",
      "140:\t0.01\t0.00\t0.00\t0.02\t0.00\t0.01\t0.00\t0.01\t0.00\t0.95\t\n",
      "141:\t0.01\t0.00\t0.00\t0.03\t0.00\t0.01\t0.00\t0.01\t0.00\t0.94\t\n",
      "142:\t0.01\t0.02\t0.01\t0.01\t0.00\t0.09\t0.00\t0.09\t0.00\t0.77\t\n",
      "143:\t0.01\t0.01\t0.02\t0.01\t0.00\t0.02\t0.00\t0.14\t0.00\t0.78\t\n",
      "144:\t0.01\t0.01\t0.05\t0.00\t0.00\t0.00\t0.02\t0.18\t0.00\t0.73\t\n",
      "145:\t0.01\t0.00\t0.04\t0.00\t0.00\t0.00\t0.02\t0.12\t0.00\t0.80\t\n",
      "146:\t0.01\t0.00\t0.05\t0.00\t0.00\t0.00\t0.02\t0.08\t0.00\t0.84\t\n",
      "147:\t0.02\t0.00\t0.02\t0.00\t0.00\t0.00\t0.01\t0.01\t0.00\t0.94\t\n",
      "148:\t0.01\t0.00\t0.00\t0.00\t0.00\t0.00\t0.00\t0.00\t0.00\t0.98\t\n",
      "149:\t0.01\t0.00\t0.00\t0.00\t0.00\t0.00\t0.00\t0.00\t0.00\t0.98\t\n",
      "150:\t0.02\t0.00\t0.00\t0.00\t0.00\t0.00\t0.00\t0.00\t0.00\t0.98\t\n",
      "151:\t0.02\t0.00\t0.00\t0.00\t0.00\t0.00\t0.00\t0.00\t0.00\t0.98\t\n",
      "152:\t0.02\t0.00\t0.00\t0.00\t0.00\t0.00\t0.00\t0.00\t0.00\t0.97\t\n",
      "153:\t0.01\t0.00\t0.07\t0.00\t0.00\t0.00\t0.03\t0.08\t0.00\t0.81\t\n",
      "154:\t0.01\t0.00\t0.07\t0.00\t0.00\t0.01\t0.04\t0.13\t0.00\t0.74\t\n",
      "155:\t0.01\t0.01\t0.06\t0.00\t0.00\t0.01\t0.03\t0.20\t0.00\t0.68\t\n",
      "156:\t0.01\t0.00\t0.05\t0.00\t0.00\t0.01\t0.03\t0.21\t0.00\t0.68\t\n",
      "157:\t0.01\t0.00\t0.04\t0.00\t0.00\t0.01\t0.02\t0.19\t0.00\t0.72\t\n",
      "158:\t0.01\t0.00\t0.04\t0.00\t0.00\t0.01\t0.03\t0.26\t0.00\t0.64\t\n",
      "159:\t0.01\t0.01\t0.09\t0.00\t0.00\t0.01\t0.06\t0.26\t0.00\t0.56\t\n",
      "160:\t0.02\t0.01\t0.05\t0.00\t0.00\t0.02\t0.04\t0.15\t0.00\t0.70\t\n",
      "161:\t0.02\t0.03\t0.03\t0.00\t0.00\t0.04\t0.02\t0.13\t0.00\t0.73\t\n",
      "162:\t0.02\t0.01\t0.08\t0.00\t0.00\t0.01\t0.07\t0.17\t0.00\t0.64\t\n",
      "163:\t0.02\t0.02\t0.07\t0.00\t0.00\t0.03\t0.07\t0.16\t0.00\t0.64\t\n",
      "164:\t0.02\t0.02\t0.05\t0.00\t0.00\t0.03\t0.05\t0.10\t0.00\t0.73\t\n",
      "165:\t0.02\t0.04\t0.03\t0.00\t0.00\t0.04\t0.02\t0.05\t0.00\t0.79\t\n",
      "166:\t0.03\t0.05\t0.03\t0.00\t0.00\t0.07\t0.03\t0.04\t0.00\t0.74\t\n",
      "167:\t0.01\t0.00\t0.08\t0.00\t0.00\t0.00\t0.04\t0.12\t0.00\t0.74\t\n",
      "168:\t0.01\t0.00\t0.01\t0.00\t0.00\t0.00\t0.01\t0.06\t0.00\t0.90\t\n",
      "169:\t0.01\t0.01\t0.00\t0.00\t0.00\t0.01\t0.00\t0.07\t0.00\t0.90\t\n",
      "170:\t0.01\t0.01\t0.00\t0.00\t0.00\t0.01\t0.00\t0.08\t0.00\t0.88\t\n",
      "171:\t0.01\t0.00\t0.00\t0.01\t0.01\t0.01\t0.00\t0.02\t0.00\t0.95\t\n",
      "172:\t0.01\t0.00\t0.00\t0.01\t0.01\t0.01\t0.00\t0.02\t0.00\t0.95\t\n",
      "173:\t0.01\t0.00\t0.00\t0.01\t0.01\t0.01\t0.00\t0.01\t0.00\t0.95\t\n",
      "174:\t0.01\t0.00\t0.00\t0.01\t0.01\t0.01\t0.00\t0.01\t0.00\t0.95\t\n",
      "175:\t0.01\t0.00\t0.00\t0.04\t0.01\t0.01\t0.00\t0.00\t0.00\t0.92\t\n",
      "176:\t0.01\t0.00\t0.00\t0.04\t0.01\t0.01\t0.00\t0.00\t0.00\t0.93\t\n",
      "177:\t0.01\t0.00\t0.00\t0.05\t0.01\t0.01\t0.00\t0.00\t0.00\t0.92\t\n",
      "178:\t0.01\t0.00\t0.00\t0.10\t0.00\t0.01\t0.00\t0.00\t0.00\t0.88\t\n",
      "179:\t0.01\t0.00\t0.00\t0.06\t0.00\t0.01\t0.00\t0.00\t0.00\t0.91\t\n",
      "180:\t0.01\t0.00\t0.00\t0.08\t0.00\t0.01\t0.00\t0.00\t0.00\t0.89\t\n",
      "181:\t0.01\t0.00\t0.00\t0.15\t0.00\t0.00\t0.00\t0.00\t0.00\t0.83\t\n",
      "182:\t0.01\t0.00\t0.00\t0.06\t0.00\t0.01\t0.00\t0.01\t0.00\t0.91\t\n",
      "183:\t0.01\t0.00\t0.00\t0.04\t0.00\t0.00\t0.00\t0.00\t0.00\t0.93\t\n",
      "184:\t0.01\t0.00\t0.00\t0.03\t0.00\t0.00\t0.00\t0.00\t0.00\t0.95\t\n",
      "185:\t0.01\t0.00\t0.00\t0.02\t0.00\t0.00\t0.00\t0.01\t0.00\t0.95\t\n",
      "186:\t0.01\t0.00\t0.00\t0.02\t0.00\t0.00\t0.00\t0.01\t0.00\t0.95\t\n",
      "187:\t0.01\t0.00\t0.00\t0.01\t0.00\t0.00\t0.00\t0.02\t0.00\t0.95\t\n",
      "188:\t0.01\t0.00\t0.00\t0.00\t0.00\t0.00\t0.00\t0.02\t0.00\t0.96\t\n",
      "189:\t0.01\t0.00\t0.00\t0.00\t0.00\t0.00\t0.00\t0.02\t0.00\t0.97\t\n",
      "190:\t0.01\t0.00\t0.00\t0.00\t0.00\t0.00\t0.00\t0.01\t0.00\t0.98\t\n",
      "191:\t0.01\t0.00\t0.00\t0.00\t0.00\t0.00\t0.00\t0.03\t0.00\t0.96\t\n",
      "192:\t0.01\t0.00\t0.00\t0.00\t0.00\t0.00\t0.00\t0.04\t0.00\t0.94\t\n",
      "193:\t0.01\t0.00\t0.00\t0.00\t0.00\t0.00\t0.00\t0.09\t0.00\t0.89\t\n",
      "194:\t0.01\t0.00\t0.00\t0.00\t0.00\t0.00\t0.00\t0.12\t0.00\t0.86\t\n",
      "195:\t0.01\t0.00\t0.00\t0.00\t0.00\t0.00\t0.00\t0.09\t0.00\t0.89\t\n",
      "196:\t0.01\t0.01\t0.00\t0.00\t0.00\t0.01\t0.00\t0.14\t0.00\t0.84\t\n",
      "197:\t0.01\t0.01\t0.01\t0.00\t0.00\t0.01\t0.00\t0.15\t0.00\t0.81\t\n",
      "198:\t0.01\t0.01\t0.01\t0.00\t0.00\t0.01\t0.01\t0.14\t0.00\t0.82\t\n",
      "199:\t0.01\t0.01\t0.03\t0.00\t0.00\t0.01\t0.02\t0.21\t0.00\t0.71\t\n",
      "200:\t0.01\t0.01\t0.04\t0.00\t0.00\t0.01\t0.03\t0.19\t0.00\t0.72\t\n",
      "201:\t0.01\t0.01\t0.01\t0.01\t0.00\t0.02\t0.01\t0.07\t0.00\t0.87\t\n",
      "202:\t0.02\t0.02\t0.01\t0.01\t0.00\t0.04\t0.01\t0.07\t0.00\t0.82\t\n",
      "203:\t0.02\t0.02\t0.06\t0.00\t0.00\t0.03\t0.05\t0.15\t0.00\t0.67\t\n",
      "204:\t0.02\t0.03\t0.01\t0.02\t0.00\t0.05\t0.01\t0.06\t0.00\t0.81\t\n",
      "205:\t0.02\t0.01\t0.03\t0.01\t0.00\t0.01\t0.02\t0.06\t0.00\t0.85\t\n",
      "206:\t0.02\t0.00\t0.02\t0.01\t0.00\t0.00\t0.01\t0.01\t0.00\t0.92\t\n",
      "207:\t0.03\t0.00\t0.00\t0.00\t0.00\t0.00\t0.00\t0.00\t0.00\t0.96\t\n",
      "208:\t0.06\t0.00\t0.00\t0.01\t0.00\t0.00\t0.00\t0.00\t0.00\t0.93\t\n",
      "209:\t0.03\t0.00\t0.00\t0.00\t0.00\t0.00\t0.00\t0.00\t0.00\t0.97\t\n",
      "210:\t0.03\t0.00\t0.00\t0.00\t0.00\t0.00\t0.00\t0.00\t0.00\t0.97\t\n",
      "211:\t0.04\t0.00\t0.00\t0.00\t0.00\t0.00\t0.00\t0.00\t0.00\t0.96\t\n",
      "212:\t0.04\t0.00\t0.00\t0.00\t0.00\t0.00\t0.00\t0.00\t0.00\t0.96\t\n",
      "213:\t0.03\t0.00\t0.00\t0.00\t0.00\t0.00\t0.00\t0.00\t0.00\t0.97\t\n",
      "214:\t0.04\t0.00\t0.00\t0.00\t0.00\t0.00\t0.00\t0.00\t0.00\t0.96\t\n",
      "215:\t0.01\t0.00\t0.06\t0.00\t0.00\t0.00\t0.03\t0.05\t0.00\t0.84\t\n",
      "216:\t0.01\t0.00\t0.08\t0.00\t0.00\t0.00\t0.03\t0.14\t0.00\t0.73\t\n",
      "217:\t0.01\t0.01\t0.08\t0.00\t0.00\t0.00\t0.04\t0.34\t0.00\t0.52\t\n",
      "218:\t0.01\t0.01\t0.08\t0.00\t0.00\t0.00\t0.04\t0.43\t0.00\t0.43\t\n",
      "219:\t0.01\t0.01\t0.08\t0.00\t0.00\t0.01\t0.04\t0.43\t0.00\t0.42\t\n",
      "220:\t0.01\t0.01\t0.09\t0.00\t0.00\t0.01\t0.05\t0.46\t0.00\t0.38\t\n",
      "221:\t0.01\t0.01\t0.08\t0.00\t0.00\t0.01\t0.05\t0.46\t0.00\t0.38\t\n",
      "222:\t0.01\t0.01\t0.08\t0.00\t0.00\t0.01\t0.05\t0.44\t0.00\t0.40\t\n",
      "223:\t0.01\t0.01\t0.07\t0.00\t0.00\t0.01\t0.04\t0.38\t0.00\t0.49\t\n",
      "224:\t0.01\t0.00\t0.03\t0.00\t0.00\t0.00\t0.02\t0.16\t0.00\t0.77\t\n",
      "225:\t0.01\t0.01\t0.05\t0.00\t0.00\t0.01\t0.03\t0.22\t0.00\t0.68\t\n",
      "226:\t0.01\t0.01\t0.04\t0.00\t0.00\t0.01\t0.02\t0.22\t0.00\t0.69\t\n",
      "227:\t0.01\t0.02\t0.04\t0.00\t0.00\t0.02\t0.02\t0.24\t0.00\t0.64\t\n",
      "228:\t0.01\t0.01\t0.04\t0.00\t0.00\t0.02\t0.03\t0.19\t0.00\t0.70\t\n",
      "229:\t0.01\t0.01\t0.05\t0.00\t0.00\t0.02\t0.03\t0.17\t0.00\t0.71\t\n",
      "230:\t0.01\t0.01\t0.03\t0.00\t0.00\t0.01\t0.02\t0.11\t0.00\t0.81\t\n",
      "231:\t0.02\t0.01\t0.03\t0.00\t0.00\t0.02\t0.02\t0.08\t0.00\t0.82\t\n",
      "232:\t0.02\t0.04\t0.01\t0.00\t0.00\t0.07\t0.01\t0.08\t0.00\t0.76\t\n",
      "233:\t0.02\t0.05\t0.01\t0.00\t0.00\t0.07\t0.01\t0.08\t0.00\t0.77\t\n",
      "234:\t0.01\t0.05\t0.00\t0.00\t0.00\t0.23\t0.00\t0.04\t0.00\t0.66\t\n",
      "235:\t0.01\t0.03\t0.00\t0.01\t0.00\t0.15\t0.00\t0.07\t0.00\t0.72\t\n",
      "236:\t0.01\t0.00\t0.00\t0.08\t0.00\t0.02\t0.00\t0.01\t0.00\t0.88\t\n",
      "237:\t0.01\t0.01\t0.00\t0.05\t0.00\t0.03\t0.00\t0.02\t0.00\t0.88\t\n",
      "238:\t0.01\t0.01\t0.00\t0.04\t0.00\t0.04\t0.00\t0.02\t0.00\t0.87\t\n",
      "239:\t0.01\t0.01\t0.00\t0.06\t0.00\t0.03\t0.00\t0.01\t0.00\t0.88\t\n",
      "240:\t0.01\t0.01\t0.00\t0.05\t0.00\t0.03\t0.00\t0.01\t0.00\t0.87\t\n",
      "241:\t0.01\t0.02\t0.00\t0.05\t0.00\t0.04\t0.00\t0.02\t0.00\t0.86\t\n",
      "242:\t0.01\t0.01\t0.00\t0.06\t0.00\t0.04\t0.00\t0.01\t0.00\t0.87\t\n",
      "243:\t0.01\t0.01\t0.00\t0.05\t0.00\t0.05\t0.00\t0.01\t0.00\t0.86\t\n",
      "244:\t0.01\t0.01\t0.00\t0.03\t0.00\t0.03\t0.00\t0.01\t0.00\t0.91\t\n",
      "245:\t0.01\t0.00\t0.00\t0.02\t0.02\t0.05\t0.00\t0.00\t0.00\t0.90\t\n",
      "246:\t0.01\t0.02\t0.00\t0.01\t0.00\t0.12\t0.00\t0.03\t0.00\t0.81\t\n",
      "247:\t0.02\t0.02\t0.00\t0.01\t0.00\t0.10\t0.00\t0.03\t0.00\t0.82\t\n",
      "248:\t0.01\t0.03\t0.01\t0.01\t0.00\t0.12\t0.00\t0.06\t0.00\t0.76\t\n",
      "249:\t0.01\t0.04\t0.01\t0.01\t0.00\t0.14\t0.00\t0.06\t0.00\t0.73\t\n",
      "250:\t0.01\t0.06\t0.01\t0.01\t0.00\t0.13\t0.00\t0.05\t0.00\t0.74\t\n",
      "251:\t0.01\t0.02\t0.05\t0.00\t0.00\t0.02\t0.02\t0.27\t0.00\t0.60\t\n",
      "252:\t0.01\t0.01\t0.06\t0.00\t0.00\t0.01\t0.03\t0.28\t0.00\t0.60\t\n",
      "253:\t0.01\t0.01\t0.08\t0.00\t0.00\t0.00\t0.04\t0.44\t0.00\t0.42\t\n",
      "254:\t0.01\t0.01\t0.08\t0.00\t0.00\t0.00\t0.05\t0.49\t0.00\t0.35\t\n",
      "255:\t0.01\t0.01\t0.08\t0.00\t0.00\t0.00\t0.05\t0.51\t0.00\t0.33\t\n",
      "256:\t0.01\t0.01\t0.08\t0.00\t0.00\t0.00\t0.07\t0.49\t0.00\t0.34\t\n",
      "257:\t0.01\t0.01\t0.08\t0.00\t0.00\t0.00\t0.05\t0.49\t0.00\t0.35\t\n",
      "258:\t0.01\t0.01\t0.09\t0.00\t0.00\t0.00\t0.06\t0.44\t0.00\t0.38\t\n",
      "259:\t0.01\t0.01\t0.13\t0.00\t0.00\t0.00\t0.10\t0.42\t0.00\t0.33\t\n",
      "260:\t0.01\t0.02\t0.15\t0.00\t0.00\t0.01\t0.14\t0.39\t0.00\t0.27\t\n",
      "261:\t0.01\t0.02\t0.13\t0.00\t0.00\t0.02\t0.11\t0.40\t0.00\t0.32\t\n",
      "262:\t0.01\t0.01\t0.05\t0.01\t0.00\t0.01\t0.02\t0.19\t0.00\t0.70\t\n",
      "263:\t0.01\t0.00\t0.00\t0.03\t0.00\t0.01\t0.00\t0.04\t0.00\t0.90\t\n",
      "264:\t0.01\t0.00\t0.00\t0.02\t0.00\t0.01\t0.00\t0.01\t0.00\t0.94\t\n",
      "265:\t0.01\t0.00\t0.00\t0.04\t0.00\t0.01\t0.00\t0.01\t0.00\t0.93\t\n",
      "266:\t0.02\t0.00\t0.00\t0.03\t0.00\t0.01\t0.00\t0.01\t0.00\t0.93\t\n",
      "267:\t0.02\t0.00\t0.00\t0.05\t0.00\t0.01\t0.00\t0.00\t0.00\t0.90\t\n",
      "268:\t0.03\t0.01\t0.00\t0.03\t0.00\t0.02\t0.00\t0.01\t0.00\t0.90\t\n",
      "269:\t0.02\t0.00\t0.00\t0.02\t0.00\t0.01\t0.00\t0.01\t0.00\t0.93\t\n",
      "270:\t0.01\t0.00\t0.00\t0.02\t0.01\t0.01\t0.00\t0.00\t0.00\t0.95\t\n",
      "271:\t0.01\t0.00\t0.00\t0.01\t0.01\t0.01\t0.00\t0.01\t0.00\t0.94\t\n",
      "272:\t0.01\t0.01\t0.00\t0.01\t0.01\t0.01\t0.00\t0.03\t0.00\t0.94\t\n",
      "273:\t0.01\t0.01\t0.00\t0.00\t0.00\t0.01\t0.00\t0.04\t0.00\t0.93\t\n",
      "274:\t0.01\t0.01\t0.00\t0.00\t0.00\t0.01\t0.00\t0.07\t0.00\t0.90\t\n",
      "275:\t0.01\t0.01\t0.01\t0.00\t0.00\t0.01\t0.00\t0.12\t0.00\t0.85\t\n",
      "276:\t0.01\t0.01\t0.02\t0.00\t0.00\t0.01\t0.01\t0.18\t0.00\t0.76\t\n",
      "277:\t0.01\t0.01\t0.02\t0.00\t0.00\t0.01\t0.02\t0.20\t0.00\t0.73\t\n",
      "278:\t0.01\t0.01\t0.02\t0.00\t0.00\t0.01\t0.02\t0.21\t0.00\t0.73\t\n",
      "279:\t0.01\t0.01\t0.03\t0.00\t0.00\t0.01\t0.02\t0.22\t0.00\t0.70\t\n",
      "280:\t0.01\t0.01\t0.03\t0.00\t0.00\t0.01\t0.02\t0.27\t0.00\t0.64\t\n",
      "281:\t0.01\t0.01\t0.02\t0.00\t0.00\t0.01\t0.01\t0.19\t0.00\t0.75\t\n",
      "282:\t0.01\t0.00\t0.06\t0.00\t0.00\t0.01\t0.03\t0.16\t0.00\t0.72\t\n",
      "283:\t0.01\t0.00\t0.08\t0.00\t0.00\t0.00\t0.04\t0.09\t0.00\t0.77\t\n",
      "284:\t0.01\t0.00\t0.03\t0.00\t0.00\t0.00\t0.02\t0.03\t0.00\t0.90\t\n",
      "285:\t0.01\t0.00\t0.03\t0.00\t0.00\t0.00\t0.01\t0.01\t0.00\t0.93\t\n",
      "286:\t0.01\t0.00\t0.02\t0.00\t0.00\t0.00\t0.01\t0.01\t0.00\t0.95\t\n",
      "287:\t0.02\t0.00\t0.00\t0.00\t0.00\t0.00\t0.00\t0.00\t0.00\t0.97\t\n",
      "288:\t0.04\t0.00\t0.00\t0.00\t0.00\t0.00\t0.00\t0.00\t0.00\t0.96\t\n",
      "289:\t0.02\t0.00\t0.00\t0.00\t0.00\t0.00\t0.00\t0.00\t0.00\t0.98\t\n",
      "290:\t0.03\t0.00\t0.00\t0.00\t0.00\t0.00\t0.00\t0.00\t0.00\t0.97\t\n",
      "291:\t0.04\t0.00\t0.00\t0.00\t0.00\t0.00\t0.00\t0.00\t0.00\t0.96\t\n",
      "292:\t0.04\t0.00\t0.00\t0.00\t0.00\t0.00\t0.00\t0.00\t0.00\t0.96\t\n",
      "293:\t0.05\t0.00\t0.00\t0.00\t0.00\t0.00\t0.00\t0.00\t0.00\t0.95\t\n",
      "294:\t0.03\t0.00\t0.01\t0.00\t0.00\t0.00\t0.00\t0.00\t0.00\t0.95\t\n",
      "295:\t0.01\t0.00\t0.02\t0.00\t0.00\t0.00\t0.01\t0.02\t0.00\t0.93\t\n",
      "296:\t0.01\t0.00\t0.01\t0.00\t0.00\t0.00\t0.01\t0.03\t0.00\t0.93\t\n",
      "297:\t0.01\t0.00\t0.01\t0.00\t0.00\t0.00\t0.01\t0.03\t0.00\t0.94\t\n",
      "298:\t0.01\t0.00\t0.01\t0.00\t0.00\t0.00\t0.01\t0.02\t0.00\t0.94\t\n",
      "299:\t0.01\t0.00\t0.02\t0.01\t0.00\t0.00\t0.01\t0.02\t0.00\t0.93\t\n",
      "300:\t0.01\t0.00\t0.02\t0.00\t0.00\t0.00\t0.01\t0.02\t0.00\t0.93\t\n",
      "301:\t0.01\t0.02\t0.02\t0.00\t0.00\t0.01\t0.01\t0.03\t0.00\t0.89\t\n",
      "302:\t0.02\t0.11\t0.01\t0.00\t0.00\t0.03\t0.01\t0.02\t0.00\t0.80\t\n",
      "303:\t0.02\t0.08\t0.00\t0.00\t0.00\t0.03\t0.00\t0.01\t0.00\t0.84\t\n",
      "304:\t0.01\t0.00\t0.02\t0.00\t0.00\t0.00\t0.01\t0.03\t0.00\t0.92\t\n",
      "305:\t0.01\t0.01\t0.01\t0.01\t0.00\t0.00\t0.00\t0.04\t0.00\t0.92\t\n",
      "306:\t0.01\t0.00\t0.00\t0.01\t0.00\t0.00\t0.00\t0.02\t0.00\t0.96\t\n",
      "307:\t0.01\t0.00\t0.00\t0.01\t0.00\t0.00\t0.00\t0.01\t0.00\t0.97\t\n",
      "308:\t0.01\t0.00\t0.00\t0.00\t0.00\t0.00\t0.00\t0.02\t0.00\t0.96\t\n",
      "309:\t0.01\t0.00\t0.00\t0.01\t0.00\t0.00\t0.00\t0.02\t0.00\t0.95\t\n",
      "310:\t0.01\t0.00\t0.00\t0.01\t0.00\t0.00\t0.00\t0.02\t0.00\t0.95\t\n",
      "311:\t0.01\t0.00\t0.01\t0.00\t0.00\t0.00\t0.00\t0.03\t0.00\t0.94\t\n",
      "312:\t0.01\t0.00\t0.02\t0.00\t0.00\t0.00\t0.01\t0.03\t0.00\t0.93\t\n",
      "313:\t0.01\t0.00\t0.00\t0.00\t0.00\t0.00\t0.00\t0.00\t0.00\t0.98\t\n",
      "314:\t0.01\t0.00\t0.00\t0.00\t0.00\t0.00\t0.00\t0.00\t0.00\t0.99\t\n",
      "315:\t0.01\t0.00\t0.00\t0.00\t0.00\t0.00\t0.00\t0.00\t0.00\t0.99\t\n",
      "316:\t0.02\t0.00\t0.00\t0.00\t0.00\t0.00\t0.00\t0.00\t0.00\t0.98\t\n",
      "317:\t0.01\t0.00\t0.00\t0.00\t0.00\t0.00\t0.00\t0.00\t0.00\t0.98\t\n",
      "318:\t0.01\t0.00\t0.00\t0.00\t0.00\t0.00\t0.00\t0.00\t0.00\t0.99\t\n",
      "319:\t0.02\t0.00\t0.00\t0.00\t0.00\t0.00\t0.00\t0.00\t0.00\t0.98\t\n",
      "320:\t0.03\t0.00\t0.00\t0.00\t0.00\t0.00\t0.00\t0.00\t0.00\t0.97\t\n",
      "321:\t0.03\t0.00\t0.00\t0.00\t0.00\t0.00\t0.00\t0.00\t0.00\t0.97\t\n",
      "322:\t0.03\t0.00\t0.00\t0.00\t0.00\t0.00\t0.00\t0.00\t0.00\t0.97\t\n",
      "323:\t0.03\t0.00\t0.00\t0.00\t0.00\t0.00\t0.00\t0.00\t0.00\t0.97\t\n",
      "324:\t0.03\t0.00\t0.00\t0.00\t0.00\t0.00\t0.00\t0.00\t0.00\t0.97\t\n",
      "325:\t0.04\t0.00\t0.00\t0.00\t0.00\t0.00\t0.00\t0.00\t0.00\t0.96\t\n",
      "326:\t0.04\t0.00\t0.00\t0.00\t0.00\t0.00\t0.00\t0.00\t0.00\t0.96\t\n",
      "327:\t0.01\t0.00\t0.01\t0.00\t0.00\t0.00\t0.01\t0.00\t0.00\t0.96\t\n",
      "328:\t0.01\t0.00\t0.02\t0.00\t0.00\t0.00\t0.01\t0.02\t0.00\t0.94\t\n",
      "329:\t0.01\t0.00\t0.02\t0.00\t0.00\t0.00\t0.01\t0.03\t0.00\t0.93\t\n",
      "330:\t0.01\t0.00\t0.02\t0.00\t0.00\t0.00\t0.01\t0.03\t0.00\t0.91\t\n",
      "331:\t0.01\t0.00\t0.03\t0.00\t0.00\t0.00\t0.01\t0.05\t0.00\t0.89\t\n",
      "332:\t0.01\t0.00\t0.03\t0.00\t0.00\t0.00\t0.01\t0.04\t0.00\t0.90\t\n",
      "333:\t0.01\t0.00\t0.03\t0.00\t0.00\t0.00\t0.01\t0.07\t0.00\t0.87\t\n",
      "334:\t0.01\t0.00\t0.06\t0.00\t0.00\t0.00\t0.03\t0.15\t0.00\t0.74\t\n",
      "335:\t0.01\t0.00\t0.07\t0.00\t0.00\t0.00\t0.04\t0.20\t0.00\t0.68\t\n",
      "336:\t0.01\t0.00\t0.07\t0.00\t0.00\t0.00\t0.03\t0.19\t0.00\t0.70\t\n",
      "337:\t0.01\t0.00\t0.06\t0.00\t0.00\t0.00\t0.03\t0.22\t0.00\t0.67\t\n",
      "338:\t0.01\t0.00\t0.05\t0.00\t0.00\t0.00\t0.03\t0.09\t0.00\t0.82\t\n",
      "339:\t0.01\t0.00\t0.06\t0.00\t0.00\t0.00\t0.03\t0.10\t0.00\t0.80\t\n",
      "340:\t0.01\t0.00\t0.06\t0.00\t0.00\t0.00\t0.04\t0.24\t0.00\t0.64\t\n",
      "341:\t0.01\t0.01\t0.07\t0.00\t0.00\t0.00\t0.04\t0.39\t0.00\t0.48\t\n",
      "342:\t0.01\t0.01\t0.08\t0.00\t0.00\t0.00\t0.05\t0.42\t0.00\t0.43\t\n",
      "343:\t0.01\t0.01\t0.07\t0.00\t0.00\t0.00\t0.05\t0.42\t0.00\t0.44\t\n",
      "344:\t0.01\t0.01\t0.09\t0.00\t0.00\t0.00\t0.04\t0.35\t0.00\t0.50\t\n",
      "345:\t0.01\t0.01\t0.05\t0.00\t0.00\t0.00\t0.02\t0.20\t0.00\t0.72\t\n",
      "346:\t0.01\t0.01\t0.03\t0.00\t0.00\t0.01\t0.01\t0.20\t0.00\t0.73\t\n",
      "347:\t0.01\t0.00\t0.01\t0.00\t0.00\t0.00\t0.00\t0.13\t0.00\t0.84\t\n",
      "348:\t0.01\t0.00\t0.01\t0.00\t0.00\t0.01\t0.01\t0.16\t0.00\t0.81\t\n",
      "349:\t0.01\t0.00\t0.01\t0.00\t0.00\t0.00\t0.00\t0.12\t0.00\t0.85\t\n",
      "350:\t0.01\t0.00\t0.00\t0.00\t0.00\t0.01\t0.00\t0.12\t0.00\t0.85\t\n",
      "351:\t0.01\t0.00\t0.00\t0.00\t0.01\t0.01\t0.00\t0.07\t0.00\t0.90\t\n",
      "352:\t0.01\t0.00\t0.00\t0.00\t0.00\t0.01\t0.00\t0.10\t0.00\t0.88\t\n",
      "353:\t0.01\t0.00\t0.00\t0.00\t0.00\t0.01\t0.00\t0.08\t0.00\t0.90\t\n",
      "354:\t0.01\t0.00\t0.00\t0.01\t0.00\t0.00\t0.00\t0.02\t0.00\t0.95\t\n",
      "355:\t0.01\t0.01\t0.00\t0.01\t0.00\t0.00\t0.00\t0.02\t0.00\t0.95\t\n",
      "356:\t0.01\t0.01\t0.00\t0.01\t0.00\t0.00\t0.00\t0.02\t0.00\t0.94\t\n",
      "357:\t0.01\t0.00\t0.00\t0.02\t0.00\t0.00\t0.00\t0.02\t0.00\t0.94\t\n",
      "358:\t0.01\t0.01\t0.00\t0.03\t0.00\t0.01\t0.00\t0.03\t0.00\t0.90\t\n",
      "359:\t0.01\t0.01\t0.00\t0.06\t0.01\t0.01\t0.00\t0.03\t0.00\t0.86\t\n",
      "360:\t0.01\t0.01\t0.00\t0.04\t0.01\t0.03\t0.00\t0.03\t0.00\t0.86\t\n",
      "361:\t0.02\t0.02\t0.00\t0.01\t0.00\t0.06\t0.00\t0.06\t0.00\t0.81\t\n",
      "362:\t0.02\t0.02\t0.01\t0.02\t0.00\t0.06\t0.01\t0.04\t0.00\t0.83\t\n",
      "363:\t0.02\t0.02\t0.00\t0.06\t0.00\t0.04\t0.00\t0.01\t0.00\t0.85\t\n",
      "364:\t0.01\t0.00\t0.00\t0.07\t0.00\t0.01\t0.00\t0.00\t0.00\t0.89\t\n",
      "365:\t0.01\t0.00\t0.00\t0.04\t0.01\t0.01\t0.00\t0.00\t0.00\t0.94\t\n",
      "366:\t0.01\t0.00\t0.00\t0.03\t0.05\t0.01\t0.00\t0.00\t0.00\t0.90\t\n",
      "367:\t0.01\t0.00\t0.00\t0.03\t0.06\t0.00\t0.00\t0.00\t0.00\t0.90\t\n",
      "368:\t0.01\t0.00\t0.00\t0.02\t0.03\t0.00\t0.00\t0.00\t0.00\t0.92\t\n",
      "369:\t0.01\t0.00\t0.00\t0.08\t0.02\t0.01\t0.00\t0.01\t0.00\t0.88\t\n",
      "370:\t0.01\t0.00\t0.00\t0.19\t0.02\t0.01\t0.00\t0.00\t0.00\t0.77\t\n",
      "371:\t0.01\t0.00\t0.00\t0.05\t0.01\t0.00\t0.00\t0.01\t0.00\t0.91\t\n",
      "372:\t0.01\t0.00\t0.00\t0.08\t0.02\t0.00\t0.00\t0.01\t0.00\t0.87\t\n",
      "373:\t0.01\t0.00\t0.00\t0.10\t0.04\t0.00\t0.00\t0.00\t0.00\t0.84\t\n",
      "374:\t0.01\t0.00\t0.00\t0.19\t0.04\t0.01\t0.00\t0.00\t0.00\t0.75\t\n",
      "375:\t0.01\t0.00\t0.00\t0.10\t0.08\t0.01\t0.00\t0.00\t0.00\t0.80\t\n",
      "376:\t0.01\t0.00\t0.00\t0.10\t0.08\t0.02\t0.00\t0.00\t0.00\t0.78\t\n",
      "377:\t0.02\t0.00\t0.00\t0.14\t0.02\t0.06\t0.00\t0.00\t0.00\t0.75\t\n",
      "378:\t0.02\t0.00\t0.00\t0.32\t0.03\t0.02\t0.00\t0.00\t0.00\t0.61\t\n",
      "379:\t0.02\t0.00\t0.00\t0.31\t0.02\t0.02\t0.00\t0.00\t0.00\t0.62\t\n",
      "380:\t0.04\t0.01\t0.00\t0.11\t0.01\t0.04\t0.00\t0.00\t0.00\t0.79\t\n",
      "381:\t0.03\t0.00\t0.00\t0.11\t0.01\t0.02\t0.00\t0.00\t0.00\t0.82\t\n",
      "382:\t0.05\t0.00\t0.00\t0.27\t0.01\t0.00\t0.00\t0.00\t0.00\t0.66\t\n",
      "383:\t0.10\t0.00\t0.00\t0.28\t0.04\t0.00\t0.00\t0.00\t0.00\t0.58\t\n",
      "384:\t0.06\t0.00\t0.00\t0.28\t0.03\t0.00\t0.00\t0.00\t0.00\t0.62\t\n",
      "385:\t0.02\t0.00\t0.00\t0.18\t0.01\t0.01\t0.00\t0.00\t0.00\t0.78\t\n",
      "386:\t0.01\t0.00\t0.00\t0.07\t0.01\t0.01\t0.00\t0.00\t0.00\t0.89\t\n",
      "387:\t0.02\t0.00\t0.00\t0.04\t0.04\t0.02\t0.00\t0.00\t0.00\t0.88\t\n",
      "388:\t0.01\t0.00\t0.00\t0.01\t0.01\t0.01\t0.00\t0.01\t0.00\t0.94\t\n",
      "389:\t0.01\t0.00\t0.00\t0.01\t0.01\t0.01\t0.00\t0.02\t0.00\t0.94\t\n",
      "390:\t0.01\t0.00\t0.00\t0.00\t0.00\t0.01\t0.00\t0.04\t0.00\t0.92\t\n",
      "391:\t0.01\t0.01\t0.01\t0.00\t0.00\t0.01\t0.01\t0.17\t0.00\t0.78\t\n",
      "392:\t0.01\t0.01\t0.01\t0.00\t0.00\t0.01\t0.01\t0.21\t0.00\t0.73\t\n",
      "393:\t0.01\t0.01\t0.02\t0.00\t0.00\t0.01\t0.01\t0.22\t0.00\t0.73\t\n",
      "394:\t0.01\t0.01\t0.08\t0.00\t0.00\t0.01\t0.05\t0.38\t0.00\t0.46\t\n",
      "395:\t0.01\t0.01\t0.08\t0.00\t0.00\t0.01\t0.05\t0.40\t0.00\t0.44\t\n",
      "396:\t0.01\t0.01\t0.07\t0.00\t0.00\t0.00\t0.04\t0.40\t0.00\t0.47\t\n",
      "397:\t0.01\t0.01\t0.08\t0.00\t0.00\t0.00\t0.05\t0.46\t0.00\t0.39\t\n",
      "398:\t0.01\t0.01\t0.07\t0.00\t0.00\t0.00\t0.04\t0.43\t0.00\t0.45\t\n",
      "399:\t0.01\t0.01\t0.09\t0.00\t0.00\t0.00\t0.06\t0.41\t0.00\t0.43\t\n",
      "400:\t0.01\t0.01\t0.07\t0.00\t0.00\t0.00\t0.04\t0.43\t0.00\t0.44\t\n",
      "401:\t0.01\t0.01\t0.08\t0.00\t0.00\t0.00\t0.06\t0.48\t0.00\t0.37\t\n",
      "402:\t0.01\t0.01\t0.07\t0.00\t0.00\t0.00\t0.04\t0.42\t0.00\t0.44\t\n",
      "403:\t0.01\t0.01\t0.08\t0.00\t0.00\t0.00\t0.04\t0.34\t0.00\t0.53\t\n",
      "404:\t0.01\t0.01\t0.08\t0.00\t0.00\t0.00\t0.04\t0.40\t0.00\t0.46\t\n",
      "405:\t0.01\t0.01\t0.08\t0.00\t0.00\t0.00\t0.04\t0.34\t0.00\t0.53\t\n",
      "406:\t0.01\t0.01\t0.07\t0.00\t0.00\t0.00\t0.04\t0.30\t0.00\t0.58\t\n",
      "407:\t0.01\t0.00\t0.06\t0.00\t0.00\t0.00\t0.04\t0.14\t0.00\t0.75\t\n",
      "408:\t0.01\t0.00\t0.01\t0.00\t0.00\t0.00\t0.01\t0.00\t0.00\t0.97\t\n",
      "409:\t0.01\t0.00\t0.00\t0.00\t0.00\t0.00\t0.00\t0.00\t0.00\t0.98\t\n",
      "410:\t0.01\t0.00\t0.00\t0.00\t0.00\t0.00\t0.00\t0.00\t0.00\t0.98\t\n",
      "411:\t0.01\t0.00\t0.00\t0.00\t0.00\t0.00\t0.00\t0.00\t0.00\t0.98\t\n",
      "412:\t0.01\t0.00\t0.01\t0.00\t0.00\t0.00\t0.01\t0.00\t0.00\t0.97\t\n",
      "413:\t0.01\t0.00\t0.00\t0.00\t0.00\t0.00\t0.00\t0.00\t0.00\t0.98\t\n",
      "414:\t0.04\t0.00\t0.00\t0.00\t0.00\t0.00\t0.00\t0.00\t0.00\t0.96\t\n",
      "415:\t0.04\t0.00\t0.00\t0.00\t0.00\t0.00\t0.00\t0.00\t0.00\t0.96\t\n",
      "416:\t0.04\t0.00\t0.00\t0.00\t0.00\t0.00\t0.00\t0.00\t0.00\t0.96\t\n",
      "417:\t0.04\t0.00\t0.00\t0.00\t0.00\t0.00\t0.00\t0.00\t0.00\t0.96\t\n",
      "418:\t0.04\t0.00\t0.00\t0.00\t0.00\t0.00\t0.00\t0.00\t0.00\t0.96\t\n",
      "419:\t0.04\t0.00\t0.00\t0.00\t0.00\t0.00\t0.00\t0.00\t0.00\t0.95\t\n",
      "420:\t0.04\t0.00\t0.00\t0.00\t0.00\t0.00\t0.00\t0.00\t0.00\t0.96\t\n",
      "421:\t0.03\t0.00\t0.00\t0.00\t0.00\t0.00\t0.00\t0.00\t0.00\t0.97\t\n",
      "422:\t0.01\t0.00\t0.09\t0.00\t0.00\t0.00\t0.04\t0.08\t0.00\t0.78\t\n",
      "423:\t0.01\t0.00\t0.07\t0.00\t0.00\t0.00\t0.03\t0.14\t0.00\t0.74\t\n",
      "424:\t0.01\t0.00\t0.06\t0.00\t0.00\t0.00\t0.02\t0.15\t0.00\t0.75\t\n",
      "425:\t0.01\t0.01\t0.06\t0.00\t0.00\t0.01\t0.03\t0.26\t0.00\t0.63\t\n",
      "426:\t0.01\t0.01\t0.04\t0.00\t0.00\t0.01\t0.02\t0.25\t0.00\t0.67\t\n",
      "427:\t0.01\t0.01\t0.01\t0.00\t0.00\t0.01\t0.01\t0.16\t0.00\t0.80\t\n",
      "428:\t0.01\t0.00\t0.01\t0.00\t0.00\t0.01\t0.00\t0.10\t0.00\t0.86\t\n",
      "429:\t0.01\t0.00\t0.00\t0.00\t0.00\t0.01\t0.00\t0.10\t0.00\t0.87\t\n",
      "430:\t0.01\t0.00\t0.00\t0.00\t0.00\t0.01\t0.00\t0.10\t0.00\t0.88\t\n",
      "431:\t0.01\t0.01\t0.01\t0.00\t0.00\t0.01\t0.00\t0.14\t0.00\t0.83\t\n",
      "432:\t0.01\t0.01\t0.01\t0.00\t0.00\t0.01\t0.00\t0.13\t0.00\t0.84\t\n",
      "433:\t0.01\t0.01\t0.01\t0.00\t0.00\t0.01\t0.00\t0.10\t0.00\t0.87\t\n",
      "434:\t0.01\t0.00\t0.01\t0.00\t0.00\t0.00\t0.00\t0.08\t0.00\t0.89\t\n",
      "435:\t0.01\t0.00\t0.01\t0.00\t0.00\t0.01\t0.00\t0.08\t0.00\t0.89\t\n",
      "436:\t0.01\t0.01\t0.01\t0.00\t0.00\t0.01\t0.01\t0.08\t0.00\t0.87\t\n",
      "437:\t0.02\t0.02\t0.01\t0.01\t0.00\t0.05\t0.01\t0.10\t0.00\t0.79\t\n",
      "438:\t0.02\t0.01\t0.02\t0.00\t0.00\t0.02\t0.02\t0.09\t0.00\t0.81\t\n",
      "439:\t0.02\t0.01\t0.04\t0.00\t0.00\t0.01\t0.04\t0.09\t0.00\t0.80\t\n",
      "440:\t0.02\t0.00\t0.03\t0.00\t0.00\t0.00\t0.02\t0.06\t0.00\t0.86\t\n",
      "441:\t0.02\t0.01\t0.04\t0.00\t0.00\t0.01\t0.03\t0.09\t0.00\t0.82\t\n",
      "442:\t0.02\t0.00\t0.01\t0.00\t0.00\t0.00\t0.00\t0.01\t0.00\t0.96\t\n",
      "443:\t0.01\t0.00\t0.01\t0.00\t0.00\t0.00\t0.00\t0.01\t0.00\t0.96\t\n",
      "444:\t0.05\t0.00\t0.01\t0.08\t0.00\t0.00\t0.00\t0.01\t0.00\t0.85\t\n",
      "445:\t0.09\t0.00\t0.01\t0.16\t0.00\t0.00\t0.01\t0.02\t0.00\t0.71\t\n",
      "446:\t0.04\t0.00\t0.00\t0.13\t0.00\t0.00\t0.00\t0.01\t0.00\t0.80\t\n",
      "447:\t0.05\t0.00\t0.00\t0.19\t0.00\t0.00\t0.00\t0.00\t0.00\t0.76\t\n",
      "448:\t0.01\t0.00\t0.00\t0.07\t0.00\t0.01\t0.00\t0.01\t0.00\t0.89\t\n",
      "449:\t0.01\t0.01\t0.00\t0.01\t0.01\t0.01\t0.00\t0.01\t0.00\t0.94\t\n",
      "450:\t0.01\t0.01\t0.00\t0.00\t0.00\t0.01\t0.00\t0.06\t0.00\t0.91\t\n",
      "451:\t0.01\t0.01\t0.01\t0.00\t0.00\t0.01\t0.00\t0.08\t0.00\t0.89\t\n",
      "452:\t0.01\t0.01\t0.01\t0.00\t0.00\t0.01\t0.01\t0.09\t0.00\t0.87\t\n",
      "453:\t0.01\t0.01\t0.02\t0.00\t0.00\t0.01\t0.01\t0.20\t0.00\t0.74\t\n",
      "454:\t0.01\t0.01\t0.02\t0.00\t0.00\t0.01\t0.01\t0.15\t0.00\t0.79\t\n",
      "455:\t0.01\t0.00\t0.06\t0.00\t0.00\t0.01\t0.04\t0.19\t0.00\t0.68\t\n",
      "456:\t0.01\t0.00\t0.08\t0.00\t0.00\t0.00\t0.04\t0.14\t0.00\t0.73\t\n",
      "457:\t0.01\t0.00\t0.07\t0.00\t0.00\t0.00\t0.03\t0.09\t0.00\t0.80\t\n",
      "458:\t0.01\t0.01\t0.18\t0.00\t0.00\t0.00\t0.13\t0.29\t0.00\t0.38\t\n",
      "459:\t0.01\t0.01\t0.19\t0.00\t0.00\t0.00\t0.15\t0.32\t0.00\t0.33\t\n",
      "460:\t0.01\t0.00\t0.13\t0.00\t0.00\t0.00\t0.10\t0.31\t0.00\t0.44\t\n",
      "461:\t0.01\t0.00\t0.02\t0.00\t0.00\t0.00\t0.01\t0.02\t0.00\t0.93\t\n",
      "462:\t0.01\t0.00\t0.00\t0.00\t0.00\t0.00\t0.00\t0.00\t0.00\t0.98\t\n",
      "463:\t0.01\t0.00\t0.00\t0.00\t0.00\t0.00\t0.00\t0.00\t0.00\t0.99\t\n",
      "464:\t0.01\t0.00\t0.00\t0.00\t0.00\t0.00\t0.00\t0.00\t0.00\t0.99\t\n",
      "465:\t0.01\t0.00\t0.00\t0.00\t0.00\t0.00\t0.00\t0.00\t0.00\t0.99\t\n",
      "466:\t0.02\t0.00\t0.00\t0.00\t0.00\t0.00\t0.00\t0.00\t0.00\t0.98\t\n",
      "467:\t0.01\t0.00\t0.00\t0.00\t0.00\t0.00\t0.00\t0.00\t0.00\t0.99\t\n",
      "468:\t0.02\t0.00\t0.00\t0.00\t0.00\t0.00\t0.00\t0.00\t0.00\t0.98\t\n",
      "469:\t0.02\t0.00\t0.00\t0.00\t0.00\t0.00\t0.00\t0.00\t0.00\t0.98\t\n",
      "470:\t0.04\t0.00\t0.00\t0.00\t0.00\t0.00\t0.00\t0.00\t0.00\t0.96\t\n",
      "471:\t0.02\t0.00\t0.00\t0.00\t0.00\t0.00\t0.00\t0.00\t0.00\t0.98\t\n",
      "472:\t0.03\t0.00\t0.00\t0.00\t0.00\t0.00\t0.00\t0.00\t0.00\t0.97\t\n",
      "473:\t0.03\t0.00\t0.00\t0.00\t0.00\t0.00\t0.00\t0.00\t0.00\t0.97\t\n",
      "474:\t0.01\t0.00\t0.02\t0.00\t0.00\t0.00\t0.01\t0.02\t0.00\t0.94\t\n",
      "475:\t0.01\t0.00\t0.01\t0.00\t0.00\t0.00\t0.01\t0.02\t0.00\t0.94\t\n",
      "476:\t0.01\t0.00\t0.01\t0.00\t0.00\t0.00\t0.01\t0.02\t0.00\t0.94\t\n",
      "477:\t0.01\t0.00\t0.01\t0.00\t0.00\t0.00\t0.00\t0.03\t0.00\t0.94\t\n",
      "478:\t0.01\t0.00\t0.01\t0.00\t0.00\t0.00\t0.01\t0.03\t0.00\t0.94\t\n",
      "479:\t0.01\t0.00\t0.01\t0.00\t0.00\t0.00\t0.00\t0.03\t0.00\t0.95\t\n",
      "480:\t0.01\t0.00\t0.01\t0.00\t0.00\t0.00\t0.00\t0.02\t0.00\t0.95\t\n",
      "481:\t0.01\t0.01\t0.01\t0.01\t0.00\t0.00\t0.00\t0.02\t0.00\t0.94\t\n",
      "482:\t0.01\t0.01\t0.00\t0.00\t0.00\t0.00\t0.00\t0.02\t0.00\t0.95\t\n",
      "483:\t0.02\t0.01\t0.01\t0.01\t0.00\t0.00\t0.00\t0.02\t0.00\t0.94\t\n",
      "484:\t0.01\t0.01\t0.01\t0.01\t0.00\t0.00\t0.00\t0.01\t0.00\t0.95\t\n",
      "485:\t0.06\t0.00\t0.01\t0.03\t0.00\t0.00\t0.01\t0.01\t0.00\t0.88\t\n",
      "486:\t0.19\t0.00\t0.01\t0.03\t0.00\t0.00\t0.01\t0.01\t0.00\t0.75\t\n",
      "487:\t0.10\t0.00\t0.01\t0.00\t0.00\t0.00\t0.01\t0.00\t0.00\t0.87\t\n",
      "488:\t0.16\t0.00\t0.01\t0.00\t0.00\t0.00\t0.01\t0.00\t0.00\t0.81\t\n",
      "489:\t0.30\t0.00\t0.02\t0.00\t0.00\t0.00\t0.02\t0.01\t0.00\t0.64\t\n",
      "490:\t0.26\t0.00\t0.02\t0.00\t0.00\t0.00\t0.02\t0.01\t0.00\t0.69\t\n",
      "491:\t0.36\t0.00\t0.03\t0.00\t0.00\t0.00\t0.02\t0.01\t0.00\t0.58\t\n",
      "492:\t0.30\t0.00\t0.02\t0.01\t0.00\t0.00\t0.01\t0.01\t0.00\t0.65\t\n",
      "493:\t0.43\t0.00\t0.02\t0.00\t0.00\t0.00\t0.01\t0.00\t0.00\t0.53\t\n",
      "494:\t0.30\t0.00\t0.02\t0.00\t0.00\t0.00\t0.01\t0.01\t0.00\t0.65\t\n",
      "495:\t0.42\t0.00\t0.02\t0.00\t0.00\t0.00\t0.01\t0.00\t0.00\t0.53\t\n",
      "496:\t0.79\t0.00\t0.00\t0.00\t0.00\t0.00\t0.00\t0.00\t0.00\t0.19\t\n",
      "497:\t0.60\t0.00\t0.01\t0.00\t0.00\t0.00\t0.01\t0.00\t0.00\t0.37\t\n",
      "498:\t0.62\t0.00\t0.03\t0.01\t0.00\t0.00\t0.01\t0.01\t0.00\t0.32\t\n",
      "499:\t0.73\t0.00\t0.02\t0.00\t0.00\t0.00\t0.01\t0.01\t0.00\t0.23\t\n",
      "500:\t0.92\t0.00\t0.00\t0.00\t0.00\t0.00\t0.00\t0.00\t0.00\t0.06\t\n",
      "501:\t0.96\t0.00\t0.00\t0.00\t0.00\t0.00\t0.00\t0.00\t0.00\t0.03\t\n",
      "502:\t0.97\t0.00\t0.00\t0.00\t0.00\t0.00\t0.00\t0.00\t0.00\t0.02\t\n",
      "503:\t0.96\t0.00\t0.00\t0.00\t0.00\t0.00\t0.00\t0.01\t0.00\t0.03\t\n",
      "504:\t0.97\t0.00\t0.00\t0.00\t0.00\t0.00\t0.00\t0.00\t0.00\t0.02\t\n",
      "505:\t0.97\t0.00\t0.00\t0.00\t0.00\t0.00\t0.00\t0.00\t0.00\t0.02\t\n",
      "506:\t0.97\t0.00\t0.00\t0.00\t0.00\t0.00\t0.00\t0.00\t0.00\t0.02\t\n",
      "507:\t0.97\t0.00\t0.00\t0.00\t0.00\t0.00\t0.00\t0.00\t0.00\t0.02\t\n",
      "508:\t0.97\t0.00\t0.00\t0.00\t0.00\t0.00\t0.00\t0.00\t0.00\t0.02\t\n",
      "509:\t0.97\t0.00\t0.00\t0.00\t0.00\t0.00\t0.00\t0.00\t0.00\t0.02\t\n",
      "510:\t0.97\t0.00\t0.00\t0.00\t0.00\t0.00\t0.00\t0.01\t0.00\t0.02\t\n",
      "511:\t0.97\t0.00\t0.00\t0.00\t0.00\t0.00\t0.00\t0.00\t0.00\t0.02\t\n",
      "512:\t0.97\t0.00\t0.00\t0.00\t0.00\t0.00\t0.00\t0.00\t0.00\t0.02\t\n",
      "513:\t0.97\t0.00\t0.00\t0.00\t0.00\t0.00\t0.00\t0.01\t0.00\t0.02\t\n",
      "514:\t0.96\t0.00\t0.00\t0.00\t0.00\t0.00\t0.00\t0.01\t0.00\t0.02\t\n",
      "515:\t0.97\t0.00\t0.00\t0.00\t0.00\t0.00\t0.00\t0.00\t0.00\t0.02\t\n",
      "516:\t0.97\t0.00\t0.00\t0.00\t0.00\t0.00\t0.00\t0.00\t0.00\t0.02\t\n",
      "517:\t0.97\t0.00\t0.00\t0.00\t0.00\t0.00\t0.00\t0.01\t0.00\t0.02\t\n",
      "518:\t0.97\t0.00\t0.00\t0.00\t0.00\t0.00\t0.00\t0.01\t0.00\t0.02\t\n",
      "519:\t0.96\t0.00\t0.00\t0.00\t0.00\t0.00\t0.00\t0.01\t0.00\t0.02\t\n",
      "520:\t0.97\t0.00\t0.00\t0.00\t0.00\t0.00\t0.00\t0.00\t0.00\t0.02\t\n",
      "521:\t0.97\t0.00\t0.00\t0.00\t0.00\t0.00\t0.00\t0.00\t0.00\t0.02\t\n",
      "522:\t0.97\t0.00\t0.00\t0.00\t0.00\t0.00\t0.00\t0.01\t0.00\t0.02\t\n",
      "523:\t0.96\t0.00\t0.00\t0.00\t0.00\t0.00\t0.00\t0.01\t0.00\t0.02\t\n",
      "524:\t0.97\t0.00\t0.00\t0.00\t0.00\t0.00\t0.00\t0.01\t0.00\t0.02\t\n",
      "525:\t0.97\t0.00\t0.00\t0.00\t0.00\t0.00\t0.00\t0.01\t0.00\t0.02\t\n",
      "526:\t0.96\t0.00\t0.00\t0.01\t0.00\t0.00\t0.00\t0.01\t0.00\t0.02\t\n",
      "527:\t0.97\t0.00\t0.00\t0.00\t0.00\t0.00\t0.00\t0.01\t0.00\t0.02\t\n",
      "528:\t0.97\t0.00\t0.00\t0.00\t0.00\t0.00\t0.00\t0.00\t0.00\t0.02\t\n",
      "529:\t0.97\t0.00\t0.00\t0.00\t0.00\t0.00\t0.00\t0.00\t0.00\t0.02\t\n",
      "530:\t0.97\t0.00\t0.00\t0.00\t0.00\t0.00\t0.00\t0.01\t0.00\t0.02\t\n",
      "531:\t0.97\t0.00\t0.00\t0.00\t0.00\t0.00\t0.00\t0.01\t0.00\t0.02\t\n",
      "532:\t0.97\t0.00\t0.00\t0.00\t0.00\t0.00\t0.00\t0.00\t0.00\t0.02\t\n",
      "533:\t0.97\t0.00\t0.00\t0.00\t0.00\t0.00\t0.00\t0.00\t0.00\t0.02\t\n",
      "534:\t0.97\t0.00\t0.00\t0.00\t0.00\t0.00\t0.00\t0.00\t0.00\t0.02\t\n",
      "535:\t0.97\t0.00\t0.00\t0.00\t0.00\t0.00\t0.00\t0.00\t0.00\t0.02\t\n",
      "536:\t0.97\t0.00\t0.00\t0.00\t0.00\t0.00\t0.00\t0.00\t0.00\t0.02\t\n",
      "537:\t0.97\t0.00\t0.00\t0.00\t0.00\t0.00\t0.00\t0.00\t0.00\t0.02\t\n",
      "538:\t0.97\t0.00\t0.00\t0.00\t0.00\t0.00\t0.00\t0.00\t0.00\t0.02\t\n",
      "539:\t0.97\t0.00\t0.00\t0.00\t0.00\t0.00\t0.00\t0.00\t0.00\t0.02\t\n",
      "540:\t0.97\t0.00\t0.00\t0.00\t0.00\t0.00\t0.00\t0.00\t0.00\t0.02\t\n",
      "541:\t0.96\t0.00\t0.00\t0.00\t0.00\t0.00\t0.00\t0.01\t0.00\t0.02\t\n",
      "542:\t0.95\t0.00\t0.00\t0.01\t0.00\t0.00\t0.00\t0.02\t0.00\t0.03\t\n",
      "543:\t0.96\t0.00\t0.00\t0.00\t0.00\t0.00\t0.00\t0.01\t0.00\t0.02\t\n",
      "544:\t0.96\t0.00\t0.00\t0.00\t0.00\t0.00\t0.00\t0.01\t0.00\t0.03\t\n",
      "545:\t0.97\t0.00\t0.00\t0.00\t0.00\t0.00\t0.00\t0.01\t0.00\t0.02\t\n",
      "546:\t0.97\t0.00\t0.00\t0.00\t0.00\t0.00\t0.00\t0.01\t0.00\t0.02\t\n",
      "\n"
     ]
    }
   ],
   "source": [
    "print(content1)"
   ]
  },
  {
   "cell_type": "markdown",
   "metadata": {},
   "source": [
    "## 保存模型"
   ]
  },
  {
   "cell_type": "code",
   "execution_count": 67,
   "metadata": {},
   "outputs": [
    {
     "name": "stderr",
     "output_type": "stream",
     "text": [
      "/home1/meichaoyang/anaconda3/lib/python3.7/site-packages/torch/serialization.py:360: UserWarning: Couldn't retrieve source code for container of type DNN. It won't be checked for correctness upon loading.\n",
      "  \"type \" + obj.__name__ + \". It won't be checked \"\n"
     ]
    }
   ],
   "source": [
    "torch.save(model.to(\"cpu\"), 'model.pkl')\n",
    "model1 = torch.load('model.pkl')"
   ]
  },
  {
   "cell_type": "code",
   "execution_count": 68,
   "metadata": {},
   "outputs": [],
   "source": [
    "sm = torch.jit.script(model1)\n",
    "sm.save(\"phone_cla_model.pt\")"
   ]
  },
  {
   "cell_type": "code",
   "execution_count": null,
   "metadata": {},
   "outputs": [],
   "source": [
    "model1 = torch.load('model.pkl')"
   ]
  },
  {
   "cell_type": "code",
   "execution_count": null,
   "metadata": {},
   "outputs": [],
   "source": [
    "model1"
   ]
  },
  {
   "cell_type": "code",
   "execution_count": null,
   "metadata": {},
   "outputs": [],
   "source": [
    "map1={1:\"1-1\",2:\"2-1\",3:\"3-1\"}"
   ]
  },
  {
   "cell_type": "code",
   "execution_count": null,
   "metadata": {},
   "outputs": [],
   "source": [
    "map2={2:\"2-2\",3:\"3-2\",4:\"4-2\"}"
   ]
  },
  {
   "cell_type": "code",
   "execution_count": null,
   "metadata": {},
   "outputs": [],
   "source": [
    "{**map1,**map2}"
   ]
  },
  {
   "cell_type": "code",
   "execution_count": null,
   "metadata": {},
   "outputs": [],
   "source": [
    "{**map2,**map1}"
   ]
  },
  {
   "cell_type": "code",
   "execution_count": null,
   "metadata": {},
   "outputs": [],
   "source": []
  }
 ],
 "metadata": {
  "kernelspec": {
   "display_name": "Python 3",
   "language": "python",
   "name": "python3"
  },
  "language_info": {
   "codemirror_mode": {
    "name": "ipython",
    "version": 3
   },
   "file_extension": ".py",
   "mimetype": "text/x-python",
   "name": "python",
   "nbconvert_exporter": "python",
   "pygments_lexer": "ipython3",
   "version": "3.7.3"
  }
 },
 "nbformat": 4,
 "nbformat_minor": 2
}
