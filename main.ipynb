{
 "cells": [
  {
   "cell_type": "code",
   "execution_count": 113,
   "metadata": {},
   "outputs": [],
   "source": [
    "import os\n",
    "import random\n",
    "from io import open\n",
    "import unicodedata\n",
    "import string\n",
    "import re\n",
    "\n",
    "import torch\n",
    "import torchaudio\n",
    "import numpy as np\n",
    "import matplotlib.pyplot as plt\n",
    "from torch.utils.data import Dataset, DataLoader\n",
    "from torch import nn\n",
    "from torch import optim\n",
    "import torch.nn.functional as F\n",
    "from torch.nn.utils.rnn import pack_padded_sequence, pad_packed_sequence\n",
    "from pathlib import Path\n",
    "import kaldi_io\n",
    "import math\n",
    "import torch.utils.data as Data\n",
    "\n",
    "from lib.Data_show import Data_show\n",
    "from lib.Phone_cla_Dataset import Phone_cla_Dataset\n",
    "from lib.Decoder import Decoder\n",
    "from collections import Counter\n",
    "\n",
    "%matplotlib inline\n"
   ]
  },
  {
   "cell_type": "code",
   "execution_count": 59,
   "metadata": {},
   "outputs": [],
   "source": [
    "os.environ[\"CUDA_VISIBLE_DEVICES\"]=\"3\"\n",
    "device = torch.device(\"cuda:0\" if torch.cuda.is_available() else \"cpu\")"
   ]
  },
  {
   "cell_type": "markdown",
   "metadata": {},
   "source": [
    "## 加载数据SLR85训练集"
   ]
  },
  {
   "cell_type": "code",
   "execution_count": 2,
   "metadata": {},
   "outputs": [],
   "source": [
    "SLR_feats = { u:d for u,d in kaldi_io.read_mat_scp(\"/home1/meichaoyang/Dataset/feats/SLR85/hifi/train/feats.scp\") }\n",
    "SLR_feats_dev = { u:d for u,d in kaldi_io.read_mat_scp(\"/home1/meichaoyang/Dataset/feats/SLR85/hifi/dev/feats.scp\") }"
   ]
  },
  {
   "cell_type": "code",
   "execution_count": null,
   "metadata": {},
   "outputs": [],
   "source": [
    "phone_label = { u:d for u,d in kaldi_io.read_vec_int_ark(\"../../wake_up_align_44_1k/train_fbank/ali.1.ph\") }\n",
    "feats = { u:d for u,d in kaldi_io.read_mat_scp(\"../../wake_up_align_44_1k/train_fbank/feats.scp\") }"
   ]
  },
  {
   "cell_type": "code",
   "execution_count": null,
   "metadata": {},
   "outputs": [],
   "source": [
    "# feats_mid_300k = { u:d for u,d in kaldi_io.read_mat_scp(\"../../wake_up_align_44_1k/train_fbank/feats_mid_300000.scp\") }\n",
    "feats_tail_300k = { u:d for u,d in kaldi_io.read_mat_scp(\"../../wake_up_align_44_1k/train_fbank/feats_tail_300000.scp\") }"
   ]
  },
  {
   "cell_type": "code",
   "execution_count": 10,
   "metadata": {},
   "outputs": [],
   "source": [
    "aishell_2_corp_raw = \"/home1/meichaoyang/Dataset/data_aishell2/aishell2/aishell2/data/trans.txt\"\n",
    "utt_with_you = []\n",
    "with open(aishell_2_corp_raw, \"r\") as f:\n",
    "    for line in f:\n",
    "        data = line.split()\n",
    "        if \"你\" not in data[1]: ##删除小于10和非英文标注\n",
    "            continue\n",
    "        utt_with_you.append(data[0])"
   ]
  },
  {
   "cell_type": "code",
   "execution_count": 29,
   "metadata": {},
   "outputs": [
    {
     "data": {
      "text/plain": [
       "78177"
      ]
     },
     "execution_count": 29,
     "metadata": {},
     "output_type": "execute_result"
    },
    {
     "data": {
      "text/plain": [
       "78177"
      ]
     },
     "execution_count": 29,
     "metadata": {},
     "output_type": "execute_result"
    }
   ],
   "source": [
    "i"
   ]
  },
  {
   "cell_type": "code",
   "execution_count": 30,
   "metadata": {},
   "outputs": [],
   "source": [
    "feats_mid_300k = {}\n",
    "i=0\n",
    "for u,d in kaldi_io.read_mat_scp(\"../../wake_up_align_44_1k/train_fbank/feats_mid_300000.scp\"):\n",
    "    if i > 1000000:\n",
    "        break\n",
    "    i += 1\n",
    "    feats_mid_300k[u] = d"
   ]
  },
  {
   "cell_type": "code",
   "execution_count": 31,
   "metadata": {},
   "outputs": [],
   "source": [
    "feats = {**feats, **feats_mid_300k}"
   ]
  },
  {
   "cell_type": "code",
   "execution_count": 32,
   "metadata": {},
   "outputs": [
    {
     "data": {
      "text/plain": [
       "895985"
      ]
     },
     "execution_count": 32,
     "metadata": {},
     "output_type": "execute_result"
    },
    {
     "data": {
      "text/plain": [
       "895985"
      ]
     },
     "execution_count": 32,
     "metadata": {},
     "output_type": "execute_result"
    }
   ],
   "source": [
    "len(feats)"
   ]
  },
  {
   "cell_type": "code",
   "execution_count": 116,
   "metadata": {},
   "outputs": [
    {
     "data": {
      "text/plain": [
       "2819"
      ]
     },
     "execution_count": 116,
     "metadata": {},
     "output_type": "execute_result"
    },
    {
     "data": {
      "text/plain": [
       "2819"
      ]
     },
     "execution_count": 116,
     "metadata": {},
     "output_type": "execute_result"
    }
   ],
   "source": [
    "i=0\n",
    "for utt in utt_with_you:\n",
    "    if utt in phone_label.keys():\n",
    "        i += 1\n",
    "i"
   ]
  },
  {
   "cell_type": "code",
   "execution_count": 37,
   "metadata": {},
   "outputs": [
    {
     "data": {
      "text/plain": [
       "27765"
      ]
     },
     "execution_count": 37,
     "metadata": {},
     "output_type": "execute_result"
    },
    {
     "data": {
      "text/plain": [
       "27765"
      ]
     },
     "execution_count": 37,
     "metadata": {},
     "output_type": "execute_result"
    }
   ],
   "source": [
    "len(utt_with_you)"
   ]
  },
  {
   "cell_type": "code",
   "execution_count": null,
   "metadata": {},
   "outputs": [],
   "source": [
    "feats_with_you = {}\n",
    "for utt in utt_with_you:\n",
    "    if utt in feats.keyseys():\n",
    "        feats_with_you[utt]=feats[utt]"
   ]
  },
  {
   "cell_type": "code",
   "execution_count": 38,
   "metadata": {},
   "outputs": [],
   "source": [
    "feats_aishell = {}\n",
    "a = random.sample(feats.keys(), 20000)\n",
    "for utt in a:\n",
    "    feats_aishell[utt] = feats[utt]\n",
    "    "
   ]
  },
  {
   "cell_type": "code",
   "execution_count": 39,
   "metadata": {},
   "outputs": [
    {
     "data": {
      "text/plain": [
       "20000"
      ]
     },
     "execution_count": 39,
     "metadata": {},
     "output_type": "execute_result"
    },
    {
     "data": {
      "text/plain": [
       "20000"
      ]
     },
     "execution_count": 39,
     "metadata": {},
     "output_type": "execute_result"
    }
   ],
   "source": [
    "len(feats_aishell)"
   ]
  },
  {
   "cell_type": "code",
   "execution_count": 40,
   "metadata": {},
   "outputs": [],
   "source": [
    "feat_new = {**feats_with_you, **SLR_feats, **feats_aishell }"
   ]
  },
  {
   "cell_type": "code",
   "execution_count": 42,
   "metadata": {},
   "outputs": [],
   "source": [
    "phone_label_new = {}\n",
    "for utt in feat_new.keys():\n",
    "    if utt in phone_label.keys():\n",
    "        phone_label_new[utt] = phone_label[utt]"
   ]
  },
  {
   "cell_type": "code",
   "execution_count": 43,
   "metadata": {},
   "outputs": [
    {
     "data": {
      "text/plain": [
       "48806"
      ]
     },
     "execution_count": 43,
     "metadata": {},
     "output_type": "execute_result"
    },
    {
     "data": {
      "text/plain": [
       "48806"
      ]
     },
     "execution_count": 43,
     "metadata": {},
     "output_type": "execute_result"
    }
   ],
   "source": [
    "len(feat_new)"
   ]
  },
  {
   "cell_type": "code",
   "execution_count": 44,
   "metadata": {},
   "outputs": [
    {
     "data": {
      "text/plain": [
       "6770"
      ]
     },
     "execution_count": 44,
     "metadata": {},
     "output_type": "execute_result"
    },
    {
     "data": {
      "text/plain": [
       "6770"
      ]
     },
     "execution_count": 44,
     "metadata": {},
     "output_type": "execute_result"
    }
   ],
   "source": [
    "len(phone_label_new)"
   ]
  },
  {
   "cell_type": "code",
   "execution_count": 46,
   "metadata": {},
   "outputs": [
    {
     "data": {
      "text/plain": [
       "91706"
      ]
     },
     "execution_count": 46,
     "metadata": {},
     "output_type": "execute_result"
    },
    {
     "data": {
      "text/plain": [
       "91706"
      ]
     },
     "execution_count": 46,
     "metadata": {},
     "output_type": "execute_result"
    }
   ],
   "source": [
    "len(phone_label)"
   ]
  },
  {
   "cell_type": "code",
   "execution_count": null,
   "metadata": {},
   "outputs": [],
   "source": [
    "phone_label_new.keys()"
   ]
  },
  {
   "cell_type": "code",
   "execution_count": 82,
   "metadata": {},
   "outputs": [
    {
     "ename": "KeyError",
     "evalue": "'IC0001W0017'",
     "output_type": "error",
     "traceback": [
      "\u001b[0;31m---------------------------------------------------------------------------\u001b[0m",
      "\u001b[0;31mKeyError\u001b[0m                                  Traceback (most recent call last)",
      "\u001b[0;32m<ipython-input-82-0af6e02b70ef>\u001b[0m in \u001b[0;36m<module>\u001b[0;34m\u001b[0m\n\u001b[1;32m      5\u001b[0m \u001b[0mfeats_new\u001b[0m \u001b[0;34m=\u001b[0m \u001b[0;34m{\u001b[0m\u001b[0;34m}\u001b[0m\u001b[0;34m\u001b[0m\u001b[0;34m\u001b[0m\u001b[0m\n\u001b[1;32m      6\u001b[0m \u001b[0;32mfor\u001b[0m \u001b[0mkey\u001b[0m \u001b[0;32min\u001b[0m \u001b[0mnew_key\u001b[0m\u001b[0;34m:\u001b[0m\u001b[0;34m\u001b[0m\u001b[0;34m\u001b[0m\u001b[0m\n\u001b[0;32m----> 7\u001b[0;31m     \u001b[0mphone_label_new\u001b[0m\u001b[0;34m[\u001b[0m\u001b[0mkey\u001b[0m\u001b[0;34m]\u001b[0m \u001b[0;34m=\u001b[0m \u001b[0mphone_label\u001b[0m\u001b[0;34m[\u001b[0m\u001b[0mkey\u001b[0m\u001b[0;34m]\u001b[0m\u001b[0;34m\u001b[0m\u001b[0;34m\u001b[0m\u001b[0m\n\u001b[0m\u001b[1;32m      8\u001b[0m     \u001b[0mfeats_new\u001b[0m\u001b[0;34m[\u001b[0m\u001b[0mkey\u001b[0m\u001b[0;34m]\u001b[0m \u001b[0;34m=\u001b[0m \u001b[0mfeats\u001b[0m\u001b[0;34m[\u001b[0m\u001b[0mkey\u001b[0m\u001b[0;34m]\u001b[0m\u001b[0;34m\u001b[0m\u001b[0;34m\u001b[0m\u001b[0m\n",
      "\u001b[0;31mKeyError\u001b[0m: 'IC0001W0017'"
     ]
    }
   ],
   "source": [
    "new_key1 = list(aishell_feats.keys())[0:8000]\n",
    "new_key2 = list(SLR_feats.keys())\n",
    "new_key = new_key1 + new_key2\n",
    "phone_label_new={}\n",
    "feats_new = {}\n",
    "for key in new_key:\n",
    "    phone_label_new[key] = phone_label[key]\n",
    "    feats_new[key] = feats[key]"
   ]
  },
  {
   "cell_type": "code",
   "execution_count": 95,
   "metadata": {},
   "outputs": [
    {
     "data": {
      "text/plain": [
       "50001"
      ]
     },
     "execution_count": 95,
     "metadata": {},
     "output_type": "execute_result"
    }
   ],
   "source": [
    "len(aishell_feats)"
   ]
  },
  {
   "cell_type": "code",
   "execution_count": 59,
   "metadata": {},
   "outputs": [],
   "source": [
    "new_feat = {**feat_new, **SLR_feats}"
   ]
  },
  {
   "cell_type": "code",
   "execution_count": 147,
   "metadata": {},
   "outputs": [
    {
     "name": "stdout",
     "output_type": "stream",
     "text": [
      "100001\n",
      "91706\n"
     ]
    }
   ],
   "source": [
    "print(len(aishell_feats))\n",
    "print(len(phone_label))"
   ]
  },
  {
   "cell_type": "markdown",
   "metadata": {},
   "source": [
    "## 自定义数据集"
   ]
  },
  {
   "cell_type": "code",
   "execution_count": 54,
   "metadata": {},
   "outputs": [],
   "source": [
    "Phone_cla_Dataset.maxClassNum = 9"
   ]
  },
  {
   "cell_type": "code",
   "execution_count": 48,
   "metadata": {},
   "outputs": [
    {
     "data": {
      "text/plain": [
       "{1: 0, 3: 0, 129: 1, 63: 2, 61: 3, 27: 4, 128: 5, 64: 6, 92: 7, 69: 8}"
      ]
     },
     "execution_count": 48,
     "metadata": {},
     "output_type": "execute_result"
    },
    {
     "data": {
      "text/plain": [
       "{1: 0, 3: 0, 129: 1, 63: 2, 61: 3, 27: 4, 128: 5, 64: 6, 92: 7, 69: 8}"
      ]
     },
     "execution_count": 48,
     "metadata": {},
     "output_type": "execute_result"
    }
   ],
   "source": [
    "Data_show().phone2class"
   ]
  },
  {
   "cell_type": "code",
   "execution_count": 55,
   "metadata": {},
   "outputs": [],
   "source": [
    "data_set_train = Phone_cla_Dataset(phone_label_new, feat_new)"
   ]
  },
  {
   "cell_type": "code",
   "execution_count": 145,
   "metadata": {},
   "outputs": [],
   "source": [
    "data_set_dev = Phone_cla_Dataset(phone_label, SLR_feats_dev)"
   ]
  },
  {
   "cell_type": "code",
   "execution_count": 146,
   "metadata": {},
   "outputs": [
    {
     "name": "stdout",
     "output_type": "stream",
     "text": [
      "(47751, 40)\n",
      "(47751,)\n",
      "4\n"
     ]
    }
   ],
   "source": [
    "print(data_set_dev.feats_nd.shape)\n",
    "print(data_set_dev.phone_label_nd.shape)\n",
    "print(data_set_dev.phone_label_nd[1440])"
   ]
  },
  {
   "cell_type": "code",
   "execution_count": 57,
   "metadata": {},
   "outputs": [
    {
     "data": {
      "text/plain": [
       "array([9, 9, 9, 9, 9, 9, 9, 9, 9, 9, 9, 9, 9, 9])"
      ]
     },
     "execution_count": 57,
     "metadata": {},
     "output_type": "execute_result"
    },
    {
     "data": {
      "text/plain": [
       "array([9, 9, 9, 9, 9, 9, 9, 9, 9, 9, 9, 9, 9, 9])"
      ]
     },
     "execution_count": 57,
     "metadata": {},
     "output_type": "execute_result"
    }
   ],
   "source": [
    "data_set_train.phone_label_nd[-75:-61]"
   ]
  },
  {
   "cell_type": "code",
   "execution_count": 58,
   "metadata": {},
   "outputs": [
    {
     "name": "stdout",
     "output_type": "stream",
     "text": [
      "(1791993, 40)\n",
      "(1791993,)\n",
      "9\n",
      "(1791993, 40)\n",
      "(1791993,)\n",
      "9\n"
     ]
    }
   ],
   "source": [
    "print(data_set_train.feats_nd.shape)\n",
    "print(data_set_train.phone_label_nd.shape)\n",
    "print(data_set_train.phone_label_nd[1440])"
   ]
  },
  {
   "cell_type": "code",
   "execution_count": 147,
   "metadata": {},
   "outputs": [],
   "source": [
    "train_data = torch.Tensor(data_set_train.feats_nd).to(device)\n",
    "train_label = torch.LongTensor(data_set_train.phone_label_nd).to(device)\n",
    "test_data = torch.Tensor(data_set_dev.feats_nd).to(device)\n",
    "test_label = torch.LongTensor(data_set_dev.phone_label_nd).to(device)"
   ]
  },
  {
   "cell_type": "code",
   "execution_count": 114,
   "metadata": {},
   "outputs": [
    {
     "name": "stdout",
     "output_type": "stream",
     "text": [
      "Counter(data)\n",
      " Counter({9: 1000645, 0: 442259, 6: 63741, 8: 50976, 1: 46356, 4: 44691, 7: 43785, 3: 43032, 2: 29856, 5: 26652})\n",
      "Counter(data)\n",
      " Counter({9: 1000645, 0: 442259, 6: 63741, 8: 50976, 1: 46356, 4: 44691, 7: 43785, 3: 43032, 2: 29856, 5: 26652})\n"
     ]
    }
   ],
   "source": [
    "print('Counter(data)\\n',Counter(data_set_train.phone_label_nd))"
   ]
  },
  {
   "cell_type": "markdown",
   "metadata": {},
   "source": [
    "# 模型搭建"
   ]
  },
  {
   "cell_type": "code",
   "execution_count": 61,
   "metadata": {},
   "outputs": [],
   "source": [
    "class DNN(nn.Module):\n",
    "    def __init__(self, input_size, num_classes):\n",
    "        super().__init__()\n",
    "        self.fc1 = nn.Linear(input_size, 128)\n",
    "        self.fc2 = nn.Linear(128, 128)\n",
    "        self.fc3 = nn.Linear(128, 128)\n",
    "        self.fc4 = nn.Linear(128, 128)\n",
    "        self.fc5 = nn.Linear(128, num_classes)\n",
    "\n",
    "\n",
    "    def forward(self, input):\n",
    "        x = torch.sigmoid(self.fc1(input))\n",
    "        x = torch.sigmoid(self.fc2(x))\n",
    "        x = torch.sigmoid(self.fc3(x))\n",
    "        x = torch.sigmoid(self.fc4(x))\n",
    "        x = self.fc5(x)\n",
    "        \n",
    "        return x"
   ]
  },
  {
   "cell_type": "markdown",
   "metadata": {},
   "source": [
    "## 训练迭代"
   ]
  },
  {
   "cell_type": "code",
   "execution_count": 164,
   "metadata": {},
   "outputs": [],
   "source": [
    "LEARNING_RATE = 0.001  #0.001\n",
    "EPOCH = 2      #400 best\n",
    "BATCH_SIZE = 150\n",
    "input_size=40\n",
    "num_classes=10"
   ]
  },
  {
   "cell_type": "code",
   "execution_count": 165,
   "metadata": {},
   "outputs": [
    {
     "name": "stdout",
     "output_type": "stream",
     "text": [
      "torch.Size([1791993, 40])\n",
      "torch.Size([1791993])\n"
     ]
    }
   ],
   "source": [
    "print(train_data.shape)\n",
    "print(train_label.shape)"
   ]
  },
  {
   "cell_type": "code",
   "execution_count": 166,
   "metadata": {},
   "outputs": [
    {
     "name": "stdout",
     "output_type": "stream",
     "text": [
      "total_loss: 1.1077494562566281 \tloss: 0.9154451489448547\n",
      "total_loss: 0.8521879502236843 \tloss: 0.7632349729537964\n",
      "total_loss: 0.7981932031810284 \tloss: 0.6673657894134521\n",
      "total_loss: 0.7761694599837065 \tloss: 0.6174341440200806\n",
      "total_loss: 0.7609841782003641 \tloss: 0.7500817775726318\n",
      "Epoch   0 Accuracy on training data: 76% (1365184/1791993)\n",
      "          Accuracy on testing data: 50% (23966/47751)\n",
      "total_loss: 0.7408076551556587 \tloss: 0.8927361369132996\n",
      "total_loss: 0.7189966217130422 \tloss: 0.5658644437789917\n",
      "total_loss: 0.7134265313148499 \tloss: 0.5394191741943359\n",
      "total_loss: 0.7065863145291805 \tloss: 0.8600566387176514\n",
      "total_loss: 0.6969027117788792 \tloss: 0.618781328201294\n",
      "Epoch   1 Accuracy on training data: 79% (1423860/1791993)\n",
      "          Accuracy on testing data: 52% (25086/47751)\n"
     ]
    }
   ],
   "source": [
    "# device = torch.device(\"cuda\" if torch.cuda.is_available() else \"cpu\")\n",
    "# prepare the data loader\n",
    "\n",
    "training_set = Data.TensorDataset(train_data,\n",
    "                                  train_label)\n",
    "training_loader = Data.DataLoader(dataset=training_set,\n",
    "                                      batch_size=BATCH_SIZE,\n",
    "                                      shuffle=True)\n",
    "testing_set = Data.TensorDataset(test_data,\n",
    "                                 test_label)\n",
    "testing_loader = Data.DataLoader(dataset=testing_set,\n",
    "                                     batch_size=BATCH_SIZE,\n",
    "                                     shuffle=False)\n",
    "model = DNN(input_size, num_classes).to(device)\n",
    "criterion = nn.CrossEntropyLoss(weight=torch.tensor([3.5,3.0,3.0,2.5,2.5,5,2.0,2.5,1.5,1.0]).to(device))\n",
    "optim = torch.optim.Adam(model.parameters(), lr=LEARNING_RATE)\n",
    "for epoch in range(EPOCH):\n",
    "    correct_train = 0\n",
    "    total_train = 0\n",
    "    \n",
    "    total_loss = 0\n",
    "    ite = 0\n",
    "    print_every = 2000\n",
    "    for (data, label) in training_loader:\n",
    "        ite +=1\n",
    "        data = data\n",
    "        label = label\n",
    "        pred_label = model(data)\n",
    "        loss = criterion(pred_label, label)\n",
    "        optim.zero_grad()\n",
    "        loss.backward()\n",
    "        total_loss += loss.item()\n",
    "        optim.step()\n",
    "        _, answer = torch.max(pred_label.data, 1)\n",
    "        total_train += label.size(0)\n",
    "        correct_train += (answer == label).sum()\n",
    "        if ite % print_every == 0:\n",
    "            print(\"total_loss:\",total_loss/print_every, \"\\tloss:\",loss.item())\n",
    "            total_loss=0\n",
    "    print('Epoch {:3d} Accuracy on training data: {}% ({}/{})'\n",
    "          .format(epoch, (100 * correct_train / total_train), correct_train, total_train))\n",
    "    # pytorch 0.4 feature, not calculate grad on test set\n",
    "    with torch.no_grad():\n",
    "        correct_test = 0\n",
    "        total_test = 0\n",
    "        for (data, label) in testing_loader:\n",
    "            pred_label = model(data)\n",
    "            _, answer = torch.max(pred_label.data, 1)\n",
    "            total_test += label.size(0)\n",
    "            correct_test += (answer == label).sum()\n",
    "        print('          Accuracy on testing data: {}% ({}/{})'\n",
    "              .format((100 * correct_test / total_test), correct_test, total_test))\n"
   ]
  },
  {
   "cell_type": "markdown",
   "metadata": {},
   "source": [
    "### 预测"
   ]
  },
  {
   "cell_type": "code",
   "execution_count": 182,
   "metadata": {},
   "outputs": [
    {
     "data": {
      "text/plain": [
       "array([[12.489892 , 12.28557  , 11.494011 , 10.989588 , 10.325792 ,\n",
       "         9.214449 ,  8.981844 ,  9.74506  ,  9.609121 ,  9.6747055,\n",
       "         9.200644 ,  9.204725 , 10.612509 , 11.347557 , 11.499212 ,\n",
       "        11.406498 , 10.541653 , 12.271705 , 12.035969 , 12.748648 ,\n",
       "        12.208368 , 11.035785 , 11.252329 ,  9.832628 , 10.349963 ,\n",
       "        10.627583 ,  9.921973 , 10.455713 , 10.383152 , 10.018633 ,\n",
       "         9.718319 , 10.283143 , 10.805543 , 10.501538 , 10.390841 ,\n",
       "        10.288891 ,  9.796752 , 10.491543 , 10.520856 , 10.878244 ],\n",
       "       [10.927893 , 11.439659 ,  9.652666 ,  8.719799 , 10.325792 ,\n",
       "         9.256556 ,  8.909582 , 10.415248 , 10.570845 , 10.534166 ,\n",
       "         8.348411 ,  9.3243265,  9.249571 , 10.921649 , 10.897419 ,\n",
       "        10.512176 ,  9.926722 , 10.566521 , 11.2953005, 12.135638 ,\n",
       "        11.559294 , 11.317964 , 10.746571 , 10.034743 , 10.538596 ,\n",
       "        10.908701 ,  9.989633 , 10.374117 , 10.307484 , 10.445533 ,\n",
       "        10.321822 ,  9.803214 , 10.172053 , 10.30816  , 10.243077 ,\n",
       "        10.562189 ,  9.925862 ,  9.894578 , 10.452083 , 10.803893 ],\n",
       "       [12.231455 , 11.49446  , 11.263843 , 10.750662 ,  7.5041714,\n",
       "         8.582858 ,  9.812862 ,  9.463621 , 10.395987 , 10.265637 ,\n",
       "         9.2662   ,  9.384128 , 10.067333 , 10.476599 , 11.531298 ,\n",
       "        11.047435 , 10.308403 , 10.664905 , 10.558554 , 11.812106 ,\n",
       "        11.721562 , 11.087435 , 11.130945 , 10.615824 ,  9.878381 ,\n",
       "        11.04926  , 10.4294195, 10.276199 , 10.684036 , 10.737622 ,\n",
       "        10.699012 , 11.204815 , 11.026425 , 10.5894375, 10.513019 ,\n",
       "         9.720025 , 10.418831 , 10.747825 , 10.252353 , 10.568446 ],\n",
       "       [11.468858 , 12.421404 , 12.656289 , 10.810393 ,  8.2357025,\n",
       "         9.214449 ,  9.1625   ,  9.294759 ,  9.609121 ,  8.845849 ,\n",
       "         8.413967 ,  8.666516 ,  9.862893 , 10.508388 , 10.322233 ,\n",
       "        10.746351 , 10.223585 , 10.566521 , 10.839219 , 10.81142  ,\n",
       "        10.824122 , 10.286861 , 11.100598 , 11.077762 , 11.253174 ,\n",
       "        11.33511  , 10.547823 , 10.308839 , 10.383152 , 11.146065 ,\n",
       "        11.228832 , 10.862368 , 10.87917  , 10.097201 , 10.0818815,\n",
       "        10.077599 , 10.125398 , 10.300514 , 10.477873 , 10.469311 ],\n",
       "       [11.709288 , 11.549261 , 10.389204 ,  9.496305 , 10.757153 ,\n",
       "        10.352714 ,  8.837319 ,  7.718703 ,  9.019733 ,  8.155136 ,\n",
       "         9.102309 ,  8.90572  , 10.544362 , 12.008636 , 11.165838 ,\n",
       "        10.512176 ,  9.990335 , 10.492733 , 11.453175 , 10.961523 ,\n",
       "        11.1151495, 11.00996  , 10.918522 , 10.716881 , 11.253174 ,\n",
       "        10.687822 , 10.547823 ,  9.6887   , 10.534487 , 10.872433 ,\n",
       "        11.091034 , 11.318964 , 10.241161 ,  9.534645 , 10.162479 ,\n",
       "        10.454736 ,  9.925862 ,  9.918457 ,  9.705778 ,  9.977283 ],\n",
       "       [10.08639  ,  9.5764265, 10.159036 , 10.6312   ,  9.332999 ,\n",
       "         9.719723 ,  9.234763 ,  9.01332  ,  6.9989753,  8.2472315,\n",
       "         9.069531 ,  9.922336 , 10.81695  , 12.265722 , 11.755895 ,\n",
       "        10.779805 ,  9.757086 , 10.763288 , 10.7690525, 10.461181 ,\n",
       "        10.605851 , 11.087435 , 10.599184 , 10.085272 ,  9.666168 ,\n",
       "        10.346464 , 11.021568 , 10.721795 ,  9.349027 , 10.872433 ,\n",
       "        11.056585 , 10.481734 , 10.448485 ,  9.991722 , 10.135613 ,\n",
       "         9.980079 , 10.054974 , 10.722358 ,  9.909404 , 10.6551895],\n",
       "       [10.927893 , 11.110853 , 10.34317  , 11.965764 , 11.346387 ,\n",
       "        10.014465 ,  8.87345  ,  8.056429 ,  7.7988586,  7.8328032,\n",
       "         8.54508  ,  9.8625345, 10.782876 , 11.347557 , 10.820727 ,\n",
       "        10.64599  , 10.923334 , 11.10763  , 10.453304 , 11.16166  ,\n",
       "        11.133339 , 10.984135 , 10.476361 , 10.0094795, 11.5259695,\n",
       "        11.424893 , 11.06481  , 10.857322 , 10.55971  , 10.849964 ,\n",
       "        11.366631 , 11.014566 , 10.655809 , 10.026881 , 10.790697 ,\n",
       "        10.191371 ,  9.949337 , 10.109486 , 10.03801  , 10.254275 ],\n",
       "       [11.528965 , 10.946451 , 10.159036 , 11.240852 , 10.587053 ,\n",
       "         9.003919 ,  8.87345  ,  8.957032 ,  6.956876 ,  9.306325 ,\n",
       "         9.692317 ,  9.623331 , 10.782876 ,  9.39576  ,  8.980134 ,\n",
       "         9.709288 , 11.071766 , 12.761915 , 12.620711 , 11.136643 ,\n",
       "        11.078772 , 10.467636 , 10.599184 , 10.691617 , 10.491438 ,\n",
       "        10.788221 , 10.260271 , 10.488353 ,  9.97959  , 11.522811 ,\n",
       "        11.228832 , 11.204815 , 11.320934 , 10.783363 , 10.269943 ,\n",
       "        10.72337  , 10.536203 , 10.658692 , 10.400502 , 10.345391 ],\n",
       "       [ 9.545424 , 10.014834 ,  9.974901 , 11.142    , 10.325792 ,\n",
       "         9.42498  ,  8.439876 ,  8.112717 ,  7.967255 , 10.227276 ,\n",
       "        10.442518 , 10.161539 , 10.6806555, 10.158705 , 10.667344 ,\n",
       "        10.110731 , 10.265994 , 12.460247 , 12.113934 , 11.762072 ,\n",
       "        11.356458 , 11.164278 , 10.722006 , 10.691617 , 11.175233 ,\n",
       "        10.346464 , 10.311015 ,  9.6887   ,  9.803033 , 11.2716465,\n",
       "        11.022136 , 11.052616 , 10.842357 , 10.185101 , 10.690733 ,\n",
       "        10.54428  , 10.5244665, 10.372149 , 10.469276 , 10.225118 ],\n",
       "       [11.408751 , 11.165655 , 11.125742 , 10.571468 ,  8.131198 ,\n",
       "         8.372328 ,  9.270894 ,  9.576197 ,  6.956876 ,  9.812848 ,\n",
       "         9.9589615,  9.204725 ,  9.181424 ,  8.982498 , 10.130505 ,\n",
       "        10.378361 , 10.138767 , 11.132225 , 10.909386 , 11.186678 ,\n",
       "        11.559294 , 10.932486 , 10.771135 , 11.045318 , 11.033758 ,\n",
       "        10.748061 , 10.057293 ,  9.541824 , 10.78314  , 10.445533 ,\n",
       "        10.849888 , 10.398988 , 10.586701 , 10.647279 ,  9.611726 ,\n",
       "        10.669642 , 10.771022 , 10.467664 ,  9.920121 ,  9.918968 ],\n",
       "       [11.108214 , 10.836849 , 10.435237 ,  8.122487 ,  7.2951627,\n",
       "         7.319675 ,  9.487681 ,  9.519909 ,  8.977634 ,  8.615611 ,\n",
       "         8.741749 ,  8.666516 ,  8.704395 ,  9.967968 , 10.782381 ,\n",
       "         9.709288 , 10.435631 , 11.706077 , 10.9444685, 10.6363   ,\n",
       "        10.896879 , 11.343577 , 10.979214 , 10.691617 , 11.010179 ,\n",
       "        11.559567 , 10.581654 , 10.308839 , 10.282262 , 11.397229 ,\n",
       "        10.987686 , 10.713424 , 10.794025 , 10.6070175, 10.256511 ,\n",
       "        10.402664 , 10.649342 , 10.798757 ,  9.973707 , 10.295824 ],\n",
       "       [ 9.124673 ,  9.302422 ,  9.744733 ,  9.854693 , 10.639305 ,\n",
       "         9.930253 ,  8.331482 ,  8.112717 ,  6.9989753,  7.2802324,\n",
       "         8.282854 ,  9.264525 ,  9.283644 ,  9.809022 , 11.659638 ,\n",
       "        10.947074 , 10.838516 , 12.592227 , 11.260218 , 11.136643 ,\n",
       "        10.478527 , 10.8291855, 10.918522 , 10.817939 , 10.774387 ,\n",
       "        10.868541 , 11.237774 , 10.553631 , 10.257039 , 10.647749 ,\n",
       "        11.332181 , 10.597579 , 10.333305 , 10.483958 , 10.189345 ,\n",
       "        10.418918 ,  9.831964 , 10.264696 , 10.495067 , 11.057927 ],\n",
       "       [11.348643 , 10.124436 , 10.34317  , 11.5044565, 11.552619 ,\n",
       "        10.728545 ,  7.717251 ,  7.9438534,  8.7250395,  8.523517 ,\n",
       "         7.8239594,  9.085123 , 10.476215 , 10.476599 , 11.467127 ,\n",
       "        10.947074 , 11.282166 , 12.064308 , 11.40055  , 11.286746 ,\n",
       "        10.733176 , 10.90666  ,  9.420088 ,  9.428399 , 10.797967 ,\n",
       "        11.04926  , 10.762121 , 10.129325 , 10.004813 , 10.557875 ,\n",
       "        11.091034 , 11.166765 , 10.448485 , 10.009302 , 10.568554 ,\n",
       "        10.938276 , 10.649342 , 10.169182 , 10.18805  , 10.210539 ],\n",
       "       [12.231455 , 11.823266 , 11.263843 ,  9.735231 , 10.325792 ,\n",
       "         9.42498  ,  8.512138 ,  7.6061277,  7.5883627,  8.845849 ,\n",
       "         7.98785  ,  8.2479105,  9.14735  , 10.158705 , 10.628999 ,\n",
       "        10.5456295, 10.265994 , 10.664905 , 11.172509 , 11.311764 ,\n",
       "        10.660419 , 11.369192 , 10.869392 , 10.514767 , 10.632913 ,\n",
       "        10.828381 , 10.581654 , 10.210922 ,  9.626474 , 10.692685 ,\n",
       "        10.918787 , 10.34934  , 10.552147 , 10.783363 , 10.724054 ,\n",
       "        10.830823 , 10.46578  , 10.8496895, 11.406317 , 10.2396965],\n",
       "       [12.812939 , 11.878067 ,  9.974901 , 11.142    ,  9.646513 ,\n",
       "         9.719723 ,  8.87345  ,  6.4240856,  6.914777 ,  8.4774685,\n",
       "         8.6434145,  8.307711 , 10.339921 , 11.825003 , 10.782381 ,\n",
       "        10.612537 , 11.186171 , 11.033842 , 11.330383 , 11.68702  ,\n",
       "        10.933257 , 11.189892 , 10.648313 , 11.175094 , 10.491438 ,\n",
       "        11.380001 ,  9.702081 ,  9.770297 , 10.55971  , 10.288254 ,\n",
       "         9.944633 , 11.052616 , 10.483039 , 10.396059 , 10.135613 ,\n",
       "        10.045092 , 10.336669 , 10.722358 , 10.460679 , 10.195961 ],\n",
       "       [11.408751 , 10.891649 , 11.447977 , 10.511737 ,  9.176243 ,\n",
       "         7.361781 ,  8.295351 ,  9.238471 ,  8.851337 ,  8.385374 ,\n",
       "         9.430092 ,  8.606716 , 11.033472 , 11.678097 , 11.948406 ,\n",
       "        11.209406 , 10.817311 ,  9.97622  , 10.348055 , 10.511215 ,\n",
       "        11.397025 , 11.292349 , 10.672877 , 11.14265  , 10.9866   ,\n",
       "        10.607502 , 10.040378 , 10.064047 , 10.55971  , 10.3556595,\n",
       "        10.422406 , 11.090666 , 10.915984 , 11.055533 , 10.513019 ,\n",
       "        10.615916 , 10.5244665, 10.610935 , 10.486469 , 10.605622 ],\n",
       "       [11.769394 , 10.946451 , 11.447977 ,  9.436575 ,  8.549216 ,\n",
       "         7.6144176,  8.837319 ,  8.78817  ,  8.177751 ,  7.924898 ,\n",
       "         9.46287  ,  9.922336 , 10.442142 , 10.222283 , 12.140919 ,\n",
       "        11.406498 , 10.053949 , 11.555243 , 11.470716 , 11.561934 ,\n",
       "        11.024203 , 11.266735 ,  9.935943 , 11.337313 , 11.151653 ,\n",
       "        10.647662 , 10.412504 , 10.178283 , 10.458819 , 10.3556595,\n",
       "        11.1254835, 10.068003 , 10.586701 , 10.919448 , 10.62409  ,\n",
       "        10.110105 , 10.24277  , 10.610935 , 10.305939 , 10.568446 ],\n",
       "       [12.19915  , 11.713664 , 10.205069 ,  8.122487 ,  7.7131805,\n",
       "         9.214449 ,  9.198631 ,  9.069608 ,  7.2094707,  9.168182 ,\n",
       "        10.926075 , 10.199365 , 10.612509 , 10.635545 , 10.70569  ,\n",
       "         9.040214 ,  9.905518 , 11.724931 , 11.743597 , 11.94833  ,\n",
       "        10.933257 , 10.90666  , 10.427232 , 10.691617 , 10.255647 ,\n",
       "        10.346464 , 10.805363 , 10.631445 ,  9.525584 , 10.06357  ,\n",
       "        10.52299  , 11.1287155, 11.505003 , 10.571857 , 10.801804 ,\n",
       "        10.508462 , 10.771022 , 10.658692 , 10.581034 , 10.556054 ],\n",
       "       [11.829502 , 10.891649 ,  9.560598 ,  7.286249 ,  7.765433 ,\n",
       "         8.4144335, 10.03292  , 10.298623 ,  7.5883627,  8.753754 ,\n",
       "         9.725095 ,  9.025322 , 10.271774 , 10.603756 , 10.590653 ,\n",
       "        10.478723 , 11.37816  , 12.083162 , 11.418092 , 11.2367115,\n",
       "        10.660419 , 10.519286 , 10.918522 , 10.893732 , 11.175233 ,\n",
       "        10.928781 , 10.497079 , 10.374117 ,  9.349027 ,  9.92876  ,\n",
       "        10.77445  , 11.014566 , 10.356341 , 10.919448 ,  9.866953 ,\n",
       "         9.931318 , 10.360144 , 11.002487 , 10.305939 , 10.62421  ],\n",
       "       [11.949717 , 12.727031 , 11.880972 ,  9.615768 ,  9.071738 ,\n",
       "         9.42498  ,  9.415419 , 10.026499 ,  8.21985  ,  9.6747055,\n",
       "        10.442518 , 10.161539 , 10.476215 , 11.053744 , 10.092159 ,\n",
       "        10.344908 , 10.520449 , 10.541925 , 12.46478  , 12.169695 ,\n",
       "        10.314824 , 10.157737 , 10.427232 ,  9.984215 , 10.090592 ,\n",
       "        11.02918  , 11.194533 ,  9.721338 , 10.332706 , 10.978622 ,\n",
       "        11.1254835, 11.052616 , 10.770989 , 10.624598 , 10.296809 ,\n",
       "        10.093851 , 10.101923 , 10.276635 , 10.091596 , 10.698562 ]],\n",
       "      dtype=float32)"
      ]
     },
     "execution_count": 182,
     "metadata": {},
     "output_type": "execute_result"
    }
   ],
   "source": [
    "# model = torch.load('model.pkl')\n",
    "# model.to(device)\n",
    "test_feats[\"miya_mcy\"][0:20]"
   ]
  },
  {
   "cell_type": "code",
   "execution_count": 183,
   "metadata": {
    "scrolled": true
   },
   "outputs": [
    {
     "data": {
      "text/plain": [
       "tensor([12.4899, 12.2856, 11.4940, 10.9896, 10.3258,  9.2144,  8.9818,  9.7451,\n",
       "         9.6091,  9.6747,  9.2006,  9.2047, 10.6125, 11.3476, 11.4992, 11.4065,\n",
       "        10.5417, 12.2717, 12.0360, 12.7486, 12.2084, 11.0358, 11.2523,  9.8326,\n",
       "        10.3500, 10.6276,  9.9220, 10.4557, 10.3832, 10.0186,  9.7183, 10.2831,\n",
       "        10.8055, 10.5015, 10.3908, 10.2889,  9.7968, 10.4915, 10.5209, 10.8782,\n",
       "        10.9279, 11.4397,  9.6527,  8.7198, 10.3258,  9.2566,  8.9096, 10.4152,\n",
       "        10.5708, 10.5342,  8.3484,  9.3243,  9.2496, 10.9216, 10.8974, 10.5122,\n",
       "         9.9267, 10.5665, 11.2953, 12.1356, 11.5593, 11.3180, 10.7466, 10.0347,\n",
       "        10.5386, 10.9087,  9.9896, 10.3741, 10.3075, 10.4455, 10.3218,  9.8032,\n",
       "        10.1721, 10.3082, 10.2431, 10.5622,  9.9259,  9.8946, 10.4521, 10.8039,\n",
       "        12.2315, 11.4945, 11.2638, 10.7507,  7.5042,  8.5829,  9.8129,  9.4636,\n",
       "        10.3960, 10.2656,  9.2662,  9.3841, 10.0673, 10.4766, 11.5313, 11.0474,\n",
       "        10.3084, 10.6649, 10.5586, 11.8121, 11.7216, 11.0874, 11.1309, 10.6158,\n",
       "         9.8784, 11.0493, 10.4294, 10.2762, 10.6840, 10.7376, 10.6990, 11.2048,\n",
       "        11.0264, 10.5894, 10.5130,  9.7200, 10.4188, 10.7478, 10.2524, 10.5684,\n",
       "        11.4689, 12.4214, 12.6563, 10.8104,  8.2357,  9.2144,  9.1625,  9.2948,\n",
       "         9.6091,  8.8458,  8.4140,  8.6665,  9.8629, 10.5084, 10.3222, 10.7464,\n",
       "        10.2236, 10.5665, 10.8392, 10.8114, 10.8241, 10.2869, 11.1006, 11.0778,\n",
       "        11.2532, 11.3351, 10.5478, 10.3088, 10.3832, 11.1461, 11.2288, 10.8624,\n",
       "        10.8792, 10.0972, 10.0819, 10.0776, 10.1254, 10.3005, 10.4779, 10.4693,\n",
       "        11.7093, 11.5493, 10.3892,  9.4963, 10.7572, 10.3527,  8.8373,  7.7187,\n",
       "         9.0197,  8.1551,  9.1023,  8.9057, 10.5444, 12.0086, 11.1658, 10.5122,\n",
       "         9.9903, 10.4927, 11.4532, 10.9615, 11.1151, 11.0100, 10.9185, 10.7169,\n",
       "        11.2532, 10.6878, 10.5478,  9.6887, 10.5345, 10.8724, 11.0910, 11.3190,\n",
       "        10.2412,  9.5346, 10.1625, 10.4547,  9.9259,  9.9185,  9.7058,  9.9773,\n",
       "        10.0864,  9.5764, 10.1590, 10.6312,  9.3330,  9.7197,  9.2348,  9.0133,\n",
       "         6.9990,  8.2472,  9.0695,  9.9223, 10.8169, 12.2657, 11.7559, 10.7798,\n",
       "         9.7571, 10.7633, 10.7691, 10.4612, 10.6059, 11.0874, 10.5992, 10.0853,\n",
       "         9.6662, 10.3465, 11.0216, 10.7218,  9.3490, 10.8724, 11.0566, 10.4817,\n",
       "        10.4485,  9.9917, 10.1356,  9.9801, 10.0550, 10.7224,  9.9094, 10.6552,\n",
       "        10.9279, 11.1109, 10.3432, 11.9658, 11.3464, 10.0145,  8.8735,  8.0564,\n",
       "         7.7989,  7.8328,  8.5451,  9.8625, 10.7829, 11.3476, 10.8207, 10.6460,\n",
       "        10.9233, 11.1076, 10.4533, 11.1617, 11.1333, 10.9841, 10.4764, 10.0095,\n",
       "        11.5260, 11.4249, 11.0648, 10.8573, 10.5597, 10.8500, 11.3666, 11.0146,\n",
       "        10.6558, 10.0269, 10.7907, 10.1914,  9.9493, 10.1095, 10.0380, 10.2543,\n",
       "        11.5290, 10.9465, 10.1590, 11.2409, 10.5871,  9.0039,  8.8735,  8.9570,\n",
       "         6.9569,  9.3063,  9.6923,  9.6233, 10.7829,  9.3958,  8.9801,  9.7093,\n",
       "        11.0718, 12.7619, 12.6207, 11.1366, 11.0788, 10.4676, 10.5992, 10.6916,\n",
       "        10.4914, 10.7882, 10.2603, 10.4884,  9.9796, 11.5228, 11.2288, 11.2048,\n",
       "        11.3209, 10.7834, 10.2699, 10.7234, 10.5362, 10.6587, 10.4005, 10.3454,\n",
       "         9.5454, 10.0148,  9.9749, 11.1420, 10.3258,  9.4250,  8.4399,  8.1127,\n",
       "         7.9673, 10.2273, 10.4425, 10.1615, 10.6807, 10.1587, 10.6673, 10.1107,\n",
       "        10.2660, 12.4602, 12.1139, 11.7621, 11.3565, 11.1643, 10.7220, 10.6916,\n",
       "        11.1752, 10.3465, 10.3110,  9.6887,  9.8030, 11.2716, 11.0221, 11.0526,\n",
       "        10.8424, 10.1851, 10.6907, 10.5443, 10.5245, 10.3721, 10.4693, 10.2251,\n",
       "        11.4088, 11.1657, 11.1257, 10.5715,  8.1312,  8.3723,  9.2709,  9.5762,\n",
       "         6.9569,  9.8128,  9.9590,  9.2047,  9.1814,  8.9825, 10.1305, 10.3784,\n",
       "        10.1388, 11.1322, 10.9094, 11.1867, 11.5593, 10.9325, 10.7711, 11.0453,\n",
       "        11.0338, 10.7481, 10.0573,  9.5418, 10.7831, 10.4455, 10.8499, 10.3990,\n",
       "        10.5867, 10.6473,  9.6117, 10.6696, 10.7710, 10.4677,  9.9201,  9.9190,\n",
       "        11.1082, 10.8368, 10.4352,  8.1225,  7.2952,  7.3197,  9.4877,  9.5199,\n",
       "         8.9776,  8.6156,  8.7417,  8.6665,  8.7044,  9.9680, 10.7824,  9.7093,\n",
       "        10.4356, 11.7061, 10.9445, 10.6363, 10.8969, 11.3436, 10.9792, 10.6916,\n",
       "        11.0102, 11.5596, 10.5817, 10.3088, 10.2823, 11.3972, 10.9877, 10.7134,\n",
       "        10.7940, 10.6070, 10.2565, 10.4027, 10.6493, 10.7988,  9.9737, 10.2958,\n",
       "         9.1247,  9.3024,  9.7447,  9.8547, 10.6393,  9.9303,  8.3315,  8.1127,\n",
       "         6.9990,  7.2802,  8.2829,  9.2645,  9.2836,  9.8090, 11.6596, 10.9471,\n",
       "        10.8385, 12.5922, 11.2602, 11.1366, 10.4785, 10.8292, 10.9185, 10.8179,\n",
       "        10.7744, 10.8685, 11.2378, 10.5536, 10.2570, 10.6477, 11.3322, 10.5976,\n",
       "        10.3333, 10.4840, 10.1893, 10.4189,  9.8320, 10.2647, 10.4951, 11.0579,\n",
       "        11.3486, 10.1244, 10.3432, 11.5045, 11.5526, 10.7285,  7.7173,  7.9439,\n",
       "         8.7250,  8.5235,  7.8240,  9.0851, 10.4762, 10.4766, 11.4671, 10.9471,\n",
       "        11.2822, 12.0643, 11.4005, 11.2867, 10.7332, 10.9067,  9.4201,  9.4284,\n",
       "        10.7980, 11.0493, 10.7621, 10.1293, 10.0048, 10.5579, 11.0910, 11.1668,\n",
       "        10.4485, 10.0093, 10.5686, 10.9383, 10.6493, 10.1692, 10.1881, 10.2105,\n",
       "        12.2315, 11.8233, 11.2638,  9.7352, 10.3258,  9.4250,  8.5121,  7.6061,\n",
       "         7.5884,  8.8458,  7.9879,  8.2479,  9.1474, 10.1587, 10.6290, 10.5456,\n",
       "        10.2660, 10.6649, 11.1725, 11.3118, 10.6604, 11.3692, 10.8694, 10.5148,\n",
       "        10.6329, 10.8284, 10.5817, 10.2109,  9.6265, 10.6927, 10.9188, 10.3493,\n",
       "        10.5521, 10.7834, 10.7241, 10.8308, 10.4658, 10.8497, 11.4063, 10.2397,\n",
       "        12.8129, 11.8781,  9.9749, 11.1420,  9.6465,  9.7197,  8.8735,  6.4241,\n",
       "         6.9148,  8.4775,  8.6434,  8.3077, 10.3399, 11.8250, 10.7824, 10.6125,\n",
       "        11.1862, 11.0338, 11.3304, 11.6870, 10.9333, 11.1899, 10.6483, 11.1751,\n",
       "        10.4914, 11.3800,  9.7021,  9.7703, 10.5597, 10.2883,  9.9446, 11.0526,\n",
       "        10.4830, 10.3961, 10.1356, 10.0451, 10.3367, 10.7224, 10.4607, 10.1960,\n",
       "        11.4088, 10.8916, 11.4480, 10.5117,  9.1762,  7.3618,  8.2954,  9.2385,\n",
       "         8.8513,  8.3854,  9.4301,  8.6067, 11.0335, 11.6781, 11.9484, 11.2094,\n",
       "        10.8173,  9.9762, 10.3481, 10.5112, 11.3970, 11.2923, 10.6729, 11.1426,\n",
       "        10.9866, 10.6075, 10.0404, 10.0640, 10.5597, 10.3557, 10.4224, 11.0907,\n",
       "        10.9160, 11.0555, 10.5130, 10.6159, 10.5245, 10.6109, 10.4865, 10.6056,\n",
       "        11.7694, 10.9465, 11.4480,  9.4366,  8.5492,  7.6144,  8.8373,  8.7882,\n",
       "         8.1778,  7.9249,  9.4629,  9.9223, 10.4421, 10.2223, 12.1409, 11.4065,\n",
       "        10.0539, 11.5552, 11.4707, 11.5619, 11.0242, 11.2667,  9.9359, 11.3373,\n",
       "        11.1517, 10.6477, 10.4125, 10.1783, 10.4588, 10.3557, 11.1255, 10.0680,\n",
       "        10.5867, 10.9194, 10.6241, 10.1101, 10.2428, 10.6109, 10.3059, 10.5684,\n",
       "        12.1992, 11.7137, 10.2051,  8.1225,  7.7132,  9.2144,  9.1986,  9.0696,\n",
       "         7.2095,  9.1682, 10.9261, 10.1994, 10.6125, 10.6355, 10.7057,  9.0402,\n",
       "         9.9055, 11.7249, 11.7436, 11.9483, 10.9333, 10.9067, 10.4272, 10.6916,\n",
       "        10.2556, 10.3465, 10.8054, 10.6314,  9.5256, 10.0636, 10.5230, 11.1287,\n",
       "        11.5050, 10.5719, 10.8018, 10.5085, 10.7710, 10.6587, 10.5810, 10.5561,\n",
       "        11.8295, 10.8916,  9.5606,  7.2862,  7.7654,  8.4144, 10.0329, 10.2986,\n",
       "         7.5884,  8.7538,  9.7251,  9.0253, 10.2718, 10.6038, 10.5907, 10.4787,\n",
       "        11.3782, 12.0832, 11.4181, 11.2367, 10.6604, 10.5193, 10.9185, 10.8937,\n",
       "        11.1752, 10.9288, 10.4971, 10.3741,  9.3490,  9.9288, 10.7745, 11.0146,\n",
       "        10.3563, 10.9194,  9.8670,  9.9313, 10.3601, 11.0025, 10.3059, 10.6242,\n",
       "        11.9497, 12.7270, 11.8810,  9.6158,  9.0717,  9.4250,  9.4154, 10.0265,\n",
       "         8.2198,  9.6747, 10.4425, 10.1615, 10.4762, 11.0537, 10.0922, 10.3449,\n",
       "        10.5204, 10.5419, 12.4648, 12.1697, 10.3148, 10.1577, 10.4272,  9.9842,\n",
       "        10.0906, 11.0292, 11.1945,  9.7213, 10.3327, 10.9786, 11.1255, 11.0526,\n",
       "        10.7710, 10.6246, 10.2968, 10.0939, 10.1019, 10.2766, 10.0916, 10.6986])"
      ]
     },
     "execution_count": 183,
     "metadata": {},
     "output_type": "execute_result"
    }
   ],
   "source": [
    "torch.Tensor(test_feats[\"miya_mcy\"][0:20].reshape(-1))"
   ]
  },
  {
   "cell_type": "code",
   "execution_count": 168,
   "metadata": {},
   "outputs": [],
   "source": [
    "# test_feats = { u:d for u,d in kaldi_io.read_mat_scp(\"/home1/meichaoyang/workspace/align_44_1k/test_feat/feats.scp\")}\n",
    "\n",
    "pred_label = model(torch.Tensor(test_feats[\"miya_mcy\"]).to(device))\n",
    "_, answer = torch.max(pred_label.data, 1)\n",
    "answer_list=list(answer.to(\"cpu\", torch.int).numpy())"
   ]
  },
  {
   "cell_type": "code",
   "execution_count": 173,
   "metadata": {},
   "outputs": [],
   "source": [
    "# utt='SV0255_2_00_F0021'\n",
    "utt=\"SV0255_7_01_S3881\"\n",
    "# utt=list(phone_label.keys())[110]\n",
    "\n",
    "# label_list = list(phone_label_dev[utt])\n",
    "pred_label = model(torch.Tensor(SLR_feats_dev[utt]).to(device))\n",
    "_, answer = torch.max(pred_label.data, 1)\n",
    "answer_list=list(answer.to(\"cpu\", torch.int).numpy())"
   ]
  },
  {
   "cell_type": "code",
   "execution_count": null,
   "metadata": {},
   "outputs": [],
   "source": [
    "utt=list(feats_aishell.keys())[11]\n",
    "\n",
    "label_list = list(feats_aishell[utt])\n",
    "pred_label = model(torch.Tensor(feats_aishell[utt]).to(device))\n",
    "_, answer = torch.max(pred_label.data, 1)\n",
    "answer_list=list(answer.to(\"cpu\", torch.int).numpy())"
   ]
  },
  {
   "cell_type": "markdown",
   "metadata": {},
   "source": [
    "## 将预测结果映射"
   ]
  },
  {
   "cell_type": "code",
   "execution_count": 174,
   "metadata": {},
   "outputs": [],
   "source": [
    "decoder = Decoder(Data_show.phone2class)"
   ]
  },
  {
   "cell_type": "code",
   "execution_count": 175,
   "metadata": {},
   "outputs": [
    {
     "name": "stderr",
     "output_type": "stream",
     "text": [
      "/home1/meichaoyang/anaconda3/lib/python3.7/site-packages/ipykernel_launcher.py:1: UserWarning: Implicit dimension choice for softmax has been deprecated. Change the call to include dim=X as an argument.\n",
      "  \"\"\"Entry point for launching an IPython kernel.\n"
     ]
    }
   ],
   "source": [
    "title1, content1 = decoder.show_result(decoder.decode(torch.nn.Softmax()(pred_label)))"
   ]
  },
  {
   "cell_type": "code",
   "execution_count": 176,
   "metadata": {},
   "outputs": [
    {
     "name": "stderr",
     "output_type": "stream",
     "text": [
      "/home1/meichaoyang/anaconda3/lib/python3.7/site-packages/ipykernel_launcher.py:1: UserWarning: Implicit dimension choice for softmax has been deprecated. Change the call to include dim=X as an argument.\n",
      "  \"\"\"Entry point for launching an IPython kernel.\n"
     ]
    }
   ],
   "source": [
    "title, content = Data_show().show_softmax(torch.nn.Softmax()(pred_label))"
   ]
  },
  {
   "cell_type": "code",
   "execution_count": 177,
   "metadata": {},
   "outputs": [
    {
     "name": "stdout",
     "output_type": "stream",
     "text": [
      "\tsil\tnsn\tn\ti2\th\tao3\tm\ti3\tii\tia3\tother\n",
      " 0:\t0.84\t0.03\t0.00\t0.00\t0.00\t0.01\t0.01\t0.00\t0.00\t0.11\t\n",
      "1:\t0.90\t0.03\t0.00\t0.00\t0.00\t0.00\t0.00\t0.00\t0.00\t0.06\t\n",
      "2:\t0.94\t0.02\t0.00\t0.00\t0.00\t0.00\t0.00\t0.00\t0.00\t0.04\t\n",
      "3:\t0.95\t0.01\t0.00\t0.00\t0.00\t0.00\t0.00\t0.00\t0.00\t0.03\t\n",
      "4:\t0.76\t0.07\t0.00\t0.00\t0.00\t0.01\t0.01\t0.00\t0.00\t0.13\t\n",
      "5:\t0.16\t0.09\t0.00\t0.00\t0.00\t0.74\t0.00\t0.00\t0.00\t0.00\t\n",
      "6:\t0.34\t0.19\t0.00\t0.00\t0.00\t0.43\t0.01\t0.00\t0.00\t0.03\t\n",
      "7:\t0.47\t0.09\t0.00\t0.00\t0.00\t0.43\t0.00\t0.00\t0.00\t0.00\t\n",
      "8:\t0.13\t0.08\t0.00\t0.00\t0.00\t0.77\t0.00\t0.00\t0.00\t0.01\t\n",
      "9:\t0.11\t0.14\t0.00\t0.00\t0.00\t0.75\t0.01\t0.00\t0.00\t0.00\t\n",
      "10:\t0.01\t0.13\t0.41\t0.00\t0.00\t0.10\t0.10\t0.24\t0.01\t0.00\t\n",
      "11:\t0.01\t0.13\t0.39\t0.00\t0.00\t0.09\t0.12\t0.26\t0.00\t0.00\t\n",
      "12:\t0.00\t0.14\t0.37\t0.00\t0.00\t0.09\t0.14\t0.25\t0.00\t0.00\t\n",
      "13:\t0.00\t0.11\t0.39\t0.00\t0.00\t0.06\t0.15\t0.29\t0.00\t0.00\t\n",
      "14:\t0.00\t0.09\t0.41\t0.00\t0.00\t0.05\t0.14\t0.30\t0.00\t0.00\t\n",
      "15:\t0.00\t0.07\t0.43\t0.00\t0.00\t0.03\t0.13\t0.33\t0.00\t0.00\t\n",
      "16:\t0.00\t0.06\t0.43\t0.00\t0.00\t0.02\t0.12\t0.35\t0.00\t0.00\t\n",
      "17:\t0.00\t0.08\t0.42\t0.00\t0.00\t0.03\t0.15\t0.32\t0.00\t0.00\t\n",
      "18:\t0.00\t0.13\t0.36\t0.00\t0.00\t0.06\t0.18\t0.26\t0.00\t0.00\t\n",
      "19:\t0.01\t0.27\t0.22\t0.00\t0.00\t0.24\t0.16\t0.10\t0.00\t0.00\t\n",
      "20:\t0.00\t0.12\t0.34\t0.00\t0.00\t0.05\t0.19\t0.30\t0.00\t0.00\t\n",
      "21:\t0.01\t0.05\t0.42\t0.01\t0.00\t0.05\t0.05\t0.38\t0.04\t0.01\t\n",
      "22:\t0.01\t0.17\t0.28\t0.00\t0.00\t0.10\t0.18\t0.25\t0.00\t0.00\t\n",
      "23:\t0.13\t0.02\t0.39\t0.13\t0.00\t0.04\t0.04\t0.20\t0.05\t0.01\t\n",
      "24:\t0.48\t0.00\t0.09\t0.36\t0.00\t0.00\t0.00\t0.02\t0.03\t0.00\t\n",
      "25:\t0.04\t0.00\t0.12\t0.76\t0.00\t0.00\t0.00\t0.01\t0.06\t0.00\t\n",
      "26:\t0.01\t0.00\t0.06\t0.90\t0.00\t0.00\t0.00\t0.00\t0.02\t0.00\t\n",
      "27:\t0.01\t0.00\t0.04\t0.93\t0.00\t0.00\t0.00\t0.00\t0.01\t0.00\t\n",
      "28:\t0.05\t0.00\t0.01\t0.91\t0.00\t0.00\t0.00\t0.00\t0.01\t0.01\t\n",
      "29:\t0.05\t0.00\t0.02\t0.89\t0.00\t0.00\t0.00\t0.00\t0.00\t0.04\t\n",
      "30:\t0.03\t0.00\t0.03\t0.90\t0.00\t0.00\t0.00\t0.01\t0.00\t0.02\t\n",
      "31:\t0.07\t0.00\t0.03\t0.87\t0.00\t0.00\t0.00\t0.01\t0.00\t0.01\t\n",
      "32:\t0.01\t0.00\t0.01\t0.96\t0.00\t0.00\t0.00\t0.00\t0.01\t0.00\t\n",
      "33:\t0.00\t0.00\t0.00\t0.97\t0.00\t0.00\t0.00\t0.00\t0.00\t0.01\t\n",
      "34:\t0.01\t0.00\t0.01\t0.81\t0.00\t0.00\t0.00\t0.00\t0.00\t0.16\t\n",
      "35:\t0.01\t0.00\t0.03\t0.94\t0.00\t0.00\t0.00\t0.00\t0.01\t0.01\t\n",
      "36:\t0.02\t0.00\t0.04\t0.89\t0.00\t0.00\t0.00\t0.00\t0.02\t0.02\t\n",
      "37:\t0.03\t0.00\t0.02\t0.93\t0.00\t0.00\t0.00\t0.00\t0.01\t0.00\t\n",
      "38:\t0.52\t0.00\t0.02\t0.14\t0.01\t0.00\t0.00\t0.00\t0.31\t0.00\t\n",
      "39:\t0.02\t0.00\t0.00\t0.16\t0.79\t0.01\t0.00\t0.00\t0.00\t0.00\t\n",
      "40:\t0.04\t0.00\t0.00\t0.22\t0.68\t0.02\t0.00\t0.00\t0.04\t0.00\t\n",
      "41:\t0.03\t0.00\t0.00\t0.20\t0.71\t0.02\t0.00\t0.00\t0.03\t0.00\t\n",
      "42:\t0.01\t0.00\t0.00\t0.17\t0.79\t0.01\t0.00\t0.00\t0.01\t0.00\t\n",
      "43:\t0.01\t0.00\t0.00\t0.19\t0.76\t0.01\t0.00\t0.00\t0.02\t0.00\t\n",
      "44:\t0.03\t0.00\t0.00\t0.14\t0.78\t0.01\t0.00\t0.00\t0.02\t0.00\t\n",
      "45:\t0.03\t0.00\t0.00\t0.11\t0.82\t0.01\t0.00\t0.00\t0.02\t0.00\t\n",
      "46:\t0.04\t0.00\t0.00\t0.11\t0.81\t0.01\t0.00\t0.00\t0.02\t0.00\t\n",
      "47:\t0.04\t0.00\t0.00\t0.16\t0.76\t0.01\t0.00\t0.00\t0.04\t0.00\t\n",
      "48:\t0.02\t0.00\t0.00\t0.10\t0.85\t0.01\t0.00\t0.00\t0.02\t0.00\t\n",
      "49:\t0.02\t0.00\t0.00\t0.05\t0.90\t0.01\t0.00\t0.00\t0.01\t0.00\t\n",
      "50:\t0.19\t0.00\t0.00\t0.03\t0.76\t0.00\t0.00\t0.00\t0.01\t0.01\t\n",
      "51:\t0.09\t0.00\t0.00\t0.03\t0.85\t0.00\t0.00\t0.00\t0.02\t0.00\t\n",
      "52:\t0.10\t0.00\t0.00\t0.06\t0.80\t0.04\t0.00\t0.00\t0.01\t0.01\t\n",
      "53:\t0.10\t0.00\t0.00\t0.08\t0.76\t0.05\t0.00\t0.00\t0.00\t0.01\t\n",
      "54:\t0.35\t0.00\t0.00\t0.47\t0.06\t0.01\t0.01\t0.00\t0.00\t0.10\t\n",
      "55:\t0.09\t0.00\t0.01\t0.85\t0.01\t0.00\t0.01\t0.00\t0.00\t0.03\t\n",
      "56:\t0.88\t0.01\t0.00\t0.01\t0.04\t0.03\t0.01\t0.00\t0.00\t0.03\t\n",
      "57:\t0.63\t0.00\t0.00\t0.01\t0.32\t0.00\t0.00\t0.00\t0.00\t0.03\t\n",
      "58:\t0.53\t0.00\t0.00\t0.02\t0.37\t0.00\t0.00\t0.00\t0.00\t0.08\t\n",
      "59:\t0.26\t0.00\t0.00\t0.03\t0.32\t0.00\t0.00\t0.00\t0.00\t0.39\t\n",
      "60:\t0.86\t0.01\t0.00\t0.00\t0.01\t0.01\t0.00\t0.00\t0.00\t0.11\t\n",
      "61:\t0.89\t0.00\t0.00\t0.01\t0.03\t0.00\t0.00\t0.00\t0.00\t0.07\t\n",
      "62:\t0.80\t0.07\t0.00\t0.00\t0.00\t0.03\t0.02\t0.00\t0.00\t0.08\t\n",
      "63:\t0.88\t0.00\t0.00\t0.00\t0.06\t0.00\t0.00\t0.00\t0.00\t0.05\t\n",
      "64:\t0.62\t0.00\t0.00\t0.00\t0.06\t0.01\t0.00\t0.00\t0.00\t0.30\t\n",
      "65:\t0.77\t0.00\t0.00\t0.00\t0.02\t0.00\t0.00\t0.00\t0.00\t0.20\t\n",
      "66:\t0.93\t0.01\t0.00\t0.00\t0.00\t0.00\t0.00\t0.00\t0.00\t0.05\t\n",
      "67:\t0.96\t0.01\t0.00\t0.00\t0.00\t0.00\t0.00\t0.00\t0.00\t0.03\t\n",
      "68:\t0.83\t0.02\t0.00\t0.00\t0.00\t0.01\t0.01\t0.00\t0.00\t0.13\t\n",
      "69:\t0.89\t0.01\t0.00\t0.00\t0.00\t0.00\t0.00\t0.00\t0.00\t0.09\t\n",
      "70:\t0.73\t0.07\t0.00\t0.00\t0.00\t0.01\t0.02\t0.00\t0.00\t0.17\t\n",
      "71:\t0.78\t0.07\t0.00\t0.00\t0.00\t0.01\t0.01\t0.00\t0.00\t0.13\t\n",
      "72:\t0.92\t0.02\t0.00\t0.00\t0.00\t0.00\t0.00\t0.00\t0.00\t0.05\t\n",
      "73:\t0.94\t0.01\t0.00\t0.00\t0.00\t0.00\t0.00\t0.00\t0.00\t0.04\t\n",
      "74:\t0.85\t0.04\t0.00\t0.00\t0.00\t0.01\t0.01\t0.00\t0.00\t0.09\t\n",
      "75:\t0.73\t0.07\t0.00\t0.00\t0.00\t0.02\t0.01\t0.00\t0.00\t0.16\t\n",
      "76:\t0.87\t0.04\t0.00\t0.00\t0.00\t0.01\t0.00\t0.00\t0.00\t0.08\t\n",
      "77:\t0.86\t0.04\t0.00\t0.00\t0.00\t0.01\t0.01\t0.00\t0.00\t0.08\t\n",
      "78:\t0.86\t0.04\t0.00\t0.00\t0.00\t0.01\t0.00\t0.00\t0.00\t0.09\t\n",
      "79:\t0.85\t0.04\t0.00\t0.00\t0.00\t0.01\t0.01\t0.00\t0.00\t0.10\t\n",
      "80:\t0.94\t0.02\t0.00\t0.00\t0.00\t0.00\t0.00\t0.00\t0.00\t0.03\t\n",
      "81:\t0.97\t0.01\t0.00\t0.00\t0.00\t0.00\t0.00\t0.00\t0.00\t0.02\t\n",
      "82:\t0.89\t0.04\t0.00\t0.00\t0.00\t0.01\t0.00\t0.00\t0.00\t0.06\t\n",
      "83:\t0.66\t0.12\t0.00\t0.00\t0.00\t0.13\t0.02\t0.00\t0.00\t0.08\t\n",
      "84:\t0.50\t0.16\t0.00\t0.00\t0.00\t0.27\t0.02\t0.00\t0.00\t0.05\t\n",
      "85:\t0.31\t0.13\t0.00\t0.00\t0.00\t0.54\t0.01\t0.00\t0.00\t0.00\t\n",
      "86:\t0.19\t0.11\t0.00\t0.00\t0.00\t0.69\t0.00\t0.00\t0.00\t0.00\t\n",
      "87:\t0.18\t0.14\t0.00\t0.00\t0.00\t0.67\t0.01\t0.00\t0.00\t0.00\t\n",
      "88:\t0.01\t0.34\t0.14\t0.00\t0.00\t0.15\t0.25\t0.10\t0.00\t0.00\t\n",
      "89:\t0.00\t0.14\t0.31\t0.00\t0.00\t0.05\t0.25\t0.24\t0.00\t0.00\t\n",
      "90:\t0.00\t0.14\t0.28\t0.00\t0.00\t0.04\t0.28\t0.27\t0.00\t0.00\t\n",
      "91:\t0.00\t0.10\t0.33\t0.00\t0.00\t0.03\t0.20\t0.33\t0.00\t0.00\t\n",
      "92:\t0.00\t0.13\t0.30\t0.00\t0.00\t0.04\t0.23\t0.29\t0.00\t0.00\t\n",
      "93:\t0.00\t0.15\t0.29\t0.00\t0.00\t0.05\t0.24\t0.26\t0.00\t0.00\t\n",
      "94:\t0.00\t0.10\t0.32\t0.00\t0.00\t0.04\t0.18\t0.35\t0.00\t0.00\t\n",
      "95:\t0.00\t0.19\t0.24\t0.00\t0.00\t0.06\t0.28\t0.23\t0.00\t0.00\t\n",
      "96:\t0.01\t0.38\t0.10\t0.00\t0.00\t0.17\t0.26\t0.07\t0.00\t0.00\t\n",
      "97:\t0.01\t0.38\t0.10\t0.00\t0.00\t0.16\t0.28\t0.07\t0.00\t0.00\t\n",
      "98:\t0.03\t0.44\t0.06\t0.00\t0.00\t0.21\t0.22\t0.04\t0.00\t0.00\t\n",
      "99:\t0.02\t0.41\t0.07\t0.00\t0.00\t0.16\t0.28\t0.06\t0.00\t0.00\t\n",
      "100:\t0.01\t0.29\t0.11\t0.00\t0.00\t0.08\t0.38\t0.12\t0.00\t0.00\t\n",
      "101:\t0.01\t0.25\t0.14\t0.00\t0.00\t0.07\t0.38\t0.14\t0.00\t0.00\t\n",
      "102:\t0.00\t0.20\t0.18\t0.00\t0.00\t0.05\t0.37\t0.19\t0.00\t0.00\t\n",
      "103:\t0.00\t0.18\t0.19\t0.00\t0.00\t0.04\t0.34\t0.24\t0.00\t0.00\t\n",
      "104:\t0.00\t0.12\t0.26\t0.00\t0.00\t0.03\t0.25\t0.33\t0.00\t0.00\t\n",
      "105:\t0.00\t0.12\t0.30\t0.00\t0.00\t0.04\t0.21\t0.33\t0.00\t0.00\t\n",
      "106:\t0.00\t0.06\t0.34\t0.00\t0.00\t0.02\t0.11\t0.46\t0.00\t0.00\t\n",
      "107:\t0.00\t0.05\t0.34\t0.00\t0.00\t0.03\t0.08\t0.48\t0.01\t0.00\t\n",
      "108:\t0.01\t0.01\t0.42\t0.02\t0.00\t0.01\t0.01\t0.29\t0.22\t0.00\t\n",
      "109:\t0.01\t0.00\t0.41\t0.04\t0.00\t0.01\t0.00\t0.15\t0.37\t0.00\t\n",
      "110:\t0.02\t0.00\t0.03\t0.02\t0.00\t0.00\t0.00\t0.00\t0.92\t0.00\t\n",
      "111:\t0.01\t0.00\t0.01\t0.02\t0.00\t0.00\t0.00\t0.00\t0.96\t0.00\t\n",
      "112:\t0.01\t0.00\t0.06\t0.13\t0.00\t0.00\t0.00\t0.00\t0.79\t0.00\t\n",
      "113:\t0.03\t0.00\t0.03\t0.07\t0.00\t0.00\t0.00\t0.00\t0.85\t0.00\t\n",
      "114:\t0.14\t0.00\t0.00\t0.03\t0.01\t0.00\t0.00\t0.00\t0.83\t0.00\t\n",
      "115:\t0.01\t0.00\t0.00\t0.02\t0.01\t0.00\t0.00\t0.00\t0.96\t0.00\t\n",
      "116:\t0.27\t0.00\t0.00\t0.01\t0.01\t0.00\t0.00\t0.00\t0.71\t0.00\t\n",
      "117:\t0.01\t0.00\t0.00\t0.03\t0.03\t0.00\t0.00\t0.00\t0.93\t0.00\t\n",
      "118:\t0.01\t0.00\t0.00\t0.02\t0.03\t0.00\t0.00\t0.00\t0.92\t0.00\t\n",
      "119:\t0.66\t0.00\t0.01\t0.13\t0.01\t0.00\t0.00\t0.00\t0.15\t0.03\t\n",
      "120:\t0.45\t0.00\t0.00\t0.02\t0.03\t0.00\t0.00\t0.00\t0.50\t0.00\t\n",
      "121:\t0.57\t0.00\t0.00\t0.06\t0.01\t0.00\t0.00\t0.00\t0.35\t0.00\t\n",
      "122:\t0.65\t0.00\t0.00\t0.01\t0.01\t0.00\t0.00\t0.00\t0.32\t0.00\t\n",
      "123:\t0.14\t0.00\t0.00\t0.01\t0.01\t0.00\t0.00\t0.00\t0.83\t0.00\t\n",
      "124:\t0.04\t0.00\t0.00\t0.02\t0.06\t0.00\t0.00\t0.00\t0.88\t0.00\t\n",
      "125:\t0.88\t0.00\t0.00\t0.03\t0.01\t0.00\t0.00\t0.00\t0.08\t0.01\t\n",
      "126:\t0.76\t0.00\t0.00\t0.01\t0.01\t0.00\t0.00\t0.00\t0.21\t0.00\t\n",
      "127:\t0.88\t0.00\t0.00\t0.00\t0.01\t0.00\t0.00\t0.00\t0.10\t0.01\t\n",
      "128:\t0.91\t0.00\t0.00\t0.00\t0.00\t0.00\t0.00\t0.00\t0.08\t0.00\t\n",
      "129:\t0.76\t0.00\t0.00\t0.00\t0.01\t0.00\t0.00\t0.00\t0.23\t0.00\t\n",
      "130:\t0.92\t0.00\t0.00\t0.00\t0.00\t0.00\t0.00\t0.00\t0.07\t0.00\t\n",
      "131:\t0.87\t0.00\t0.00\t0.00\t0.01\t0.00\t0.00\t0.00\t0.12\t0.00\t\n",
      "132:\t0.93\t0.00\t0.00\t0.00\t0.01\t0.00\t0.00\t0.00\t0.05\t0.00\t\n",
      "133:\t0.96\t0.00\t0.00\t0.00\t0.00\t0.00\t0.00\t0.00\t0.03\t0.00\t\n",
      "134:\t0.98\t0.00\t0.00\t0.00\t0.00\t0.00\t0.00\t0.00\t0.00\t0.01\t\n",
      "135:\t0.96\t0.00\t0.00\t0.00\t0.01\t0.00\t0.00\t0.00\t0.03\t0.00\t\n",
      "136:\t0.79\t0.00\t0.00\t0.00\t0.15\t0.00\t0.00\t0.00\t0.01\t0.04\t\n",
      "\n"
     ]
    }
   ],
   "source": [
    "print(title,content)"
   ]
  },
  {
   "cell_type": "code",
   "execution_count": 96,
   "metadata": {},
   "outputs": [
    {
     "data": {
      "text/plain": [
       "'IC0104W0428'"
      ]
     },
     "execution_count": 96,
     "metadata": {},
     "output_type": "execute_result"
    },
    {
     "data": {
      "text/plain": [
       "'IC0104W0428'"
      ]
     },
     "execution_count": 96,
     "metadata": {},
     "output_type": "execute_result"
    }
   ],
   "source": [
    "utt"
   ]
  },
  {
   "cell_type": "markdown",
   "metadata": {},
   "source": [
    "### “你好米雅”测试"
   ]
  },
  {
   "cell_type": "code",
   "execution_count": null,
   "metadata": {},
   "outputs": [],
   "source": [
    "feats_miya_test = { u:d for u,d in kaldi_io.read_mat_scp(\"/home1/meichaoyang/Dataset/feats/SLR85/far_field/train/feats.scp\") }"
   ]
  },
  {
   "cell_type": "code",
   "execution_count": null,
   "metadata": {},
   "outputs": [],
   "source": [
    "utt_miya_test=list(feats_miya_test.keys())[420]\n",
    "# utt_aishell=\"IC0001W0406\"\n",
    "\n",
    "pred_label_miya_test = model(torch.Tensor(feats_miya_test[utt_miya_test]).to(device))\n",
    "_, answer_miya_test = torch.max(pred_label_miya_test.data, 1)\n",
    "answer_miya_test_list=list(answer_miya_test.to(\"cpu\", torch.int).numpy())"
   ]
  },
  {
   "cell_type": "code",
   "execution_count": null,
   "metadata": {},
   "outputs": [],
   "source": [
    "title, content = Data_show().show_softmax(torch.nn.Softmax()(pred_label_miya_test))"
   ]
  },
  {
   "cell_type": "code",
   "execution_count": null,
   "metadata": {},
   "outputs": [],
   "source": [
    "print(title)\n",
    "print(content)"
   ]
  },
  {
   "cell_type": "code",
   "execution_count": null,
   "metadata": {},
   "outputs": [],
   "source": [
    "feats[utt_miya_test]"
   ]
  },
  {
   "cell_type": "markdown",
   "metadata": {},
   "source": [
    "## 非“你好米雅”测试"
   ]
  },
  {
   "cell_type": "code",
   "execution_count": null,
   "metadata": {},
   "outputs": [],
   "source": [
    "feats_aishell = { u:d for u,d in kaldi_io.read_mat_scp(\"../wake_dnn_miya_only/feats_aishell2_test/feats.scp\") }"
   ]
  },
  {
   "cell_type": "code",
   "execution_count": null,
   "metadata": {},
   "outputs": [],
   "source": [
    "utt_aishell=list(feats_aishell.keys())[420]\n",
    "utt_aishell=\"IC0001W0406\"\n",
    "\n",
    "pred_label_aishell = model(torch.Tensor(feats_aishell[utt_aishell]).to(device))\n",
    "_, answer_aishell = torch.max(pred_label_aishell.data, 1)\n",
    "answer_aishell_list=list(answer_aishell.to(\"cpu\", torch.int).numpy())"
   ]
  },
  {
   "cell_type": "code",
   "execution_count": null,
   "metadata": {},
   "outputs": [],
   "source": [
    "decoder.show_result(decoder.decode(torch.nn.Softmax()(pred_label_aishell)))"
   ]
  },
  {
   "cell_type": "code",
   "execution_count": null,
   "metadata": {},
   "outputs": [],
   "source": [
    "Data_show().show_softmax(torch.nn.Softmax()(pred_label_aishell))"
   ]
  },
  {
   "cell_type": "code",
   "execution_count": null,
   "metadata": {},
   "outputs": [],
   "source": [
    "utt_aishell"
   ]
  },
  {
   "cell_type": "markdown",
   "metadata": {},
   "source": [
    "## 保存模型"
   ]
  },
  {
   "cell_type": "code",
   "execution_count": 184,
   "metadata": {},
   "outputs": [
    {
     "name": "stderr",
     "output_type": "stream",
     "text": [
      "/home1/meichaoyang/anaconda3/lib/python3.7/site-packages/torch/serialization.py:360: UserWarning: Couldn't retrieve source code for container of type DNN. It won't be checked for correctness upon loading.\n",
      "  \"type \" + obj.__name__ + \". It won't be checked \"\n"
     ]
    }
   ],
   "source": [
    "torch.save(model.to(\"cpu\"), 'model.pkl')\n",
    "model1 = torch.load('model.pkl')"
   ]
  },
  {
   "cell_type": "code",
   "execution_count": null,
   "metadata": {},
   "outputs": [],
   "source": [
    "sm = torch.jit.script(model1)\n",
    "sm.save(\"phone_cla_model.pt\")"
   ]
  },
  {
   "cell_type": "code",
   "execution_count": null,
   "metadata": {},
   "outputs": [],
   "source": [
    "model1 = torch.load('model.pkl')"
   ]
  },
  {
   "cell_type": "code",
   "execution_count": null,
   "metadata": {},
   "outputs": [],
   "source": [
    "model1"
   ]
  },
  {
   "cell_type": "code",
   "execution_count": null,
   "metadata": {},
   "outputs": [],
   "source": [
    "map1={1:\"1-1\",2:\"2-1\",3:\"3-1\"}"
   ]
  },
  {
   "cell_type": "code",
   "execution_count": null,
   "metadata": {},
   "outputs": [],
   "source": [
    "map2={2:\"2-2\",3:\"3-2\",4:\"4-2\"}"
   ]
  },
  {
   "cell_type": "code",
   "execution_count": null,
   "metadata": {},
   "outputs": [],
   "source": [
    "{**map1,**map2}"
   ]
  },
  {
   "cell_type": "code",
   "execution_count": null,
   "metadata": {},
   "outputs": [],
   "source": [
    "{**map2,**map1}"
   ]
  },
  {
   "cell_type": "code",
   "execution_count": null,
   "metadata": {},
   "outputs": [],
   "source": []
  }
 ],
 "metadata": {
  "kernelspec": {
   "display_name": "Python 3",
   "language": "python",
   "name": "python3"
  },
  "language_info": {
   "codemirror_mode": {
    "name": "ipython",
    "version": 3
   },
   "file_extension": ".py",
   "mimetype": "text/x-python",
   "name": "python",
   "nbconvert_exporter": "python",
   "pygments_lexer": "ipython3",
   "version": "3.7.3"
  }
 },
 "nbformat": 4,
 "nbformat_minor": 2
}
